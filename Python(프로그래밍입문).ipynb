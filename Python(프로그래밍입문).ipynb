{
  "nbformat": 4,
  "nbformat_minor": 0,
  "metadata": {
    "colab": {
      "provenance": [],
      "toc_visible": true,
      "authorship_tag": "ABX9TyNTRiXLXfmoyrT/2wFbkt8h",
      "include_colab_link": true
    },
    "kernelspec": {
      "name": "python3",
      "display_name": "Python 3"
    },
    "language_info": {
      "name": "python"
    }
  },
  "cells": [
    {
      "cell_type": "markdown",
      "metadata": {
        "id": "view-in-github",
        "colab_type": "text"
      },
      "source": [
        "<a href=\"https://colab.research.google.com/github/yoonkei/Python_Basic/blob/main/Python(%ED%94%84%EB%A1%9C%EA%B7%B8%EB%9E%98%EB%B0%8D%EC%9E%85%EB%AC%B8).ipynb\" target=\"_parent\"><img src=\"https://colab.research.google.com/assets/colab-badge.svg\" alt=\"Open In Colab\"/></a>"
      ]
    },
    {
      "cell_type": "markdown",
      "source": [
        "**Python**\n",
        "\n",
        "---\n",
        "\n",
        "\n"
      ],
      "metadata": {
        "id": "NjVg-w8LoWYf"
      }
    },
    {
      "cell_type": "markdown",
      "source": [
        "# 자료형(Data type)"
      ],
      "metadata": {
        "id": "rNc3hj2mtjFU"
      }
    },
    {
      "cell_type": "markdown",
      "source": [
        "프로그래밍을 할 때 쓰이는 자료형태\n",
        "\n",
        "> 종류\n",
        "\n",
        "1. 숫자(정수, 실수, 복소수, 8진수, 16진수)\n",
        "2. 문자열\n",
        "3. 리스트, 튜플, 딕셔너리\n",
        "4. 집합\n",
        "\n",
        "\n",
        "\n",
        "\n",
        "\n",
        "\n",
        "\n",
        "\n",
        "\n",
        "\n",
        "\n",
        "\n",
        "\n",
        "\n",
        "\n",
        "\n",
        "\n",
        "\n",
        "\n"
      ],
      "metadata": {
        "id": "TqfkjvUco_aa"
      }
    },
    {
      "cell_type": "markdown",
      "source": [
        "## 숫자형(Numbers)\n",
        "\n",
        "\n"
      ],
      "metadata": {
        "id": "qi12psIurB46"
      }
    },
    {
      "cell_type": "markdown",
      "source": [
        "숫자 연산은 사칙연산 지원\n",
        "\n",
        "> 종류\n",
        "\n",
        "1. 나누기 /\n",
        "2. 거듭제곱 **\n",
        "3. 나머지 % (항상 결과가 정수로만 나옴)\n",
        "4. 소수점 버림 //"
      ],
      "metadata": {
        "id": "6FG_WpFmofWc"
      }
    },
    {
      "cell_type": "code",
      "source": [
        "7 / 4"
      ],
      "metadata": {
        "colab": {
          "base_uri": "https://localhost:8080/"
        },
        "id": "6YRsRY7koC_V",
        "outputId": "6b0e408e-37ee-4ce1-d9be-71dea877d346"
      },
      "execution_count": null,
      "outputs": [
        {
          "output_type": "execute_result",
          "data": {
            "text/plain": [
              "3"
            ]
          },
          "metadata": {},
          "execution_count": 3
        }
      ]
    },
    {
      "cell_type": "code",
      "source": [
        "7 // 4"
      ],
      "metadata": {
        "colab": {
          "base_uri": "https://localhost:8080/"
        },
        "id": "JwTydEl-oPDr",
        "outputId": "207e2858-2410-4e96-88eb-0f087aef6c64"
      },
      "execution_count": null,
      "outputs": [
        {
          "output_type": "execute_result",
          "data": {
            "text/plain": [
              "1"
            ]
          },
          "metadata": {},
          "execution_count": 4
        }
      ]
    },
    {
      "cell_type": "code",
      "source": [
        "7 % 4"
      ],
      "metadata": {
        "colab": {
          "base_uri": "https://localhost:8080/"
        },
        "id": "EhIy2lOAoRpu",
        "outputId": "2cf3a5d8-2b97-40f7-930f-571321d3d789"
      },
      "execution_count": null,
      "outputs": [
        {
          "output_type": "execute_result",
          "data": {
            "text/plain": [
              "3"
            ]
          },
          "metadata": {},
          "execution_count": 5
        }
      ]
    },
    {
      "cell_type": "markdown",
      "source": [
        "##문자열(Strings)"
      ],
      "metadata": {
        "id": "fhA_4H80s1-6"
      }
    },
    {
      "cell_type": "markdown",
      "source": [
        "###문자열 연산\n",
        "\n",
        "합치기(+), *(반복 합치기)"
      ],
      "metadata": {
        "id": "QcT3ET5WtyNN"
      }
    },
    {
      "cell_type": "code",
      "source": [
        "head = \"Python\"\n",
        "tail = \"is fun!\"\n",
        "head + tail"
      ],
      "metadata": {
        "colab": {
          "base_uri": "https://localhost:8080/",
          "height": 325
        },
        "id": "tcfXPMz-o-_u",
        "outputId": "b84678f2-49b3-438e-f427-eb521ad140d9"
      },
      "execution_count": null,
      "outputs": [
        {
          "output_type": "execute_result",
          "data": {
            "text/plain": [
              "'Pythonis fun!'"
            ],
            "application/vnd.google.colaboratory.intrinsic+json": {
              "type": "string"
            }
          },
          "metadata": {},
          "execution_count": 8
        }
      ]
    },
    {
      "cell_type": "code",
      "execution_count": null,
      "metadata": {
        "colab": {
          "base_uri": "https://localhost:8080/",
          "height": 307
        },
        "id": "BE_-049PoTM9",
        "outputId": "5e38f5d6-c20d-4d18-c11c-5461edcbc082"
      },
      "outputs": [
        {
          "output_type": "execute_result",
          "data": {
            "text/plain": [
              "'PythonPython'"
            ],
            "application/vnd.google.colaboratory.intrinsic+json": {
              "type": "string"
            }
          },
          "metadata": {},
          "execution_count": 9
        }
      ],
      "source": [
        "a = \"Python\"\n",
        "a * 2"
      ]
    },
    {
      "cell_type": "markdown",
      "source": [
        "### Escape Code\n",
        "\n",
        "\\n 개행(줄바꿈)\n",
        "\n",
        "\\v 수직 탭\n",
        "\n",
        "\\t 수평 탭"
      ],
      "metadata": {
        "id": "REeEXYlts7jM"
      }
    },
    {
      "cell_type": "code",
      "source": [
        "saying = \"life is too short\\nYou need Python\"\n",
        "print(saying)"
      ],
      "metadata": {
        "colab": {
          "base_uri": "https://localhost:8080/"
        },
        "id": "A8CSZYZ0vGFD",
        "outputId": "aaaa0118-50ae-4209-c96e-8b9ad010f30b"
      },
      "execution_count": null,
      "outputs": [
        {
          "output_type": "stream",
          "name": "stdout",
          "text": [
            "life is too short\n",
            "You need Python\n"
          ]
        }
      ]
    },
    {
      "cell_type": "markdown",
      "source": [
        "### Indexing & Slicing"
      ],
      "metadata": {
        "id": "ZGHqv5C_vuNp"
      }
    },
    {
      "cell_type": "markdown",
      "source": [
        "문자열 인덱싱\n",
        "\n",
        ": 문자의 순서 메기기\n",
        "\n",
        "\n",
        "**파이썬은 0부터 순서 메기는 거 주의!!!!!!**\n",
        "\n",
        "**문자열 뒤에서부터 읽을 때는 마이너스 기호 붙이기**"
      ],
      "metadata": {
        "id": "pJ4asR7_wbS4"
      }
    },
    {
      "cell_type": "code",
      "source": [
        "a = \"Life is too short, You need Python\"\n",
        "print(a[0])\n",
        "print(a[-1]) #뒤에서 세었을 때 첫번째 문자"
      ],
      "metadata": {
        "colab": {
          "base_uri": "https://localhost:8080/"
        },
        "id": "mJZvSgo8vGOh",
        "outputId": "aa6faae4-9440-48f1-82f8-de32a37873b7"
      },
      "execution_count": null,
      "outputs": [
        {
          "output_type": "stream",
          "name": "stdout",
          "text": [
            "L\n",
            "n\n"
          ]
        }
      ]
    },
    {
      "cell_type": "markdown",
      "source": [
        "문자열 슬라이싱\n",
        "\n",
        ": 문자열 내의 서브문자열들 순서 메기기\n",
        "\n",
        "**슬라이싱시 끝 인덱스는 안들어가고 시작 인덱스만 들어가는 것 의의하기**"
      ],
      "metadata": {
        "id": "X790P9r_yhmm"
      }
    },
    {
      "cell_type": "code",
      "source": [
        "a[0:3] #0,1,2번쨰 글자\n",
        "a[19:] #19부터 끝까지\n",
        "a[:17] #처음부터 16까지\n",
        "a[19:-7] #19번째 글짜에서 -8번째 글자까지"
      ],
      "metadata": {
        "colab": {
          "base_uri": "https://localhost:8080/",
          "height": 36
        },
        "id": "iNOsI__OvGaS",
        "outputId": "3369f1cd-c736-4b74-ac45-ab33f5e738bf"
      },
      "execution_count": null,
      "outputs": [
        {
          "output_type": "execute_result",
          "data": {
            "text/plain": [
              "'You need'"
            ],
            "application/vnd.google.colaboratory.intrinsic+json": {
              "type": "string"
            }
          },
          "metadata": {},
          "execution_count": 14
        }
      ]
    },
    {
      "cell_type": "markdown",
      "source": [
        "인덱싱과 슬라이싱 이용하여 문자열 내 문자 바꾸기\n",
        "\n",
        "문자열 = imutable data type(요소값 변경불가)\n",
        "\n",
        "-> 새 문자열 만드는 방식(O)\n",
        "\n",
        "-> 새로운 값 assign (X) = Type Error"
      ],
      "metadata": {
        "id": "zFD0I8TT1UhC"
      }
    },
    {
      "cell_type": "code",
      "source": [
        "b = \"Pithon\"\n",
        "print(b[:1] + 'y' + b[2:])"
      ],
      "metadata": {
        "colab": {
          "base_uri": "https://localhost:8080/"
        },
        "id": "cN0wmmYH2At9",
        "outputId": "6fd8ca8f-b0be-440c-c3c7-66d8030b0180"
      },
      "execution_count": null,
      "outputs": [
        {
          "output_type": "stream",
          "name": "stdout",
          "text": [
            "Python\n"
          ]
        }
      ]
    },
    {
      "cell_type": "markdown",
      "source": [
        "### Formatting"
      ],
      "metadata": {
        "id": "XgJDWafG2AQw"
      }
    },
    {
      "cell_type": "markdown",
      "source": [
        "문자열 내에 원하는 값을 삽입하여 동적으로 원하는 문자열 만들기\n",
        "\n",
        "1. 숫자 삽입:  %d\n",
        "2. 문자열 삽입:  %s -> 만능코드(다른 포멧코드를 이용해야하는 것들도 문자열로 치환해버리기 때문)\n",
        "3. 부동소수점: %f\n",
        "4. % 기호 그 자체:  %%\n"
      ],
      "metadata": {
        "id": "2slRnNT62goQ"
      }
    },
    {
      "cell_type": "markdown",
      "source": [
        "정렬과 공백"
      ],
      "metadata": {
        "id": "UIwEUo1f41Om"
      }
    },
    {
      "cell_type": "code",
      "source": [
        "print(\"%-10s\"%\"Hello\") #문자열 공간은 10개, 완쪽 정렬, 나머지는 공백\n",
        "print(\"%10s\"%\"World!\") #문자열 공간은 10개, 오른쪽 정렬, 나머지는 공백"
      ],
      "metadata": {
        "colab": {
          "base_uri": "https://localhost:8080/"
        },
        "id": "-ElGuj943xr4",
        "outputId": "38582db1-709b-4604-be8d-a953ff344785"
      },
      "execution_count": null,
      "outputs": [
        {
          "output_type": "stream",
          "name": "stdout",
          "text": [
            "Hello     \n",
            "    World!\n"
          ]
        }
      ]
    },
    {
      "cell_type": "markdown",
      "source": [
        "소숫점 표현"
      ],
      "metadata": {
        "id": "HH0mJlW96Amc"
      }
    },
    {
      "cell_type": "code",
      "source": [
        "print(\"%0.4f\" % 3.42134234) # 전체 자리수는 맞출 필요 없고(0), 소숫점 아래 4번쨰 자리까지만(4)"
      ],
      "metadata": {
        "colab": {
          "base_uri": "https://localhost:8080/"
        },
        "id": "l9JYT5Ay6GtT",
        "outputId": "386e652b-e7a2-4df1-eece-b6dfd731a9d0"
      },
      "execution_count": null,
      "outputs": [
        {
          "output_type": "stream",
          "name": "stdout",
          "text": [
            "3.4213\n"
          ]
        }
      ]
    },
    {
      "cell_type": "code",
      "source": [
        "print(\"%10.4f\" % 3.42134234) # 전체 자리수는 10자리, 오른쪽으로 정렬, 남는 왼쪽 공간은 공백으로"
      ],
      "metadata": {
        "colab": {
          "base_uri": "https://localhost:8080/"
        },
        "id": "lvH1vBst6Gmn",
        "outputId": "a402065d-9acf-4447-acd2-62d0ed274929"
      },
      "execution_count": null,
      "outputs": [
        {
          "output_type": "stream",
          "name": "stdout",
          "text": [
            "    3.4213\n"
          ]
        }
      ]
    },
    {
      "cell_type": "markdown",
      "source": [
        "문자열 포멧팅 함수"
      ],
      "metadata": {
        "id": "E52hrEd56DHk"
      }
    },
    {
      "cell_type": "markdown",
      "source": [
        ".format()이라는 고급 문자열 포맷팅 함수 활용\n",
        "\n",
        "-> 포켓팅에는 주로 {}가 포멧팅 문자로 쓰이는데 그냥 기호로 쓰고 싶으면 {{, }} 이런 식으로 두 개 연속해서 쓰면 됨"
      ],
      "metadata": {
        "id": "FIkT7dYS63zO"
      }
    },
    {
      "cell_type": "code",
      "source": [
        "print(\"I eat {0} apples.\".format(3)) # 숫자 대입\n",
        "print(\"I eat {0} apples.\".format(\"three\")) # 문자열 대입\n",
        "\n",
        "number = 3\n",
        "print(\"I eat {0} apples.\".format(number)) # 숫자 변수로 대입\n",
        "\n",
        "number =10\n",
        "day = \"three\"\n",
        "print(\"I ate {0} apples, so I was sick for {1} days.\".format(number, day)) #두 개 이상의 값도 한번에 가능\n",
        "\n",
        "print(\"I ate {number} apples, so I was sick for {day} days.\".format(number=10, day=3)) #이름으로 치환\n",
        "print(\"I ate {0} apples, so I was sick for {day} days.\".format(10, day=3)) #인덱스와 이름 혼용해서 치환"
      ],
      "metadata": {
        "colab": {
          "base_uri": "https://localhost:8080/"
        },
        "id": "HK7kpvIq69tp",
        "outputId": "0819f041-4d4b-4973-9ce9-7105b37981e3"
      },
      "execution_count": null,
      "outputs": [
        {
          "output_type": "stream",
          "name": "stdout",
          "text": [
            "I eat 3 apples.\n",
            "I eat three apples.\n",
            "I eat 3 apples.\n",
            "I ate 10 apples, so I was sick for three days.\n",
            "I ate 10 apples, so I was sick for 3 days.\n",
            "I ate 10 apples, so I was sick for 3 days.\n"
          ]
        }
      ]
    },
    {
      "cell_type": "markdown",
      "source": [
        "포맷팅 함수를 이용한 정렬"
      ],
      "metadata": {
        "id": "9BF5Hno89uG-"
      }
    },
    {
      "cell_type": "code",
      "source": [
        "print(\"{0:>10}\".format(\"Python\")) # 10칸 확보, 오른쪽 정렬\n",
        "print(\"{0:^10}\".format(\"Python\")) # 10칸 확보, 가운데 정렬\n",
        "print(\"{0:<10}\".format(\"Python\")) # 10칸 확보, 왼쪽 정렬"
      ],
      "metadata": {
        "colab": {
          "base_uri": "https://localhost:8080/"
        },
        "id": "NasbhLH190e-",
        "outputId": "67bdeeef-2d34-4654-8d11-5f2da6cd4989"
      },
      "execution_count": null,
      "outputs": [
        {
          "output_type": "stream",
          "name": "stdout",
          "text": [
            "    Python\n",
            "  Python  \n",
            "Python    \n"
          ]
        }
      ]
    },
    {
      "cell_type": "markdown",
      "source": [
        "포멧팅 함수를 이용하여 공백 대신 다른 문자로 채우기\n",
        "\n",
        "-> 정렬기호(<, >, ^) 바로 앞에 문자 넣어주면 됨"
      ],
      "metadata": {
        "id": "bC9gwaG6_wpt"
      }
    },
    {
      "cell_type": "code",
      "source": [
        "print(\"{0:=^10}\".format(\"Ruby\")) # 10칸 확보, 가운데 정렬, 공백 대신 '='기호 삽입"
      ],
      "metadata": {
        "colab": {
          "base_uri": "https://localhost:8080/"
        },
        "id": "80FRZWBW_rIX",
        "outputId": "c77f2a7d-09e1-4a74-9a8e-94055b676d87"
      },
      "execution_count": null,
      "outputs": [
        {
          "output_type": "stream",
          "name": "stdout",
          "text": [
            "===Ruby===\n"
          ]
        }
      ]
    },
    {
      "cell_type": "markdown",
      "source": [
        "포멧팅 함수를 이용용하여 소수점 표현"
      ],
      "metadata": {
        "id": "BdHajSRdN0td"
      }
    },
    {
      "cell_type": "code",
      "source": [
        "c = 3.141592\n",
        "print(\"{0:0.4f}\".format(c)) # 소수점을 4자리까지만 표현하여 치환\n",
        "print(\"{0:10.4f}\".format(c)) # 10칸 확보,오른쪽 정렬, 4자리까지만 표현하여 치환"
      ],
      "metadata": {
        "colab": {
          "base_uri": "https://localhost:8080/"
        },
        "id": "Kh00fMquOBTU",
        "outputId": "bfaf4be2-5216-4e86-9ade-7c6dd3d63422"
      },
      "execution_count": null,
      "outputs": [
        {
          "output_type": "stream",
          "name": "stdout",
          "text": [
            "3.1416\n",
            "    3.1416\n"
          ]
        }
      ]
    },
    {
      "cell_type": "markdown",
      "source": [
        "다양한 문자열 함수들"
      ],
      "metadata": {
        "id": "0VMjt5-uQC7m"
      }
    },
    {
      "cell_type": "markdown",
      "source": [
        "원본은 바뀌지 않고 출력만 바뀐 상태로 ( 문자열은 immutable하기 때문)"
      ],
      "metadata": {
        "id": "3ytbrFd5QjdU"
      }
    },
    {
      "cell_type": "code",
      "source": [
        "d = \"hello\"\n",
        "print(d.upper()) # 소문자 -> 대문자\n",
        "\n",
        "e =\"HELLO\"\n",
        "print(e.lower()) # 대문자 -> 소문자\n"
      ],
      "metadata": {
        "colab": {
          "base_uri": "https://localhost:8080/"
        },
        "id": "HPlwfuI9QI3Y",
        "outputId": "9c4339e8-de57-4785-d4d8-37c67c476f16"
      },
      "execution_count": null,
      "outputs": [
        {
          "output_type": "stream",
          "name": "stdout",
          "text": [
            "HELLO\n",
            "hello\n"
          ]
        }
      ]
    },
    {
      "cell_type": "code",
      "source": [
        "print(d.count(\"l\")) # 단어 안에 해당 문자가 몇개 있는지"
      ],
      "metadata": {
        "colab": {
          "base_uri": "https://localhost:8080/"
        },
        "id": "FvcPcDbgTKmg",
        "outputId": "7166c054-bd7c-4791-85bd-e20d8ad4caec"
      },
      "execution_count": null,
      "outputs": [
        {
          "output_type": "stream",
          "name": "stdout",
          "text": [
            "2\n"
          ]
        }
      ]
    },
    {
      "cell_type": "code",
      "source": [
        "print(d.find(\"l\")) # 헤당 문자열이나 문자가 처음 나온 위치의 인덱스 반환, 없는 경우 -1 반환\n",
        "\n",
        "print(d.index(\"l\")) # 헤당 문자열이나 문자가 처음 나온 위치의 인덱스 반환, 없는 경우 에러 발생"
      ],
      "metadata": {
        "colab": {
          "base_uri": "https://localhost:8080/"
        },
        "id": "pi3OQb8-TUTY",
        "outputId": "774aad3b-3f38-4944-f9aa-64dc6e07cb4b"
      },
      "execution_count": null,
      "outputs": [
        {
          "output_type": "stream",
          "name": "stdout",
          "text": [
            "2\n",
            "2\n"
          ]
        }
      ]
    },
    {
      "cell_type": "code",
      "source": [
        "f = \",\"\n",
        "print(f.join(\"abcd\")) # 주어진 문자열의 각 문자 사이에 문자열 변수 값 삽입"
      ],
      "metadata": {
        "colab": {
          "base_uri": "https://localhost:8080/"
        },
        "id": "sOvjLnifTXoj",
        "outputId": "0e164626-44bd-4f55-ba45-03db881b5e21"
      },
      "execution_count": null,
      "outputs": [
        {
          "output_type": "stream",
          "name": "stdout",
          "text": [
            "a,b,c,d\n"
          ]
        }
      ]
    },
    {
      "cell_type": "code",
      "source": [
        "g = \" hello \"\n",
        "print(g.lstrip()) # 왼쪽 공백(white character)제거\n",
        "print(g.strip()) # 양쪽 공백 제거\n",
        "print(g.rstrip()) #오른쪽 공백 제거"
      ],
      "metadata": {
        "colab": {
          "base_uri": "https://localhost:8080/"
        },
        "id": "chCfiFwRTZXh",
        "outputId": "d7de391a-b710-4294-c0e3-6b1fc7381f56"
      },
      "execution_count": null,
      "outputs": [
        {
          "output_type": "stream",
          "name": "stdout",
          "text": [
            "hello \n",
            "hello\n",
            " hello\n"
          ]
        }
      ]
    },
    {
      "cell_type": "code",
      "source": [
        "h = \"Life is too short\"\n",
        "print(h.replace(\"Life\", \"You hair\")) # 문자열 바꾸기: replace(바뀔 문자열, 바꿀 문자열, 바꿀 횟수, 여러 개 있으면 다 바꿈꿈"
      ],
      "metadata": {
        "colab": {
          "base_uri": "https://localhost:8080/"
        },
        "id": "hrr7v7P9TeBw",
        "outputId": "623e8c9d-06c7-42f0-c90b-f56c56accdb3"
      },
      "execution_count": null,
      "outputs": [
        {
          "output_type": "stream",
          "name": "stdout",
          "text": [
            "You hair is too short\n"
          ]
        }
      ]
    },
    {
      "cell_type": "code",
      "source": [
        "h = \"Life is too short\"\n",
        "print(h.split()) # 문자열나누기: ()안에 인자가 없으면 공백을 기준으로 문자열 분리 -> 리스트로 저장\n",
        "\n",
        "i = \"a,b,c,d\"\n",
        "print(i.split(\",\")) # ()안에 구분자로 \",\"가 있으니 이를 기준으로 부분 문자열로 분리 -> 리스트로 저장"
      ],
      "metadata": {
        "colab": {
          "base_uri": "https://localhost:8080/"
        },
        "id": "-JeZf7xWUCiK",
        "outputId": "9fe5c71b-d4c5-490b-bdba-8888250e4323"
      },
      "execution_count": null,
      "outputs": [
        {
          "output_type": "stream",
          "name": "stdout",
          "text": [
            "['Life', 'is', 'too', 'short']\n",
            "['a', 'b', 'c', 'd']\n"
          ]
        }
      ]
    },
    {
      "cell_type": "markdown",
      "source": [
        "이외에도 다양한 함수들이 있음\n",
        "\n",
        "* capwords(s) : 메 단어의 첫 글자 대문자로 / string 패캐지의 함수임\n",
        "* rjust(s, width) : 오른쪽으로 정렬\n",
        "* ljust(s, width) : 왼쪽으로 정렬\n",
        "* rfind(s, sub) : 뒤쪽부터 찾아서 리턴\n"
      ],
      "metadata": {
        "id": "p9zwljr3UmbS"
      }
    },
    {
      "cell_type": "markdown",
      "source": [
        "# 리스트(List)"
      ],
      "metadata": {
        "id": "tqQMi03On3Cn"
      }
    },
    {
      "cell_type": "markdown",
      "source": [
        "숫자든 문자열이든 루프를 돌거나, 한꺼번에 다뤄야 할 필요가 있을 때 사용하는 자료구조\n"
      ],
      "metadata": {
        "id": "eS3LuqZqrLAI"
      }
    },
    {
      "cell_type": "markdown",
      "source": [
        "## 리스트 인덱싱"
      ],
      "metadata": {
        "id": "lovrf3uXreTZ"
      }
    },
    {
      "cell_type": "markdown",
      "source": [
        "문자열에서처럼 인덱싱이 적용됨\n"
      ],
      "metadata": {
        "id": "DCMt_T1Yrg8R"
      }
    },
    {
      "cell_type": "markdown",
      "source": [
        "### 복잡한 리스트에서의 인덱싱\n",
        "\n",
        "1) 2차원 인덱싱 : 리스트 안에 리스트가 있는 경우"
      ],
      "metadata": {
        "id": "g7vWl1vDsje_"
      }
    },
    {
      "cell_type": "code",
      "source": [
        "a = [1, 2, 3, ['a', 'b', 'c']]\n",
        "print(a[-1][0]) # 2차원 인덱싱\n",
        "print(a[-1][1])\n",
        "print(a[-1][2])"
      ],
      "metadata": {
        "colab": {
          "base_uri": "https://localhost:8080/"
        },
        "id": "C_mhQCdPruYE",
        "outputId": "3f58a532-c031-4c5f-b5cd-25d94135928f"
      },
      "execution_count": null,
      "outputs": [
        {
          "output_type": "stream",
          "name": "stdout",
          "text": [
            "a\n",
            "b\n",
            "c\n"
          ]
        }
      ]
    },
    {
      "cell_type": "markdown",
      "source": [
        "2) 3차원 인덱싱 : 삼중 리스트 구조\n",
        "\n"
      ],
      "metadata": {
        "id": "fQIxGTL4swJG"
      }
    },
    {
      "cell_type": "code",
      "source": [
        "a = [1, 2, ['a', 'b', [\"Life\", 'is']]]\n",
        "print(a[2][2][0])\n",
        "print(a[2][2][1])"
      ],
      "metadata": {
        "colab": {
          "base_uri": "https://localhost:8080/"
        },
        "id": "xiNUzfTrs-C5",
        "outputId": "7882d623-c4a9-49d1-c09f-f41d0fc8cacc"
      },
      "execution_count": null,
      "outputs": [
        {
          "output_type": "stream",
          "name": "stdout",
          "text": [
            "Life\n",
            "is\n"
          ]
        }
      ]
    },
    {
      "cell_type": "markdown",
      "source": [
        "## 리스트 슬라이싱"
      ],
      "metadata": {
        "id": "8GdBTv4Broru"
      }
    },
    {
      "cell_type": "markdown",
      "source": [
        "슬라이싱 = 부분을 발췌하는 것\n",
        "\n",
        "문자열 슬라이싱과 동일 -> 합치기(+), 반복하기(*)\n"
      ],
      "metadata": {
        "id": "POC4oKZTtimd"
      }
    },
    {
      "cell_type": "markdown",
      "source": [
        "### 복잡한 리스트에서의 슬라이싱"
      ],
      "metadata": {
        "id": "-dDPZzcRt4tJ"
      }
    },
    {
      "cell_type": "code",
      "source": [
        "a = [1, 2, 3, ['a', 'b', 'c'], 4, 5]\n",
        "print(a[2:5])\n",
        "print(a[3][:2])"
      ],
      "metadata": {
        "colab": {
          "base_uri": "https://localhost:8080/"
        },
        "id": "aHm2IWi1t7h6",
        "outputId": "3e3b50eb-83ec-4e9a-ceb3-9129084e5c0a"
      },
      "execution_count": null,
      "outputs": [
        {
          "output_type": "stream",
          "name": "stdout",
          "text": [
            "[3, ['a', 'b', 'c'], 4]\n",
            "['a', 'b']\n"
          ]
        }
      ]
    },
    {
      "cell_type": "markdown",
      "source": [
        "### 리스트의 수정 변경"
      ],
      "metadata": {
        "id": "weMtJIQnutjV"
      }
    },
    {
      "cell_type": "markdown",
      "source": [
        "immutable: 문자열, 튜플\n",
        "\n",
        "mutanle: 리스트 -> 변경 가능"
      ],
      "metadata": {
        "id": "MJIYZmJkux80"
      }
    },
    {
      "cell_type": "code",
      "source": [
        "a = [1, 2, 3]\n",
        "a[2] = 4\n",
        "print(a)"
      ],
      "metadata": {
        "colab": {
          "base_uri": "https://localhost:8080/"
        },
        "id": "aa1QmSUxu8g6",
        "outputId": "074e9e1c-2eb2-499c-ce5a-4da08d6ff8d4"
      },
      "execution_count": null,
      "outputs": [
        {
          "output_type": "stream",
          "name": "stdout",
          "text": [
            "[1, 2, 4]\n"
          ]
        }
      ]
    },
    {
      "cell_type": "code",
      "source": [
        "a[1:2] = ['a', 'b', 'c'] # 값으로 대체(슬라이싱 이용) : a[1]과 a[2] 사이의 리스트를 ['a', 'b', 'c']로 바꾼다\n",
        "print(a)"
      ],
      "metadata": {
        "colab": {
          "base_uri": "https://localhost:8080/"
        },
        "id": "t1WHtILWvMFT",
        "outputId": "10d74f49-c382-4b0f-a6a1-b87e2326751b"
      },
      "execution_count": null,
      "outputs": [
        {
          "output_type": "stream",
          "name": "stdout",
          "text": [
            "[1, 'a', 'b', 'c', 4]\n"
          ]
        }
      ]
    },
    {
      "cell_type": "code",
      "source": [
        "a[2] = [5, 6] # 항 -> 객체로 대체(리스트 이용) : 리스트 a의 세번째 요소를 [5, 6]으로 바꾼다\n",
        "print(a)"
      ],
      "metadata": {
        "colab": {
          "base_uri": "https://localhost:8080/"
        },
        "id": "qNrXJRLRvf22",
        "outputId": "c43d6599-6e63-4064-e17a-a8e7e97298dd"
      },
      "execution_count": null,
      "outputs": [
        {
          "output_type": "stream",
          "name": "stdout",
          "text": [
            "[1, 'a', [5, 6], 'c', 4]\n"
          ]
        }
      ]
    },
    {
      "cell_type": "markdown",
      "source": [
        "### 리스트의 삭제"
      ],
      "metadata": {
        "id": "jtwt9CC_xTF6"
      }
    },
    {
      "cell_type": "code",
      "source": [
        "a[1:3] = [] # 값만 삭제\n",
        "print(a)"
      ],
      "metadata": {
        "colab": {
          "base_uri": "https://localhost:8080/"
        },
        "id": "TKI2QKBwxXOn",
        "outputId": "cf6fede4-8745-4181-fb72-4752a28ba7d7"
      },
      "execution_count": null,
      "outputs": [
        {
          "output_type": "stream",
          "name": "stdout",
          "text": [
            "[1, 'c', 4]\n"
          ]
        }
      ]
    },
    {
      "cell_type": "code",
      "source": [
        "del a[1] # 내장연산자/객체 이용\n",
        "print(a)"
      ],
      "metadata": {
        "colab": {
          "base_uri": "https://localhost:8080/"
        },
        "id": "GC1o5m16xavn",
        "outputId": "f001e6b2-c5a2-4867-eac2-b8b47d484b01"
      },
      "execution_count": null,
      "outputs": [
        {
          "output_type": "stream",
          "name": "stdout",
          "text": [
            "[1, 4]\n"
          ]
        }
      ]
    },
    {
      "cell_type": "code",
      "source": [
        "del a[0:1] # 내장연산자/객체 이용\n",
        "print(a)"
      ],
      "metadata": {
        "colab": {
          "base_uri": "https://localhost:8080/"
        },
        "id": "fuUdneQ2yFKi",
        "outputId": "9fc1245f-7c5c-4971-8d57-0d82e5a0ef03"
      },
      "execution_count": null,
      "outputs": [
        {
          "output_type": "stream",
          "name": "stdout",
          "text": [
            "[4]\n"
          ]
        }
      ]
    },
    {
      "cell_type": "markdown",
      "source": [
        "## 리스트 관련 함수들"
      ],
      "metadata": {
        "id": "X1t7UVvKyXEb"
      }
    },
    {
      "cell_type": "markdown",
      "source": [
        "append(x): 리스트의 맨 마지막에 x 추가 (모든 자료형 추가 가능)"
      ],
      "metadata": {
        "id": "2DgcQBu9yq8C"
      }
    },
    {
      "cell_type": "code",
      "source": [
        "a = [1, 2, 3]\n",
        "a.append(4)\n",
        "print(a)"
      ],
      "metadata": {
        "colab": {
          "base_uri": "https://localhost:8080/"
        },
        "id": "0AwgmVmJyZ-7",
        "outputId": "2399ede2-534b-400f-cbcb-c8788a572dfb"
      },
      "execution_count": null,
      "outputs": [
        {
          "output_type": "stream",
          "name": "stdout",
          "text": [
            "[1, 2, 3, 4]\n"
          ]
        }
      ]
    },
    {
      "cell_type": "markdown",
      "source": [
        "sort() : 리스트 정렬, 순서대로 정렬 - 문자의 경우 알파벳 순서대로 정렬 , 리스트 원본이 바뀜"
      ],
      "metadata": {
        "id": "hcJnJdQNy3IR"
      }
    },
    {
      "cell_type": "code",
      "source": [
        "a = [1, 5, 4, 2, 3]\n",
        "a.sort()\n",
        "print(a)"
      ],
      "metadata": {
        "colab": {
          "base_uri": "https://localhost:8080/"
        },
        "id": "IKq5MMxUzNsR",
        "outputId": "ae1e08b3-7207-4ed7-deff-fe22c2073625"
      },
      "execution_count": null,
      "outputs": [
        {
          "output_type": "stream",
          "name": "stdout",
          "text": [
            "[1, 2, 3, 4, 5]\n"
          ]
        }
      ]
    },
    {
      "cell_type": "markdown",
      "source": [
        "reverse() :  리스트 뒤집기, 정렬과는 상관없이 원래의 역순으로 뒤집어 줌 , 리스트 원본이 바뀜"
      ],
      "metadata": {
        "id": "Wi3v2xL0zF07"
      }
    },
    {
      "cell_type": "code",
      "source": [
        "a = ['a', 'c', 'b']\n",
        "a.reverse()\n",
        "print(a)"
      ],
      "metadata": {
        "colab": {
          "base_uri": "https://localhost:8080/"
        },
        "id": "sssDyCkwzgaB",
        "outputId": "7d854ed2-dfb5-482e-8d16-1342f25ac68a"
      },
      "execution_count": null,
      "outputs": [
        {
          "output_type": "stream",
          "name": "stdout",
          "text": [
            "['b', 'c', 'a']\n"
          ]
        }
      ]
    },
    {
      "cell_type": "markdown",
      "source": [
        "index(x): 인덱스에 x라는 값이 있으면 그 위치의 인덱스 값을 반환, 리스트에 없는 값을 주면 에러남\n",
        "\n"
      ],
      "metadata": {
        "id": "FFFvsapOzy_s"
      }
    },
    {
      "cell_type": "code",
      "source": [
        "a = [1, 2, 3]\n",
        "print(a.index(1))\n",
        "print(a.index(2))\n",
        "print(a.index(3))"
      ],
      "metadata": {
        "colab": {
          "base_uri": "https://localhost:8080/"
        },
        "id": "sLmIVUpXzzcx",
        "outputId": "a2c91329-5a7c-4eb1-97fd-e6cba9902419"
      },
      "execution_count": null,
      "outputs": [
        {
          "output_type": "stream",
          "name": "stdout",
          "text": [
            "0\n",
            "1\n",
            "2\n"
          ]
        }
      ]
    },
    {
      "cell_type": "markdown",
      "source": [
        "insert(a, b) :  리스트의 a번째 위치에 b 삽입\n"
      ],
      "metadata": {
        "id": "4eirrZzu0E3W"
      }
    },
    {
      "cell_type": "code",
      "source": [
        "a = [1, 2, 3]\n",
        "a.insert(0, 4)\n",
        "print(a)"
      ],
      "metadata": {
        "colab": {
          "base_uri": "https://localhost:8080/"
        },
        "id": "wdA9rcqY0Ncw",
        "outputId": "70f9b852-cfac-4944-de90-71bc7b20a2e0"
      },
      "execution_count": null,
      "outputs": [
        {
          "output_type": "stream",
          "name": "stdout",
          "text": [
            "[4, 1, 2, 3]\n"
          ]
        }
      ]
    },
    {
      "cell_type": "markdown",
      "source": [
        "remove(x): 처음 나오는 x를 제거, x가 여러개있으면 제일 첫번째 것만 제거\n"
      ],
      "metadata": {
        "id": "hedWaxa_0GGl"
      }
    },
    {
      "cell_type": "code",
      "source": [
        "a = [1, 2, 3, 1, 2, 3]\n",
        "a.remove(1)\n",
        "print(a)"
      ],
      "metadata": {
        "colab": {
          "base_uri": "https://localhost:8080/"
        },
        "id": "odrW4zZD0N-8",
        "outputId": "1e352360-ec8a-48de-85b2-d2a5b8d7f606"
      },
      "execution_count": null,
      "outputs": [
        {
          "output_type": "stream",
          "name": "stdout",
          "text": [
            "[2, 3, 1, 2, 3]\n"
          ]
        }
      ]
    },
    {
      "cell_type": "markdown",
      "source": [
        "pop(): 리스트의 맨 마지막 요소 리턴하고, 리턴한거 값 삭제\n",
        "\n",
        "pop(x): 리스트의 x번째 요소를 리턴하고 그 요소는 삭제\n"
      ],
      "metadata": {
        "id": "GP5Z4iaD0IL0"
      }
    },
    {
      "cell_type": "code",
      "source": [
        "a = [1, 2, 3]\n",
        "print(a.pop())\n",
        "print(a)"
      ],
      "metadata": {
        "colab": {
          "base_uri": "https://localhost:8080/"
        },
        "id": "6GCmwXR_0O5G",
        "outputId": "fc82971e-051c-42a0-9e58-5d0bcbe4c9e5"
      },
      "execution_count": null,
      "outputs": [
        {
          "output_type": "stream",
          "name": "stdout",
          "text": [
            "3\n",
            "[1, 2]\n"
          ]
        }
      ]
    },
    {
      "cell_type": "markdown",
      "source": [
        "count(x) :  리스트에서 x가 몇 번 나오는 지 횟수 알려줌\n"
      ],
      "metadata": {
        "id": "8hdnHsmE0Ju8"
      }
    },
    {
      "cell_type": "code",
      "source": [
        "a = [1, 2, 3, 4, 1]\n",
        "print(a.count(1))"
      ],
      "metadata": {
        "colab": {
          "base_uri": "https://localhost:8080/"
        },
        "id": "s7uBWcHT0Pek",
        "outputId": "22ecb205-9242-4a05-e1a0-b27ca66fef9c"
      },
      "execution_count": null,
      "outputs": [
        {
          "output_type": "stream",
          "name": "stdout",
          "text": [
            "2\n"
          ]
        }
      ]
    },
    {
      "cell_type": "markdown",
      "source": [
        "extend(x): x에는 리스트만 올 수 있고, 원래의 리스트에 x리스트를 덧붙여 리스트를 확장시킴"
      ],
      "metadata": {
        "id": "HXieGh2U0K3J"
      }
    },
    {
      "cell_type": "code",
      "source": [
        "a = [1, 2, 3]\n",
        "a.extend([4, 5])\n",
        "print(a)"
      ],
      "metadata": {
        "colab": {
          "base_uri": "https://localhost:8080/"
        },
        "id": "pBqxoyp70QR8",
        "outputId": "14a534f1-86b6-4572-d5dc-4aa92ab4d66f"
      },
      "execution_count": null,
      "outputs": [
        {
          "output_type": "stream",
          "name": "stdout",
          "text": [
            "[1, 2, 3, 4, 5]\n"
          ]
        }
      ]
    },
    {
      "cell_type": "markdown",
      "source": [
        "len(): 리스트 안의 원소의 개수 구할 때"
      ],
      "metadata": {
        "id": "EsKv9wBeYLtd"
      }
    },
    {
      "cell_type": "code",
      "source": [
        "animals = []\n",
        "animals.extend(['cat', 'dog', 'mouse'])\n",
        "count = []\n",
        "count = len(animals) # 리스트 안의 원소의 개수 len()\n",
        "print(animals)\n",
        "print(count)"
      ],
      "metadata": {
        "id": "hIJpAbEDYTGK"
      },
      "execution_count": null,
      "outputs": []
    },
    {
      "cell_type": "markdown",
      "source": [
        "## 리스트의 복사"
      ],
      "metadata": {
        "id": "UHou9z9a29fI"
      }
    },
    {
      "cell_type": "code",
      "source": [
        "a = [1, 2, 3]\n",
        "b = a # b는 a가 가르키는 동일한 리스트를 가르키고 있는 변수임 -> a가 수정되면, b도 수정\n",
        "a[1] = 4\n",
        "print(a)\n",
        "print(b)"
      ],
      "metadata": {
        "colab": {
          "base_uri": "https://localhost:8080/"
        },
        "id": "kUYorh1y3apU",
        "outputId": "93ace96e-26db-4caa-b7c9-53d87fbf1913"
      },
      "execution_count": null,
      "outputs": [
        {
          "output_type": "stream",
          "name": "stdout",
          "text": [
            "[1, 4, 3]\n",
            "[1, 4, 3]\n"
          ]
        }
      ]
    },
    {
      "cell_type": "markdown",
      "source": [
        "a가 변해도 b가 변하지 않게 하려면?\n",
        "\n",
        "=  a와 같은 값을 가지면서, a를 가르키는 리스트 객체와는 다른 리스트 객체를 가지게 하는 방법은 ?"
      ],
      "metadata": {
        "id": "PHCWW_hM3y8c"
      }
    },
    {
      "cell_type": "markdown",
      "source": [
        "1. [:] 이용"
      ],
      "metadata": {
        "id": "pN5yNuQ93Idb"
      }
    },
    {
      "cell_type": "code",
      "source": [
        "a = [1, 2, 3]\n",
        "b = a[:]\n",
        "a[1] = 4\n",
        "print(a)\n",
        "print(b)"
      ],
      "metadata": {
        "colab": {
          "base_uri": "https://localhost:8080/"
        },
        "id": "H6E3Hr_v3Iu_",
        "outputId": "59f883bd-621b-45fe-9e55-9d79f204347f"
      },
      "execution_count": null,
      "outputs": [
        {
          "output_type": "stream",
          "name": "stdout",
          "text": [
            "[1, 4, 3]\n",
            "[1, 2, 3]\n"
          ]
        }
      ]
    },
    {
      "cell_type": "markdown",
      "source": [
        "2. copy 모듈"
      ],
      "metadata": {
        "id": "rjXiJpY03I67"
      }
    },
    {
      "cell_type": "markdown",
      "source": [
        "copy모듈을 import해서 복사하고, a와 b 두변수가 같은 값을 가지지만, 서로 다른 객체로 생성되었는지 is 연산자를 통해 확인\n",
        "\n",
        "** is 연산자 : 서로 동일한 객체인지 아닌지 알려주는 연산자"
      ],
      "metadata": {
        "id": "9fQt0o-F4fqY"
      }
    },
    {
      "cell_type": "code",
      "source": [
        "from copy import copy\n",
        "b = copy(a)\n",
        "print(b is a)"
      ],
      "metadata": {
        "colab": {
          "base_uri": "https://localhost:8080/"
        },
        "id": "ueSywIXy3JSK",
        "outputId": "a14ac28f-a59c-4802-9ba7-a93d2057d9b2"
      },
      "execution_count": null,
      "outputs": [
        {
          "output_type": "stream",
          "name": "stdout",
          "text": [
            "False\n"
          ]
        }
      ]
    },
    {
      "cell_type": "markdown",
      "source": [
        "# 튜플(tuple)"
      ],
      "metadata": {
        "id": "FHhBYqn15DSL"
      }
    },
    {
      "cell_type": "markdown",
      "source": [
        "1.  리스트의 read-only 버젼임 -> immutable해서 한번 만들면 그 값을 수정할 수 없음\n",
        "* 튜플: 값이 항상 변하지 않는 데이터, 변하지 않았으면 하는 데이터\n",
        "* 리스트: 수시로 데이터의 값을 변화시켜야 하는 경우\n",
        "\n",
        "2. 튜플은 ()로 둘러싼다 (리스트는 []로 둘러쌈)\n",
        "\n",
        "3. 한 개의 요소만 갖는 튜플은 반드시 요소 뒤에 , 넣어야함: (1) != (1, )\n",
        "\n",
        "4. 튜플을 처음 생성할때에만 () 생략해도 됨\n",
        "\n",
        "5. 리스트와 동일하게 인덱싱, 슬라이싱, 튜플 더하기, 튜플 곱하기가 가능하나 튜플 요소 값을 변경, 삭제하는 것은 불가능함"
      ],
      "metadata": {
        "id": "880D573o5HH4"
      }
    },
    {
      "cell_type": "markdown",
      "source": [
        "# 딕셔너리(Dictionary)"
      ],
      "metadata": {
        "id": "GCrye4W36hpM"
      }
    },
    {
      "cell_type": "markdown",
      "source": [
        "= Map, Associative array, Hash\n",
        "\n",
        "Key와 Value를 한 쌍으로 갖는 자료형\n",
        "\n",
        "- Key에는 변할 수 없는 immutable한 것만 와야함(리스트 딕셔너리 ㄴㄴ, 튜플 ㅇㅇ)\n",
        "- Key가 중복되면 제일 처음 하나를 제외한 나머지의 것들은 무시됨"
      ],
      "metadata": {
        "id": "Mt6k050f7Uv-"
      }
    },
    {
      "cell_type": "markdown",
      "source": [
        "리스트, 튜플, 문자열은 요소값을 얻기 위해 인덱싱, 슬라이싱을 사용한 반면, 딕셔너리는 Key를 이용하여 Value를 얻으면 됨!"
      ],
      "metadata": {
        "id": "0K0jMAGF7YUp"
      }
    },
    {
      "cell_type": "code",
      "source": [
        "grade = {'Kang':100, 'Lee':10}\n",
        "print(grade['Kang']) #리스트와 달리 [ ]안의 값은 Key 값을 나타냄"
      ],
      "metadata": {
        "colab": {
          "base_uri": "https://localhost:8080/"
        },
        "id": "jAwYZcie7dUn",
        "outputId": "f462007a-ef56-4c61-9034-5a9961f45906"
      },
      "execution_count": null,
      "outputs": [
        {
          "output_type": "stream",
          "name": "stdout",
          "text": [
            "100\n"
          ]
        }
      ]
    },
    {
      "cell_type": "markdown",
      "source": [
        "## 딕셔너리 쌍 추가/삭제"
      ],
      "metadata": {
        "id": "hPaSUiKf8Tnv"
      }
    },
    {
      "cell_type": "markdown",
      "source": [
        "* 새로운 Key에 Value를 assign하면 바로 추가\n",
        "* 딕셔너리는 순서를 따지지 않음 (추가될때 순서 원칙 없이 추가 됨)\n",
        "* 딕셔너리는 중복이 되는 경우 제일 처음 것만 인정함"
      ],
      "metadata": {
        "id": "A4S6Bfzx8Zee"
      }
    },
    {
      "cell_type": "code",
      "source": [
        "dic ={1:'a'}\n",
        "\n",
        "dic[2] = 'b'\n",
        "print(dic)\n",
        "\n",
        "dic[3] = [1, 2, 3]\n",
        "print(dic)\n",
        "\n",
        "del dic[3]\n",
        "print(dic)"
      ],
      "metadata": {
        "colab": {
          "base_uri": "https://localhost:8080/"
        },
        "id": "8OWm1_4c8XKi",
        "outputId": "33601af8-dbf4-41b7-c431-9bb3cd8ad169"
      },
      "execution_count": null,
      "outputs": [
        {
          "output_type": "stream",
          "name": "stdout",
          "text": [
            "{1: 'a', 2: 'b'}\n",
            "{1: 'a', 2: 'b', 3: [1, 2, 3]}\n",
            "{1: 'a', 2: 'b'}\n"
          ]
        }
      ]
    },
    {
      "cell_type": "markdown",
      "source": [
        "## 딕셔너리 관련 함수"
      ],
      "metadata": {
        "id": "AGdfkLzS9PpL"
      }
    },
    {
      "cell_type": "markdown",
      "source": [
        "Key 리스트 만들기\n",
        "\n",
        "dic.keys() : 딕셔너리 dic의 Key들만 모아서 dict_keys 객체를 리턴\n",
        "\n",
        "이를 리스트로 저장하고 싶으면 list(dic.keys())"
      ],
      "metadata": {
        "id": "8NR8sQlS-PnQ"
      }
    },
    {
      "cell_type": "code",
      "source": [
        "a = {'Name':'susie', 'Phone':'010-1234-1234', 'Brith':'11/18'}\n",
        "print(a.keys())"
      ],
      "metadata": {
        "colab": {
          "base_uri": "https://localhost:8080/"
        },
        "id": "GPnYOaF3-vfu",
        "outputId": "e0d47483-3c43-43ca-ba92-77d1075fc594"
      },
      "execution_count": null,
      "outputs": [
        {
          "output_type": "stream",
          "name": "stdout",
          "text": [
            "dict_keys(['Name', 'Phone', 'Brith'])\n"
          ]
        }
      ]
    },
    {
      "cell_type": "markdown",
      "source": [
        "Value 리스트 만들기\n",
        "\n",
        "dic.values() : 딕셔너리 dic의 value들만 모아서 dict_values 객체를 리턴"
      ],
      "metadata": {
        "id": "XNwD4Drs-ocE"
      }
    },
    {
      "cell_type": "code",
      "source": [
        "print(a.values())"
      ],
      "metadata": {
        "colab": {
          "base_uri": "https://localhost:8080/"
        },
        "id": "byZssApp-vGR",
        "outputId": "bd915f56-9a96-4caf-be93-1a38ab198ee3"
      },
      "execution_count": null,
      "outputs": [
        {
          "output_type": "stream",
          "name": "stdout",
          "text": [
            "dict_values(['susie', '010-1234-1234', '11/18'])\n"
          ]
        }
      ]
    },
    {
      "cell_type": "markdown",
      "source": [
        "Key Value쌍 얻기\n",
        "\n",
        "dic.items() : key와 value 쌍을 튜플로 묶어, dict_itens 객체로 리턴해줌"
      ],
      "metadata": {
        "id": "Sdu4md5n-p0i"
      }
    },
    {
      "cell_type": "code",
      "source": [
        "print(a.items())"
      ],
      "metadata": {
        "colab": {
          "base_uri": "https://localhost:8080/"
        },
        "id": "heT20134-us1",
        "outputId": "2e23fc77-4eee-4334-bdb2-74f060e5385a"
      },
      "execution_count": null,
      "outputs": [
        {
          "output_type": "stream",
          "name": "stdout",
          "text": [
            "dict_items([('Name', 'susie'), ('Phone', '010-1234-1234'), ('Brith', '11/18')])\n"
          ]
        }
      ]
    },
    {
      "cell_type": "markdown",
      "source": [
        "Key:Value쌍 모두 지우기\n",
        "\n",
        "dic.clear() : 딕셔너리 안에 있는 모든 요소들을 삭제\n",
        "\n",
        "** [] = 빈리스트, () = 빈 튜플, {} = 빈 딕셔너리"
      ],
      "metadata": {
        "id": "p5dzubbW-rAW"
      }
    },
    {
      "cell_type": "code",
      "source": [
        "a.clear()\n",
        "print(a)"
      ],
      "metadata": {
        "colab": {
          "base_uri": "https://localhost:8080/"
        },
        "id": "Z6S_5Cz6-uMJ",
        "outputId": "2cecab79-fdeb-44c5-e2bd-cbb079f9882e"
      },
      "execution_count": null,
      "outputs": [
        {
          "output_type": "stream",
          "name": "stdout",
          "text": [
            "{}\n"
          ]
        }
      ]
    },
    {
      "cell_type": "markdown",
      "source": [
        "Key로 Value 얻기\n",
        "\n",
        "dic.get(x) :  key x에 대응되는 value를 리턴함\n",
        "\n",
        "- dic[y]: 해당 딕셔너리에 y가 없는경우 예외 발생\n",
        "\n",
        "- dic.get[y]: 해당 딕셔너리에 y가 없는 경우 None을 리턴\n",
        "\n"
      ],
      "metadata": {
        "id": "VD6zURdu-tKL"
      }
    },
    {
      "cell_type": "code",
      "source": [
        "a = {'Name':'susie', 'Phone':'010-1234-1234', 'Brith':'11/18'}\n",
        "\n",
        "print(a.get('Name'))\n",
        "print(a.get('Phone'))\n",
        "print(a.get('Brith'))"
      ],
      "metadata": {
        "colab": {
          "base_uri": "https://localhost:8080/"
        },
        "id": "s_2HcUdI9P4h",
        "outputId": "2dd751dd-ede7-48df-ae42-2b042acd8bb1"
      },
      "execution_count": null,
      "outputs": [
        {
          "output_type": "stream",
          "name": "stdout",
          "text": [
            "susie\n"
          ]
        }
      ]
    },
    {
      "cell_type": "code",
      "source": [
        "print(a.get('Adress'))"
      ],
      "metadata": {
        "colab": {
          "base_uri": "https://localhost:8080/"
        },
        "id": "EyfaqhUcCuIe",
        "outputId": "ff2b8059-4b39-47e4-8962-65fd9fc25680"
      },
      "execution_count": null,
      "outputs": [
        {
          "output_type": "stream",
          "name": "stdout",
          "text": [
            "None\n"
          ]
        }
      ]
    },
    {
      "cell_type": "code",
      "source": [
        "print(a['Adress'])"
      ],
      "metadata": {
        "colab": {
          "base_uri": "https://localhost:8080/",
          "height": 165
        },
        "id": "o5kLoyGFDD8D",
        "outputId": "60443f9d-58ea-4fc0-ba04-8122b4add657"
      },
      "execution_count": null,
      "outputs": [
        {
          "output_type": "error",
          "ename": "KeyError",
          "evalue": "ignored",
          "traceback": [
            "\u001b[0;31m---------------------------------------------------------------------------\u001b[0m",
            "\u001b[0;31mKeyError\u001b[0m                                  Traceback (most recent call last)",
            "\u001b[0;32m<ipython-input-76-dff4d414e2bb>\u001b[0m in \u001b[0;36m<cell line: 1>\u001b[0;34m()\u001b[0m\n\u001b[0;32m----> 1\u001b[0;31m \u001b[0mprint\u001b[0m\u001b[0;34m(\u001b[0m\u001b[0ma\u001b[0m\u001b[0;34m[\u001b[0m\u001b[0;34m'Adress'\u001b[0m\u001b[0;34m]\u001b[0m\u001b[0;34m)\u001b[0m\u001b[0;34m\u001b[0m\u001b[0;34m\u001b[0m\u001b[0m\n\u001b[0m",
            "\u001b[0;31mKeyError\u001b[0m: 'Adress'"
          ]
        }
      ]
    },
    {
      "cell_type": "markdown",
      "source": [
        "# 집합(Set)"
      ],
      "metadata": {
        "id": "wMc6-IouDhTY"
      }
    },
    {
      "cell_type": "markdown",
      "source": [
        "1. 중복을 허용하지 않음\n",
        "2. 순서가 없음\n",
        " - 자료의 중복을 제거하기 위한 필터로 종 이용\n",
        " - 딕셔너리처럼 순서가 없으니 인덱싱을 지원하지 않음\n",
        "3. set 생성자를 이용하여 집합을 만듦"
      ],
      "metadata": {
        "id": "5aDWcRJtDlbU"
      }
    },
    {
      "cell_type": "code",
      "source": [
        "s1 = set([1, 2, 3])\n",
        "print(s1)\n",
        "\n",
        "s2 = set(\"Hello\")\n",
        "print(s2) #집합이여서 입력 순서와 관계없이 출력"
      ],
      "metadata": {
        "colab": {
          "base_uri": "https://localhost:8080/"
        },
        "id": "uaSEDKnUDl35",
        "outputId": "a1c273f8-2bb9-4568-bcb9-4a58f1967c41"
      },
      "execution_count": null,
      "outputs": [
        {
          "output_type": "stream",
          "name": "stdout",
          "text": [
            "{1, 2, 3}\n",
            "{'o', 'e', 'l', 'H'}\n"
          ]
        }
      ]
    },
    {
      "cell_type": "markdown",
      "source": [
        "## 교집합"
      ],
      "metadata": {
        "id": "B3s3pSGFEjP1"
      }
    },
    {
      "cell_type": "code",
      "source": [
        "s1 = set([1, 2, 3, 4, 5, 6])\n",
        "s2 = set([4, 5, 6, 7, 8, 9])\n",
        "\n",
        "print(s1 & s2) # 기호 이용\n",
        "print(s1.intersection(s2)) #함수 이용"
      ],
      "metadata": {
        "colab": {
          "base_uri": "https://localhost:8080/"
        },
        "id": "ODgZXj3-E2AN",
        "outputId": "5fc47716-7736-4a73-9817-67d8b6a9ed86"
      },
      "execution_count": null,
      "outputs": [
        {
          "output_type": "stream",
          "name": "stdout",
          "text": [
            "{4, 5, 6}\n",
            "{4, 5, 6}\n"
          ]
        }
      ]
    },
    {
      "cell_type": "markdown",
      "source": [
        "## 합집합"
      ],
      "metadata": {
        "id": "yk0uWY7zEiyD"
      }
    },
    {
      "cell_type": "code",
      "source": [
        "print(s1 | s2) # 기호 이용\n",
        "print(s1.union(s2)) #함수 이용"
      ],
      "metadata": {
        "colab": {
          "base_uri": "https://localhost:8080/"
        },
        "id": "kI2Uux50FkIR",
        "outputId": "361e874f-7c21-4084-f84e-b24c8672bb92"
      },
      "execution_count": null,
      "outputs": [
        {
          "output_type": "stream",
          "name": "stdout",
          "text": [
            "{1, 2, 3, 4, 5, 6, 7, 8, 9}\n",
            "{1, 2, 3, 4, 5, 6, 7, 8, 9}\n"
          ]
        }
      ]
    },
    {
      "cell_type": "markdown",
      "source": [
        "## 차집합"
      ],
      "metadata": {
        "id": "2KFmNZMrEjD3"
      }
    },
    {
      "cell_type": "code",
      "source": [
        "print(s1 - s2) # 기호 이용\n",
        "print(s1.difference(s2)) #함수 이용"
      ],
      "metadata": {
        "colab": {
          "base_uri": "https://localhost:8080/"
        },
        "id": "OH40t5ucFvmN",
        "outputId": "c7ab77aa-b764-4db3-8e26-a82493fb0a4c"
      },
      "execution_count": null,
      "outputs": [
        {
          "output_type": "stream",
          "name": "stdout",
          "text": [
            "{1, 2, 3}\n",
            "{1, 2, 3}\n"
          ]
        }
      ]
    },
    {
      "cell_type": "code",
      "source": [
        "print(s2 - s1) # 기호 이용\n",
        "print(s2.difference(s1)) #함수 이용"
      ],
      "metadata": {
        "colab": {
          "base_uri": "https://localhost:8080/"
        },
        "id": "sILwg7rBF1VP",
        "outputId": "90915a3c-4eae-47ad-efba-660c57917063"
      },
      "execution_count": null,
      "outputs": [
        {
          "output_type": "stream",
          "name": "stdout",
          "text": [
            "{8, 9, 7}\n",
            "{8, 9, 7}\n"
          ]
        }
      ]
    },
    {
      "cell_type": "markdown",
      "source": [
        "## 집합의 원소 추가/삭제"
      ],
      "metadata": {
        "id": "BckvuyivEvSV"
      }
    },
    {
      "cell_type": "code",
      "source": [
        "s1 = set([1, 2, 3, 4, 5, 6])\n",
        "\n",
        "s1.add(7) # 원소 1개씩 추가\n",
        "print(s1)\n",
        "\n",
        "s1.update([8, 9, 10]) # 여러 개의 값 한꺼번에 추가\n",
        "print(s1)\n",
        "\n",
        "s1.remove(10) # 특정 원소 제거\n",
        "print(s1)\n"
      ],
      "metadata": {
        "colab": {
          "base_uri": "https://localhost:8080/"
        },
        "id": "hjTV4q42FvH-",
        "outputId": "fa04b344-6496-4d6e-f39f-09212b92a4f1"
      },
      "execution_count": null,
      "outputs": [
        {
          "output_type": "stream",
          "name": "stdout",
          "text": [
            "{1, 2, 3, 4, 5, 6, 7}\n",
            "{1, 2, 3, 4, 5, 6, 7, 8, 9, 10}\n",
            "{1, 2, 3, 4, 5, 6, 7, 8, 9}\n"
          ]
        }
      ]
    },
    {
      "cell_type": "markdown",
      "source": [
        "# 참과 거짓"
      ],
      "metadata": {
        "id": "VZW8BJlEG201"
      }
    },
    {
      "cell_type": "markdown",
      "source": [
        "문자열\n",
        "- 참 : \"Python\"\n",
        "- 거짓: \"\" (비어있음)\n"
      ],
      "metadata": {
        "id": "WlX7nagZG5Ke"
      }
    },
    {
      "cell_type": "markdown",
      "source": [
        "리스트\n",
        "- 참 : [1, 2, 3]\n",
        "- 거짓: [] (비어있음)\n",
        "\n"
      ],
      "metadata": {
        "id": "u6GmReNqHc_9"
      }
    },
    {
      "cell_type": "markdown",
      "source": [
        "튜플\n",
        "- 참 : (1, 2, 3)\n",
        "- 거짓: () (비어있음)\n",
        "\n"
      ],
      "metadata": {
        "id": "2bUBD5W_HguN"
      }
    },
    {
      "cell_type": "markdown",
      "source": [
        "딕셔너리\n",
        "- 참 : {'baseball':'야구', 'basketball':'농구구'}\n",
        "- 거짓: {} (비어있음)\n",
        "\n"
      ],
      "metadata": {
        "id": "iBXCZz4jHiuG"
      }
    },
    {
      "cell_type": "markdown",
      "source": [
        "숫자\n",
        "- 참 : 1, 2, 3 ,,,\n",
        "- 거짓: 0"
      ],
      "metadata": {
        "id": "aIOxe55nHkJ7"
      }
    },
    {
      "cell_type": "markdown",
      "source": [
        "None : 이 자체로도 거짓"
      ],
      "metadata": {
        "id": "LLUBdU7QISNf"
      }
    },
    {
      "cell_type": "markdown",
      "source": [
        "# 변수"
      ],
      "metadata": {
        "id": "JVQ9vWfuIgyj"
      }
    },
    {
      "cell_type": "markdown",
      "source": [
        "객체(파이썬에서 사용되는 모든 것)을 가르키는 용어"
      ],
      "metadata": {
        "id": "2PCD4MoFIidn"
      }
    },
    {
      "cell_type": "code",
      "source": [
        "a = 1\n",
        "# 1이라는 값을 가지는 정수 자료형이 메모리에 생성\n",
        "# a는 변수 이름으로, 해당 객체가 저장된 메모리 위치를 가르키는 참조자(reference)"
      ],
      "metadata": {
        "id": "eUeDc9_JMzL2"
      },
      "execution_count": null,
      "outputs": []
    },
    {
      "cell_type": "code",
      "source": [
        "a = 3 # a가 정수 3을 저장하고 있는 객체를 가르킴\n",
        "b = 3 # b가 정수 3을 저장하고 있는 객체를 가르킴\n",
        "\n",
        "print(a is b)\n",
        "# 정수 3을 가르키고 있는 변수의 개수가 2개\n",
        "# 참조 계수(Reference Count)가 2"
      ],
      "metadata": {
        "colab": {
          "base_uri": "https://localhost:8080/"
        },
        "id": "NHk2ziKcNbOK",
        "outputId": "95348c2e-f71d-4b44-b650-aab3a4856375"
      },
      "execution_count": null,
      "outputs": [
        {
          "output_type": "stream",
          "name": "stdout",
          "text": [
            "True\n"
          ]
        }
      ]
    },
    {
      "cell_type": "markdown",
      "source": [
        "변수 없애기\n",
        "\n",
        "= Garbage Collection (쓰레기 수집)\n",
        "\n",
        "= 참조계수가 0이 되면 객체는 사라짐"
      ],
      "metadata": {
        "id": "muHn_u3qOB5c"
      }
    },
    {
      "cell_type": "code",
      "source": [
        "a = 3\n",
        "b = 3\n",
        "\n",
        "del(a) # 이걸 실행한 직후 3이라는 객체는 RC가 1이라 살아있음\n",
        "del(b) # 이걸 실행한 직후에는 3이라는 객체는 RC가 0이라 소멸"
      ],
      "metadata": {
        "id": "7V4OyVkRONiJ"
      },
      "execution_count": null,
      "outputs": []
    },
    {
      "cell_type": "markdown",
      "source": [
        "변수 만들기\n",
        "\n",
        "1. 튜플의 형태로"
      ],
      "metadata": {
        "id": "r5096mrDOj85"
      }
    },
    {
      "cell_type": "code",
      "source": [
        "a, b = 'python', 'life' # 튜플은 최초 생성시에만 괄호 안해도 됨됨\n",
        "(a, b) = ('python', 'life')"
      ],
      "metadata": {
        "id": "oJELK85qOx2e"
      },
      "execution_count": null,
      "outputs": []
    },
    {
      "cell_type": "markdown",
      "source": [
        "2. 리스트를 이용하여"
      ],
      "metadata": {
        "id": "Cp060cbOOp5L"
      }
    },
    {
      "cell_type": "code",
      "source": [
        "[a, b] = ['python', 'life']"
      ],
      "metadata": {
        "id": "2-xDwpLdPCAB"
      },
      "execution_count": null,
      "outputs": []
    },
    {
      "cell_type": "markdown",
      "source": [
        "3. 여러 변수에 같은 값 대입"
      ],
      "metadata": {
        "id": "aKdSS93OPGmU"
      }
    },
    {
      "cell_type": "code",
      "source": [
        "a = b = 'python'"
      ],
      "metadata": {
        "id": "XXDgZlDiPMZa"
      },
      "execution_count": null,
      "outputs": []
    },
    {
      "cell_type": "code",
      "source": [
        "a = 3\n",
        "b = 5\n",
        "a, b = b, a # 쉽게 두 변수의 값을 바꿀 수 있음\n",
        "\n",
        "print(a)\n",
        "print(b)"
      ],
      "metadata": {
        "colab": {
          "base_uri": "https://localhost:8080/"
        },
        "id": "JPxKZ8T_PSap",
        "outputId": "fcc6e9c9-f1b0-487a-e8ea-b8d8eabbcdd5"
      },
      "execution_count": null,
      "outputs": [
        {
          "output_type": "stream",
          "name": "stdout",
          "text": [
            "5\n",
            "3\n"
          ]
        }
      ]
    },
    {
      "cell_type": "markdown",
      "source": [
        "# 제어문"
      ],
      "metadata": {
        "id": "ZMVzdz2k-0EN"
      }
    },
    {
      "cell_type": "markdown",
      "source": [
        "자료형을 근간으로 하여 그것들의 흐름을 원활히 효율적으로 만들어 주는 것"
      ],
      "metadata": {
        "id": "wjJLXJRDmKS4"
      }
    },
    {
      "cell_type": "markdown",
      "source": [
        "## if문"
      ],
      "metadata": {
        "id": "vo6Kp3ONl4CK"
      }
    },
    {
      "cell_type": "markdown",
      "source": [
        "if문 +  else문으로 구성\n",
        "- if문: 조건문이 참이면 if 블록들을 수행\n",
        "- else문: 조건문이 거짓이면 else 블록들을 수행\n",
        "- 같은 수준의 코드 블록에 대해서는 언제나 같은 깊이로 들여쓰기 하기 !!!!!!!! -> 파이썬은 들여쓰기로 블록 레벨을 해석하기 때문"
      ],
      "metadata": {
        "id": "Yeo_MU7PmTG7"
      }
    },
    {
      "cell_type": "code",
      "source": [
        "money = 1\n",
        "if money:\n",
        "  print(\"You can buy something\")\n",
        "\n",
        "# 조건문 = money인데, 1이기 때문에 참이 됨(숫자는 0이 되어야 거짓)"
      ],
      "metadata": {
        "id": "tQh4NLn3l450"
      },
      "execution_count": null,
      "outputs": []
    },
    {
      "cell_type": "markdown",
      "source": [
        "** 한 줄짜리 if문\n",
        "\n",
        "if문 다음에 수행할  한 문장을 : 뒤에 바로 적어주면 됨"
      ],
      "metadata": {
        "id": "mpiyeGilsPyF"
      }
    },
    {
      "cell_type": "code",
      "source": [
        "pocket = ['paper', 'cellphone', 'money']\n",
        "if 'money' in pocket: print(\"택시를  타고 가라\")\n",
        "else: print(\"걸어가라\")"
      ],
      "metadata": {
        "colab": {
          "base_uri": "https://localhost:8080/"
        },
        "id": "SFhOhZsyscdf",
        "outputId": "feda92bf-d76a-4ccb-f7b5-b02a15ff3895"
      },
      "execution_count": null,
      "outputs": [
        {
          "output_type": "stream",
          "name": "stdout",
          "text": [
            "택시를  타고 가라\n"
          ]
        }
      ]
    },
    {
      "cell_type": "markdown",
      "source": [
        "**inline if문\n",
        "\n",
        "if문을 단순화한 버젼, 단순 비교문 작성 시 편리하다\n",
        "\n",
        "**statement 1 if 조건문 else statement 2** :  조건문이 참이면, statement 1 수행, 아니면 statement 2 수행"
      ],
      "metadata": {
        "id": "Pd3aFaCzsvAC"
      }
    },
    {
      "cell_type": "markdown",
      "source": [
        "## 조건문"
      ],
      "metadata": {
        "id": "WzLLB9Ofpb0_"
      }
    },
    {
      "cell_type": "markdown",
      "source": [
        "### 비교 연산자\n"
      ],
      "metadata": {
        "id": "mATI_dBpnZyI"
      }
    },
    {
      "cell_type": "markdown",
      "source": [
        "- x < y : x가 y보다 작다\n",
        "- x > y : x가 y보다 크다\n",
        "\n"
      ],
      "metadata": {
        "id": "SQiQiwJJoSnm"
      }
    },
    {
      "cell_type": "markdown",
      "source": [
        "- x >= y : x가 y보다 크거나 같다\n",
        "- x <= y : x가 y보다 작거나 같다\n"
      ],
      "metadata": {
        "id": "4FL8aGF_oURH"
      }
    },
    {
      "cell_type": "markdown",
      "source": [
        "- x != y : x가 y랑 같지 않다\n",
        "- x == y : x가 y랑 같다\n",
        "\n",
        "**  cf) x = y : y를 x에 넣고 x가 0인지 아닌지 판단"
      ],
      "metadata": {
        "id": "e6CP0HjXoWDf"
      }
    },
    {
      "cell_type": "markdown",
      "source": [
        "### 논리 연산자"
      ],
      "metadata": {
        "id": "iC1mvCXDoi-X"
      }
    },
    {
      "cell_type": "markdown",
      "source": [
        "a and b : 모두 참이어야 참\n",
        "\n",
        "a or b : 들 증 하나만 참이면 참\n",
        "\n",
        "not a : a가 거짓이면 참\n",
        "\n",
        "* 우선순위: 비교연산 > 논리연산"
      ],
      "metadata": {
        "id": "DbUbxqIconMB"
      }
    },
    {
      "cell_type": "markdown",
      "source": [
        "### in, not in"
      ],
      "metadata": {
        "id": "6kqc3VOupikP"
      }
    },
    {
      "cell_type": "markdown",
      "source": [
        "열거형 데이터 (리스트, 튜플, 문자열)에서 사용,\n",
        "\n",
        "- a in b :  b라는 리스트/튜플/문자열에 원소 a가 있는지\n",
        "\n",
        "- a not in b :  b라는 리스트/튜플/문자열에 원소 a가 없는지"
      ],
      "metadata": {
        "id": "opROCbG6pl6y"
      }
    },
    {
      "cell_type": "code",
      "source": [
        "# 주머니에 돈이 있으면 택시를 타고 없으면 걸어가라\n",
        "\n",
        "pocket = ['paper', 'cellphone', 'money']\n",
        "if 'money' in pocket:\n",
        "  print(\"택시를  타고 가라\")\n",
        "else:\n",
        "  print(\"걸어가라\")"
      ],
      "metadata": {
        "colab": {
          "base_uri": "https://localhost:8080/"
        },
        "id": "5BU4VeaZqEwx",
        "outputId": "7bc672db-41b0-4e5e-8bc9-964cb918c5fb"
      },
      "execution_count": null,
      "outputs": [
        {
          "output_type": "stream",
          "name": "stdout",
          "text": [
            "택시를  타고 가라\n"
          ]
        }
      ]
    },
    {
      "cell_type": "markdown",
      "source": [
        "### None"
      ],
      "metadata": {
        "id": "iNCFj4-hqlU4"
      }
    },
    {
      "cell_type": "markdown",
      "source": [
        "변수를 초기화하여 어직 값을 갖고 있지 않은 상태의 값\n",
        "\n",
        "* 조건문에서는 단독으로 사용되면 '거짓'으로 취급\n",
        "* 0 또한 조건문 내에서 단독으로 사용되면 '거짓'으로 취급 (0의 의미 != None의 의미)"
      ],
      "metadata": {
        "id": "5nrgwwYaqnSQ"
      }
    },
    {
      "cell_type": "markdown",
      "source": [
        "### elif(다중 조건 판단)"
      ],
      "metadata": {
        "id": "FXQgpWZvrAx_"
      }
    },
    {
      "cell_type": "markdown",
      "source": [
        "if와 else만으로는 다양한 족선 판단을 하기가 어려워 elif 사용\n",
        "\n",
        "- elif는 이전 조건문이 거짓일때 수행됨\n",
        "-elif는 갯수 제한 없이 사용할 수 있음"
      ],
      "metadata": {
        "id": "jsjEZz5erFZj"
      }
    },
    {
      "cell_type": "code",
      "source": [
        "# 지갑에 돈이 있으면 택시를 타고, 지갑엔 돈이 없지만 카드가 있으면 택시를 타고, 돈도 없고 카드도 없으면 걸어가라\n",
        "\n",
        "pocket = ['paper', 'cellphone']\n",
        "card = 1\n",
        "\n",
        "if 'money' in pocket:\n",
        "  print(\"택시를  타고 가라\")\n",
        "elif card:\n",
        "  print(\"택시를  타고 가라\")\n",
        "else:\n",
        "  print(\"걸어가라\")"
      ],
      "metadata": {
        "colab": {
          "base_uri": "https://localhost:8080/"
        },
        "id": "je2Vr7hqrKwm",
        "outputId": "771780e9-36ee-43c6-ca70-6c07db25ac00"
      },
      "execution_count": null,
      "outputs": [
        {
          "output_type": "stream",
          "name": "stdout",
          "text": [
            "택시를  타고 가라\n"
          ]
        }
      ]
    },
    {
      "cell_type": "markdown",
      "source": [
        "### pass"
      ],
      "metadata": {
        "id": "GEp282N1rvUA"
      }
    },
    {
      "cell_type": "markdown",
      "source": [
        "조건문 안의 수행 문장에서 아무런 일도 하지 않게끔 하고 싶을 때 사용"
      ],
      "metadata": {
        "id": "ng6q9Q4urxZz"
      }
    },
    {
      "cell_type": "code",
      "source": [
        "# 주머니에 돈이 있으면 가만히 있고, 지갑에 돈이 없으면 카드를 꺼내라\n",
        "\n",
        "pocket = ['paper', 'cellphone', 'money']\n",
        "\n",
        "if 'money' in pocket:\n",
        "  pass #pass로 인해 아무런 결과값이 나오지 않음\n",
        "else:\n",
        "  print(\"카드를 꺼내라\")"
      ],
      "metadata": {
        "id": "oXkBiG1er6wa"
      },
      "execution_count": null,
      "outputs": []
    },
    {
      "cell_type": "markdown",
      "source": [
        "## **while문**"
      ],
      "metadata": {
        "id": "fE4dC9REl3wP"
      }
    },
    {
      "cell_type": "markdown",
      "source": [
        "반복해서 문장을 수행해야 할 경우 사용: 조건문이 참인 동안 While문에 속하는 문장들이 반복해서 수행됨\n"
      ],
      "metadata": {
        "id": "I3izGpdLanpO"
      }
    },
    {
      "cell_type": "markdown",
      "source": [
        "### 무한루프(endless loop)\n",
        "\n",
        ": while의 조건문이 True이므로 조건문이 항상 참 -> While문 내의 문장들이 무한하게 수행"
      ],
      "metadata": {
        "id": "UDueLk5xbngV"
      }
    },
    {
      "cell_type": "code",
      "source": [
        "while True:\n",
        "  print(\"Ctrl -c를 눌러야 while문을 빠져 나갈 수 있습니다.\")"
      ],
      "metadata": {
        "id": "YC9NW0vgl5Tu"
      },
      "execution_count": null,
      "outputs": []
    },
    {
      "cell_type": "markdown",
      "source": [
        "break문(break) : while 루프 탈출 가능"
      ],
      "metadata": {
        "id": "MXeHPEIxcEYw"
      }
    },
    {
      "cell_type": "markdown",
      "source": [
        "continue(continue) : while문 안에서 수행 중에 while문의 처음 조건문 검사 부분으로 돌아갈 수 있음"
      ],
      "metadata": {
        "id": "KclQxywtcRM_"
      }
    },
    {
      "cell_type": "code",
      "source": [
        "a = 0\n",
        "while a < 10:\n",
        "  a = a + 1\n",
        "  if a % 2 == 0: #짝수이면 처음으로 돌아감, print 수행안함\n",
        "    continue\n",
        "  print(a)"
      ],
      "metadata": {
        "colab": {
          "base_uri": "https://localhost:8080/"
        },
        "id": "Fcws_SOdc3_M",
        "outputId": "48e40193-8a17-46cd-b3ce-88cc7c60833f"
      },
      "execution_count": null,
      "outputs": [
        {
          "output_type": "stream",
          "name": "stdout",
          "text": [
            "1\n",
            "3\n",
            "5\n",
            "7\n",
            "9\n"
          ]
        }
      ]
    },
    {
      "cell_type": "markdown",
      "source": [
        "## for문"
      ],
      "metadata": {
        "id": "iKphT2Pnl34x"
      }
    },
    {
      "cell_type": "markdown",
      "source": [
        "형태:\n",
        "\n",
        "for 변수 in 리스트/튜플/문자열:\n",
        "\n",
        " 수행문\n"
      ],
      "metadata": {
        "id": "xoE9MPNrdVw2"
      }
    },
    {
      "cell_type": "code",
      "source": [
        "marks = [90, 25, 67, 45, 80]\n",
        "number = 0 #학번\n",
        "\n",
        "for mark in marks:\n",
        "  number = number + 1\n",
        "  if mark >= 60:\n",
        "    print(\"%d번 학생은 합격입니다.\"%number)\n",
        "  else:\n",
        "    print(\"%d번 학생은 불합격입니다.\"%number)"
      ],
      "metadata": {
        "colab": {
          "base_uri": "https://localhost:8080/"
        },
        "id": "Kw2ux58ol3hH",
        "outputId": "d526cbb5-86be-4807-8245-46f596a91e37"
      },
      "execution_count": null,
      "outputs": [
        {
          "output_type": "stream",
          "name": "stdout",
          "text": [
            "1번 학생은 합격입니다.\n",
            "2번 학생은 불합격입니다.\n",
            "3번 학생은 합격입니다.\n",
            "4번 학생은 불합격입니다.\n",
            "5번 학생은 합격입니다.\n"
          ]
        }
      ]
    },
    {
      "cell_type": "markdown",
      "source": [
        "\n",
        "-> 마지막 요소까지 차례로 변수에 대입되어 수행문을 수행\n"
      ],
      "metadata": {
        "id": "xoo2aoUYhGKH"
      }
    },
    {
      "cell_type": "code",
      "source": [
        "marks = [90, 25, 67, 45, 80]\n",
        "number = 0 #학번\n",
        "\n",
        "for mark in marks:\n",
        "  number = number + 1\n",
        "  if mark < 60:\n",
        "    continue\n",
        "  print(\"%d번 학생 축하합니다. 합격입니다.\"%number)"
      ],
      "metadata": {
        "colab": {
          "base_uri": "https://localhost:8080/"
        },
        "id": "RDXo1HqIhOqd",
        "outputId": "6a3ad5e7-d020-4e7e-c072-d76cc020a0c5"
      },
      "execution_count": null,
      "outputs": [
        {
          "output_type": "stream",
          "name": "stdout",
          "text": [
            "1번 학생 축하합니다. 합격입니다.\n",
            "3번 학생 축하합니다. 합격입니다.\n",
            "5번 학생 축하합니다. 합격입니다.\n"
          ]
        }
      ]
    },
    {
      "cell_type": "markdown",
      "source": [
        "-> for문도 break(끝내기), continue(처음 조건으로 돌아가기) 사용 가능"
      ],
      "metadata": {
        "id": "z0Cm6BFQhPDw"
      }
    },
    {
      "cell_type": "markdown",
      "source": [
        "### for문과 range 함수\n"
      ],
      "metadata": {
        "id": "d7uGy_Sqhqa6"
      }
    },
    {
      "cell_type": "markdown",
      "source": [
        "range 함수  : 숫자리스트를 자동으로 만들어 주는 함수\n",
        "- range(10) : 0부터 10미만의 숫자 range객체를 만든다 (0~9)"
      ],
      "metadata": {
        "id": "qR18n7Lmhuig"
      }
    },
    {
      "cell_type": "code",
      "source": [
        "sum = 0\n",
        "for i in range(1, 11): # 1~10까지 다 더하는 프로그램\n",
        "  sum = sum + i\n",
        "print(sum)"
      ],
      "metadata": {
        "colab": {
          "base_uri": "https://localhost:8080/"
        },
        "id": "gs9eRZwzh9Iz",
        "outputId": "b6be03b8-f780-426e-eaab-ebece9e2ae38"
      },
      "execution_count": null,
      "outputs": [
        {
          "output_type": "stream",
          "name": "stdout",
          "text": [
            "55\n"
          ]
        }
      ]
    },
    {
      "cell_type": "code",
      "source": [
        "marks = [90, 25, 67, 45, 80]\n",
        "number = 0 #학번\n",
        "\n",
        "for number in range(len(marks)): # len() 리스트의 요소 개수를 돌려주는 함수, range(len(marks)) = range(5)\n",
        "  if marks[number] < 60:\n",
        "    continue\n",
        "  print(\"%d번 학생 축하합니다. 합격입니다.\"%(number  + 1))"
      ],
      "metadata": {
        "colab": {
          "base_uri": "https://localhost:8080/"
        },
        "id": "z2EIn-9xiWKk",
        "outputId": "82bf1252-90fe-4114-b7d4-50f7f8225655"
      },
      "execution_count": null,
      "outputs": [
        {
          "output_type": "stream",
          "name": "stdout",
          "text": [
            "1번 학생 축하합니다. 합격입니다.\n",
            "3번 학생 축하합니다. 합격입니다.\n",
            "5번 학생 축하합니다. 합격입니다.\n"
          ]
        }
      ]
    },
    {
      "cell_type": "code",
      "source": [
        "a = [(1,2), (3,4), (5,6)] # 리스트 a의 요소값은 튜플이기 때문에 루프 마다의 요소들이 (first,last)에 대입된다\n",
        "for (first,last) in a:\n",
        "  print(first + last, end=\" \")"
      ],
      "metadata": {
        "colab": {
          "base_uri": "https://localhost:8080/"
        },
        "id": "1XaBMPGmjNNW",
        "outputId": "796fc4c6-1ab1-4e5c-c9e1-587a4d2fc239"
      },
      "execution_count": null,
      "outputs": [
        {
          "output_type": "stream",
          "name": "stdout",
          "text": [
            "3 7 11 "
          ]
        }
      ]
    },
    {
      "cell_type": "code",
      "source": [
        "for i in range(2,10):\n",
        "  for j in range(1,10):\n",
        "    print(i*j, end=\" \")\n",
        "  print(\"\") # Enter 기능"
      ],
      "metadata": {
        "colab": {
          "base_uri": "https://localhost:8080/"
        },
        "id": "fcPULOeQjvvn",
        "outputId": "95b1a9c3-e42a-4496-8c26-08e5c8a9566e"
      },
      "execution_count": null,
      "outputs": [
        {
          "output_type": "stream",
          "name": "stdout",
          "text": [
            "2 4 6 8 10 12 14 16 18 \n",
            "3 6 9 12 15 18 21 24 27 \n",
            "4 8 12 16 20 24 28 32 36 \n",
            "5 10 15 20 25 30 35 40 45 \n",
            "6 12 18 24 30 36 42 48 54 \n",
            "7 14 21 28 35 42 49 56 63 \n",
            "8 16 24 32 40 48 56 64 72 \n",
            "9 18 27 36 45 54 63 72 81 \n"
          ]
        }
      ]
    },
    {
      "cell_type": "markdown",
      "source": [],
      "metadata": {
        "id": "wRMZG2qAh8rv"
      }
    },
    {
      "cell_type": "markdown",
      "source": [
        "### 리스트 내포(lList Comprehenshion)\n"
      ],
      "metadata": {
        "id": "dS_Zw3VxkOPv"
      }
    },
    {
      "cell_type": "markdown",
      "source": [
        "이를 이용하여 조금 더 직관적인 프로그램을 만들 수 있음"
      ],
      "metadata": {
        "id": "SFrdFrGLkvly"
      }
    },
    {
      "cell_type": "code",
      "source": [
        "result = [ x*y for x in range(2,10) for y in range(1, 10) ]\n",
        "\n",
        "print(result)"
      ],
      "metadata": {
        "colab": {
          "base_uri": "https://localhost:8080/"
        },
        "id": "vHvY-nLAk0l7",
        "outputId": "d59534cd-02da-472a-8b2b-84c69c427d97"
      },
      "execution_count": null,
      "outputs": [
        {
          "output_type": "stream",
          "name": "stdout",
          "text": [
            "[2, 4, 6, 8, 10, 12, 14, 16, 18, 3, 6, 9, 12, 15, 18, 21, 24, 27, 4, 8, 12, 16, 20, 24, 28, 32, 36, 5, 10, 15, 20, 25, 30, 35, 40, 45, 6, 12, 18, 24, 30, 36, 42, 48, 54, 7, 14, 21, 28, 35, 42, 49, 56, 63, 8, 16, 24, 32, 40, 48, 56, 64, 72, 9, 18, 27, 36, 45, 54, 63, 72, 81]\n"
          ]
        }
      ]
    }
  ]
}