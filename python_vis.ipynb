{
  "nbformat": 4,
  "nbformat_minor": 0,
  "metadata": {
    "colab": {
      "provenance": [],
      "collapsed_sections": [],
      "toc_visible": true,
      "include_colab_link": true
    },
    "kernelspec": {
      "name": "python3",
      "display_name": "Python 3"
    },
    "language_info": {
      "name": "python"
    }
  },
  "cells": [
    {
      "cell_type": "markdown",
      "metadata": {
        "id": "view-in-github",
        "colab_type": "text"
      },
      "source": [
        "<a href=\"https://colab.research.google.com/github/ykjoy/mining/blob/main/python_vis.ipynb\" target=\"_parent\"><img src=\"https://colab.research.google.com/assets/colab-badge.svg\" alt=\"Open In Colab\"/></a>"
      ]
    },
    {
      "cell_type": "markdown",
      "metadata": {
        "id": "hyKtSXqXysAK"
      },
      "source": [
        "# 데이터 시각화 (Data Visualization)   \n",
        "\n",
        "Seaborn 패키지를 이용하여 다양한 형태의 차트를 만들 수 있다.   \n",
        "\n",
        "http://seaborn.pydata.org/  \n",
        "https://s3.amazonaws.com/assets.datacamp.com/blog_assets/Python_Seaborn_Cheat_Sheet.pdf  \n",
        "\n",
        "\n",
        "\n",
        "- 산점도(Scatter Plot) : sns.scatterplot()\n",
        "- 막대(Bar) 그래프 (평균, 빈도 막대): sns.barplot(), sns.countplot()\n",
        "- 선(Line) 그래프 (시계열): sns.lineplot()\n",
        "- 상자그림(Boxplot): sns.boxplot()\n",
        "\n",
        "*본 실습은 쉽게 배우는 파이썬 데이터 분석 (김영우, 이지스퍼블리싱, 2022) 교재 참고"
      ]
    },
    {
      "cell_type": "code",
      "source": [
        "%matplotlib inline\n",
        "import pandas as pd\n",
        "import seaborn as sns           # Seaborn 로딩하기"
      ],
      "metadata": {
        "id": "W57qOv3qLm4h"
      },
      "execution_count": null,
      "outputs": []
    },
    {
      "cell_type": "code",
      "source": [
        "#https://seaborn.pydata.org/tutorial/aesthetics.html\n",
        "\n",
        "sns.set_style(\"whitegrid\") # choose a style for seaborn figure"
      ],
      "metadata": {
        "id": "s0zcvNUmzvP2"
      },
      "execution_count": null,
      "outputs": []
    },
    {
      "cell_type": "code",
      "source": [
        "from google.colab import drive\n",
        "drive.mount('/content/drive')"
      ],
      "metadata": {
        "colab": {
          "base_uri": "https://localhost:8080/"
        },
        "outputId": "2404f2c6-9d2c-471e-85ca-2dbf89e8b2c3",
        "id": "E9NgJCyqFCJ6"
      },
      "execution_count": null,
      "outputs": [
        {
          "output_type": "stream",
          "name": "stdout",
          "text": [
            "Mounted at /content/drive\n"
          ]
        }
      ]
    },
    {
      "cell_type": "code",
      "metadata": {
        "colab": {
          "base_uri": "https://localhost:8080/",
          "height": 566
        },
        "outputId": "f7bfae0b-407c-4523-af70-364e5fea0203",
        "id": "qLo5GlloFCJ7"
      },
      "source": [
        "import pandas as pd\n",
        "\n",
        "# mpg(miles per gallon).csv 데이터 가져오기\n",
        "mpg = pd.read_csv(\"/content/drive/My Drive/Colab Notebooks/ITB/mpg.csv\")\n",
        "display(mpg.head()) \n",
        "print(mpg.info())  \n",
        "\n",
        "# manufacturer:자동차 제조회사, model:모델, displ:배기량, year:제조년도, cyl:실린더 개수\n",
        "# trans:변속기, drv:구동방식(f전륜구동/r후륜구동/4사륜구동), cty: 도시연비, hwy:고속도로연비 \n",
        "# fl:연료종류 (cng/diesel/ethanol/premium/regual), category: 자동차종류 (compact/suv/2seater/midsize/minivan/midsize)"
      ],
      "execution_count": null,
      "outputs": [
        {
          "output_type": "display_data",
          "data": {
            "text/plain": [
              "  manufacturer model  displ  year  cyl       trans drv  cty  hwy fl category\n",
              "0         audi    a4    1.8  1999    4    auto(l5)   f   18   29  p  compact\n",
              "1         audi    a4    1.8  1999    4  manual(m5)   f   21   29  p  compact\n",
              "2         audi    a4    2.0  2008    4  manual(m6)   f   20   31  p  compact\n",
              "3         audi    a4    2.0  2008    4    auto(av)   f   21   30  p  compact\n",
              "4         audi    a4    2.8  1999    6    auto(l5)   f   16   26  p  compact"
            ],
            "text/html": [
              "\n",
              "  <div id=\"df-baaf521a-37b7-4ab9-842b-de126180ec6e\">\n",
              "    <div class=\"colab-df-container\">\n",
              "      <div>\n",
              "<style scoped>\n",
              "    .dataframe tbody tr th:only-of-type {\n",
              "        vertical-align: middle;\n",
              "    }\n",
              "\n",
              "    .dataframe tbody tr th {\n",
              "        vertical-align: top;\n",
              "    }\n",
              "\n",
              "    .dataframe thead th {\n",
              "        text-align: right;\n",
              "    }\n",
              "</style>\n",
              "<table border=\"1\" class=\"dataframe\">\n",
              "  <thead>\n",
              "    <tr style=\"text-align: right;\">\n",
              "      <th></th>\n",
              "      <th>manufacturer</th>\n",
              "      <th>model</th>\n",
              "      <th>displ</th>\n",
              "      <th>year</th>\n",
              "      <th>cyl</th>\n",
              "      <th>trans</th>\n",
              "      <th>drv</th>\n",
              "      <th>cty</th>\n",
              "      <th>hwy</th>\n",
              "      <th>fl</th>\n",
              "      <th>category</th>\n",
              "    </tr>\n",
              "  </thead>\n",
              "  <tbody>\n",
              "    <tr>\n",
              "      <th>0</th>\n",
              "      <td>audi</td>\n",
              "      <td>a4</td>\n",
              "      <td>1.8</td>\n",
              "      <td>1999</td>\n",
              "      <td>4</td>\n",
              "      <td>auto(l5)</td>\n",
              "      <td>f</td>\n",
              "      <td>18</td>\n",
              "      <td>29</td>\n",
              "      <td>p</td>\n",
              "      <td>compact</td>\n",
              "    </tr>\n",
              "    <tr>\n",
              "      <th>1</th>\n",
              "      <td>audi</td>\n",
              "      <td>a4</td>\n",
              "      <td>1.8</td>\n",
              "      <td>1999</td>\n",
              "      <td>4</td>\n",
              "      <td>manual(m5)</td>\n",
              "      <td>f</td>\n",
              "      <td>21</td>\n",
              "      <td>29</td>\n",
              "      <td>p</td>\n",
              "      <td>compact</td>\n",
              "    </tr>\n",
              "    <tr>\n",
              "      <th>2</th>\n",
              "      <td>audi</td>\n",
              "      <td>a4</td>\n",
              "      <td>2.0</td>\n",
              "      <td>2008</td>\n",
              "      <td>4</td>\n",
              "      <td>manual(m6)</td>\n",
              "      <td>f</td>\n",
              "      <td>20</td>\n",
              "      <td>31</td>\n",
              "      <td>p</td>\n",
              "      <td>compact</td>\n",
              "    </tr>\n",
              "    <tr>\n",
              "      <th>3</th>\n",
              "      <td>audi</td>\n",
              "      <td>a4</td>\n",
              "      <td>2.0</td>\n",
              "      <td>2008</td>\n",
              "      <td>4</td>\n",
              "      <td>auto(av)</td>\n",
              "      <td>f</td>\n",
              "      <td>21</td>\n",
              "      <td>30</td>\n",
              "      <td>p</td>\n",
              "      <td>compact</td>\n",
              "    </tr>\n",
              "    <tr>\n",
              "      <th>4</th>\n",
              "      <td>audi</td>\n",
              "      <td>a4</td>\n",
              "      <td>2.8</td>\n",
              "      <td>1999</td>\n",
              "      <td>6</td>\n",
              "      <td>auto(l5)</td>\n",
              "      <td>f</td>\n",
              "      <td>16</td>\n",
              "      <td>26</td>\n",
              "      <td>p</td>\n",
              "      <td>compact</td>\n",
              "    </tr>\n",
              "  </tbody>\n",
              "</table>\n",
              "</div>\n",
              "      <button class=\"colab-df-convert\" onclick=\"convertToInteractive('df-baaf521a-37b7-4ab9-842b-de126180ec6e')\"\n",
              "              title=\"Convert this dataframe to an interactive table.\"\n",
              "              style=\"display:none;\">\n",
              "        \n",
              "  <svg xmlns=\"http://www.w3.org/2000/svg\" height=\"24px\"viewBox=\"0 0 24 24\"\n",
              "       width=\"24px\">\n",
              "    <path d=\"M0 0h24v24H0V0z\" fill=\"none\"/>\n",
              "    <path d=\"M18.56 5.44l.94 2.06.94-2.06 2.06-.94-2.06-.94-.94-2.06-.94 2.06-2.06.94zm-11 1L8.5 8.5l.94-2.06 2.06-.94-2.06-.94L8.5 2.5l-.94 2.06-2.06.94zm10 10l.94 2.06.94-2.06 2.06-.94-2.06-.94-.94-2.06-.94 2.06-2.06.94z\"/><path d=\"M17.41 7.96l-1.37-1.37c-.4-.4-.92-.59-1.43-.59-.52 0-1.04.2-1.43.59L10.3 9.45l-7.72 7.72c-.78.78-.78 2.05 0 2.83L4 21.41c.39.39.9.59 1.41.59.51 0 1.02-.2 1.41-.59l7.78-7.78 2.81-2.81c.8-.78.8-2.07 0-2.86zM5.41 20L4 18.59l7.72-7.72 1.47 1.35L5.41 20z\"/>\n",
              "  </svg>\n",
              "      </button>\n",
              "      \n",
              "  <style>\n",
              "    .colab-df-container {\n",
              "      display:flex;\n",
              "      flex-wrap:wrap;\n",
              "      gap: 12px;\n",
              "    }\n",
              "\n",
              "    .colab-df-convert {\n",
              "      background-color: #E8F0FE;\n",
              "      border: none;\n",
              "      border-radius: 50%;\n",
              "      cursor: pointer;\n",
              "      display: none;\n",
              "      fill: #1967D2;\n",
              "      height: 32px;\n",
              "      padding: 0 0 0 0;\n",
              "      width: 32px;\n",
              "    }\n",
              "\n",
              "    .colab-df-convert:hover {\n",
              "      background-color: #E2EBFA;\n",
              "      box-shadow: 0px 1px 2px rgba(60, 64, 67, 0.3), 0px 1px 3px 1px rgba(60, 64, 67, 0.15);\n",
              "      fill: #174EA6;\n",
              "    }\n",
              "\n",
              "    [theme=dark] .colab-df-convert {\n",
              "      background-color: #3B4455;\n",
              "      fill: #D2E3FC;\n",
              "    }\n",
              "\n",
              "    [theme=dark] .colab-df-convert:hover {\n",
              "      background-color: #434B5C;\n",
              "      box-shadow: 0px 1px 3px 1px rgba(0, 0, 0, 0.15);\n",
              "      filter: drop-shadow(0px 1px 2px rgba(0, 0, 0, 0.3));\n",
              "      fill: #FFFFFF;\n",
              "    }\n",
              "  </style>\n",
              "\n",
              "      <script>\n",
              "        const buttonEl =\n",
              "          document.querySelector('#df-baaf521a-37b7-4ab9-842b-de126180ec6e button.colab-df-convert');\n",
              "        buttonEl.style.display =\n",
              "          google.colab.kernel.accessAllowed ? 'block' : 'none';\n",
              "\n",
              "        async function convertToInteractive(key) {\n",
              "          const element = document.querySelector('#df-baaf521a-37b7-4ab9-842b-de126180ec6e');\n",
              "          const dataTable =\n",
              "            await google.colab.kernel.invokeFunction('convertToInteractive',\n",
              "                                                     [key], {});\n",
              "          if (!dataTable) return;\n",
              "\n",
              "          const docLinkHtml = 'Like what you see? Visit the ' +\n",
              "            '<a target=\"_blank\" href=https://colab.research.google.com/notebooks/data_table.ipynb>data table notebook</a>'\n",
              "            + ' to learn more about interactive tables.';\n",
              "          element.innerHTML = '';\n",
              "          dataTable['output_type'] = 'display_data';\n",
              "          await google.colab.output.renderOutput(dataTable, element);\n",
              "          const docLink = document.createElement('div');\n",
              "          docLink.innerHTML = docLinkHtml;\n",
              "          element.appendChild(docLink);\n",
              "        }\n",
              "      </script>\n",
              "    </div>\n",
              "  </div>\n",
              "  "
            ]
          },
          "metadata": {}
        },
        {
          "output_type": "stream",
          "name": "stdout",
          "text": [
            "<class 'pandas.core.frame.DataFrame'>\n",
            "RangeIndex: 234 entries, 0 to 233\n",
            "Data columns (total 11 columns):\n",
            " #   Column        Non-Null Count  Dtype  \n",
            "---  ------        --------------  -----  \n",
            " 0   manufacturer  234 non-null    object \n",
            " 1   model         234 non-null    object \n",
            " 2   displ         234 non-null    float64\n",
            " 3   year          234 non-null    int64  \n",
            " 4   cyl           234 non-null    int64  \n",
            " 5   trans         234 non-null    object \n",
            " 6   drv           234 non-null    object \n",
            " 7   cty           234 non-null    int64  \n",
            " 8   hwy           234 non-null    int64  \n",
            " 9   fl            234 non-null    object \n",
            " 10  category      234 non-null    object \n",
            "dtypes: float64(1), int64(4), object(6)\n",
            "memory usage: 20.2+ KB\n",
            "None\n"
          ]
        }
      ]
    },
    {
      "cell_type": "markdown",
      "source": [
        "## 산점도\n",
        "\n",
        "- 데이터를  x축과 y축에 점으로 표현한 그래프 \n",
        "- 나이, 소득 등과 같이 연속값으로 된 두 변수의 관계 표현 "
      ],
      "metadata": {
        "id": "cT-RtqO5Mx8B"
      }
    },
    {
      "cell_type": "code",
      "metadata": {
        "colab": {
          "base_uri": "https://localhost:8080/",
          "height": 299
        },
        "outputId": "69978c8a-0ce7-4ade-da1a-c3566f133b2b",
        "id": "RgPHbs9aFCJ7"
      },
      "source": [
        "# x축은 displ, y축은 hwy를 나타낸 산점도 만들기\n",
        "sns.scatterplot(data = mpg, x = 'displ', y = 'hwy')"
      ],
      "execution_count": null,
      "outputs": [
        {
          "output_type": "execute_result",
          "data": {
            "text/plain": [
              "<matplotlib.axes._subplots.AxesSubplot at 0x7fac0caa8a90>"
            ]
          },
          "metadata": {},
          "execution_count": 12
        },
        {
          "output_type": "display_data",
          "data": {
            "text/plain": [
              "<Figure size 432x288 with 1 Axes>"
            ],
            "image/png": "[encoded data removed]"
          },
          "metadata": {}
        }
      ]
    },
    {
      "cell_type": "code",
      "source": [
        "# x축 범위 3~6으로 제한\n",
        "sns.scatterplot(data = mpg, x = 'displ', y = 'hwy').set(xlim = (4, 6))"
      ],
      "metadata": {
        "colab": {
          "base_uri": "https://localhost:8080/",
          "height": 299
        },
        "id": "hdOY9WySG_Wf",
        "outputId": "38e7e9b3-dd8a-4758-dd0e-6c5f27f3e22b"
      },
      "execution_count": null,
      "outputs": [
        {
          "output_type": "execute_result",
          "data": {
            "text/plain": [
              "[(4.0, 6.0)]"
            ]
          },
          "metadata": {},
          "execution_count": 14
        },
        {
          "output_type": "display_data",
          "data": {
            "text/plain": [
              "<Figure size 432x288 with 1 Axes>"
            ],
            "image/png": "[encoded data removed]"
          },
          "metadata": {}
        }
      ]
    },
    {
      "cell_type": "code",
      "source": [
        "# x축 범위 3~6, y축 범위 10~30으로 제한\n",
        "sns.scatterplot(data = mpg, x = 'displ', y = 'hwy') \\\n",
        "   .set(xlim = (3, 6), ylim = (10, 30))"
      ],
      "metadata": {
        "colab": {
          "base_uri": "https://localhost:8080/",
          "height": 302
        },
        "id": "ngUBO8lBN7Lk",
        "outputId": "46d4338f-3b5d-4df8-df2c-7a2825468abd"
      },
      "execution_count": null,
      "outputs": [
        {
          "output_type": "execute_result",
          "data": {
            "text/plain": [
              "[(10.0, 30.0), (3.0, 6.0)]"
            ]
          },
          "metadata": {},
          "execution_count": 16
        },
        {
          "output_type": "display_data",
          "data": {
            "text/plain": [
              "<Figure size 432x288 with 1 Axes>"
            ],
            "image/png": "[encoded data removed]"
          },
          "metadata": {}
        }
      ]
    },
    {
      "cell_type": "code",
      "source": [
        "# drv별로 표식 색깔 다르게 표현\n",
        "sns.scatterplot(data = mpg, x = 'displ', y = 'hwy', hue = 'drv')"
      ],
      "metadata": {
        "colab": {
          "base_uri": "https://localhost:8080/",
          "height": 299
        },
        "id": "hzJKbgXUOF_q",
        "outputId": "b745a179-e689-4bc0-d143-cee7f70e9f94"
      },
      "execution_count": null,
      "outputs": [
        {
          "output_type": "execute_result",
          "data": {
            "text/plain": [
              "<matplotlib.axes._subplots.AxesSubplot at 0x7f26f4fb9e90>"
            ]
          },
          "metadata": {},
          "execution_count": 8
        },
        {
          "output_type": "display_data",
          "data": {
            "text/plain": [
              "<Figure size 432x288 with 1 Axes>"
            ],
            "image/png": "[encoded data removed]"
          },
          "metadata": {}
        }
      ]
    },
    {
      "cell_type": "markdown",
      "source": [
        "## 막대 그래프 \n",
        "- 데이터의 크기를 막대의 길이로 표현\n",
        "- 집단 간 차이 표현 "
      ],
      "metadata": {
        "id": "uXeNgQL3PXG1"
      }
    },
    {
      "cell_type": "code",
      "source": [
        "#집단별 평균표 만들기\n",
        "df_mpg = mpg.groupby('drv' , as_index = False).agg( meanhwy = ('hwy', 'mean'))\n",
        "df_mpg"
      ],
      "metadata": {
        "colab": {
          "base_uri": "https://localhost:8080/",
          "height": 143
        },
        "id": "RISx76KFQXoE",
        "outputId": "5f130661-76ff-4a7a-86d9-3dcdfb12854a"
      },
      "execution_count": null,
      "outputs": [
        {
          "output_type": "execute_result",
          "data": {
            "text/plain": [
              "  drv    meanhwy\n",
              "0   4  19.174757\n",
              "1   f  28.160377\n",
              "2   r  21.000000"
            ],
            "text/html": [
              "\n",
              "  <div id=\"df-00db71d3-73d4-496c-8795-abc6360d7668\">\n",
              "    <div class=\"colab-df-container\">\n",
              "      <div>\n",
              "<style scoped>\n",
              "    .dataframe tbody tr th:only-of-type {\n",
              "        vertical-align: middle;\n",
              "    }\n",
              "\n",
              "    .dataframe tbody tr th {\n",
              "        vertical-align: top;\n",
              "    }\n",
              "\n",
              "    .dataframe thead th {\n",
              "        text-align: right;\n",
              "    }\n",
              "</style>\n",
              "<table border=\"1\" class=\"dataframe\">\n",
              "  <thead>\n",
              "    <tr style=\"text-align: right;\">\n",
              "      <th></th>\n",
              "      <th>drv</th>\n",
              "      <th>meanhwy</th>\n",
              "    </tr>\n",
              "  </thead>\n",
              "  <tbody>\n",
              "    <tr>\n",
              "      <th>0</th>\n",
              "      <td>4</td>\n",
              "      <td>19.174757</td>\n",
              "    </tr>\n",
              "    <tr>\n",
              "      <th>1</th>\n",
              "      <td>f</td>\n",
              "      <td>28.160377</td>\n",
              "    </tr>\n",
              "    <tr>\n",
              "      <th>2</th>\n",
              "      <td>r</td>\n",
              "      <td>21.000000</td>\n",
              "    </tr>\n",
              "  </tbody>\n",
              "</table>\n",
              "</div>\n",
              "      <button class=\"colab-df-convert\" onclick=\"convertToInteractive('df-00db71d3-73d4-496c-8795-abc6360d7668')\"\n",
              "              title=\"Convert this dataframe to an interactive table.\"\n",
              "              style=\"display:none;\">\n",
              "        \n",
              "  <svg xmlns=\"http://www.w3.org/2000/svg\" height=\"24px\"viewBox=\"0 0 24 24\"\n",
              "       width=\"24px\">\n",
              "    <path d=\"M0 0h24v24H0V0z\" fill=\"none\"/>\n",
              "    <path d=\"M18.56 5.44l.94 2.06.94-2.06 2.06-.94-2.06-.94-.94-2.06-.94 2.06-2.06.94zm-11 1L8.5 8.5l.94-2.06 2.06-.94-2.06-.94L8.5 2.5l-.94 2.06-2.06.94zm10 10l.94 2.06.94-2.06 2.06-.94-2.06-.94-.94-2.06-.94 2.06-2.06.94z\"/><path d=\"M17.41 7.96l-1.37-1.37c-.4-.4-.92-.59-1.43-.59-.52 0-1.04.2-1.43.59L10.3 9.45l-7.72 7.72c-.78.78-.78 2.05 0 2.83L4 21.41c.39.39.9.59 1.41.59.51 0 1.02-.2 1.41-.59l7.78-7.78 2.81-2.81c.8-.78.8-2.07 0-2.86zM5.41 20L4 18.59l7.72-7.72 1.47 1.35L5.41 20z\"/>\n",
              "  </svg>\n",
              "      </button>\n",
              "      \n",
              "  <style>\n",
              "    .colab-df-container {\n",
              "      display:flex;\n",
              "      flex-wrap:wrap;\n",
              "      gap: 12px;\n",
              "    }\n",
              "\n",
              "    .colab-df-convert {\n",
              "      background-color: #E8F0FE;\n",
              "      border: none;\n",
              "      border-radius: 50%;\n",
              "      cursor: pointer;\n",
              "      display: none;\n",
              "      fill: #1967D2;\n",
              "      height: 32px;\n",
              "      padding: 0 0 0 0;\n",
              "      width: 32px;\n",
              "    }\n",
              "\n",
              "    .colab-df-convert:hover {\n",
              "      background-color: #E2EBFA;\n",
              "      box-shadow: 0px 1px 2px rgba(60, 64, 67, 0.3), 0px 1px 3px 1px rgba(60, 64, 67, 0.15);\n",
              "      fill: #174EA6;\n",
              "    }\n",
              "\n",
              "    [theme=dark] .colab-df-convert {\n",
              "      background-color: #3B4455;\n",
              "      fill: #D2E3FC;\n",
              "    }\n",
              "\n",
              "    [theme=dark] .colab-df-convert:hover {\n",
              "      background-color: #434B5C;\n",
              "      box-shadow: 0px 1px 3px 1px rgba(0, 0, 0, 0.15);\n",
              "      filter: drop-shadow(0px 1px 2px rgba(0, 0, 0, 0.3));\n",
              "      fill: #FFFFFF;\n",
              "    }\n",
              "  </style>\n",
              "\n",
              "      <script>\n",
              "        const buttonEl =\n",
              "          document.querySelector('#df-00db71d3-73d4-496c-8795-abc6360d7668 button.colab-df-convert');\n",
              "        buttonEl.style.display =\n",
              "          google.colab.kernel.accessAllowed ? 'block' : 'none';\n",
              "\n",
              "        async function convertToInteractive(key) {\n",
              "          const element = document.querySelector('#df-00db71d3-73d4-496c-8795-abc6360d7668');\n",
              "          const dataTable =\n",
              "            await google.colab.kernel.invokeFunction('convertToInteractive',\n",
              "                                                     [key], {});\n",
              "          if (!dataTable) return;\n",
              "\n",
              "          const docLinkHtml = 'Like what you see? Visit the ' +\n",
              "            '<a target=\"_blank\" href=https://colab.research.google.com/notebooks/data_table.ipynb>data table notebook</a>'\n",
              "            + ' to learn more about interactive tables.';\n",
              "          element.innerHTML = '';\n",
              "          dataTable['output_type'] = 'display_data';\n",
              "          await google.colab.output.renderOutput(dataTable, element);\n",
              "          const docLink = document.createElement('div');\n",
              "          docLink.innerHTML = docLinkHtml;\n",
              "          element.appendChild(docLink);\n",
              "        }\n",
              "      </script>\n",
              "    </div>\n",
              "  </div>\n",
              "  "
            ]
          },
          "metadata": {},
          "execution_count": 36
        }
      ]
    },
    {
      "cell_type": "code",
      "source": [
        "sns.barplot(data = df_mpg, x = 'drv', y = 'meanhwy')"
      ],
      "metadata": {
        "colab": {
          "base_uri": "https://localhost:8080/",
          "height": 298
        },
        "id": "GhNCoTXMQ060",
        "outputId": "5e9ea880-abec-4a33-dee3-14937f6e5a23"
      },
      "execution_count": null,
      "outputs": [
        {
          "output_type": "execute_result",
          "data": {
            "text/plain": [
              "<matplotlib.axes._subplots.AxesSubplot at 0x7fac0be6f250>"
            ]
          },
          "metadata": {},
          "execution_count": 37
        },
        {
          "output_type": "display_data",
          "data": {
            "text/plain": [
              "<Figure size 432x288 with 1 Axes>"
            ],
            "image/png": "[encoded data removed]"
          },
          "metadata": {}
        }
      ]
    },
    {
      "cell_type": "code",
      "source": [
        "# 데이터 프레임 정렬하기\n",
        "df_mpg = df_mpg.sort_values('meanhwy', ascending = False)\n",
        "\n",
        "# 막대 그래프 만들기\n",
        "sns.barplot(data = df_mpg, x = 'drv', y = 'meanhwy')"
      ],
      "metadata": {
        "colab": {
          "base_uri": "https://localhost:8080/",
          "height": 298
        },
        "id": "OM5zaamUQ6V9",
        "outputId": "e8a29004-e804-480c-8e09-a2e7b572a117"
      },
      "execution_count": null,
      "outputs": [
        {
          "output_type": "execute_result",
          "data": {
            "text/plain": [
              "<matplotlib.axes._subplots.AxesSubplot at 0x7fac0bddc790>"
            ]
          },
          "metadata": {},
          "execution_count": 38
        },
        {
          "output_type": "display_data",
          "data": {
            "text/plain": [
              "<Figure size 432x288 with 1 Axes>"
            ],
            "image/png": "[encoded data removed]"
          },
          "metadata": {}
        }
      ]
    },
    {
      "cell_type": "code",
      "source": [
        "# 집단별 빈도표 만들기\n",
        "df_mpg = mpg.groupby('drv', as_index = False).agg(n = ('drv', 'count'))\n",
        "\n",
        "df_mpg"
      ],
      "metadata": {
        "colab": {
          "base_uri": "https://localhost:8080/",
          "height": 143
        },
        "id": "vH7QSoB8RFSi",
        "outputId": "c8e47c98-c197-46a3-f6ae-948b100cb373"
      },
      "execution_count": null,
      "outputs": [
        {
          "output_type": "execute_result",
          "data": {
            "text/plain": [
              "  drv    n\n",
              "0   4  103\n",
              "1   f  106\n",
              "2   r   25"
            ],
            "text/html": [
              "\n",
              "  <div id=\"df-54ece1f2-8875-43c5-b933-fba793e1cc2c\">\n",
              "    <div class=\"colab-df-container\">\n",
              "      <div>\n",
              "<style scoped>\n",
              "    .dataframe tbody tr th:only-of-type {\n",
              "        vertical-align: middle;\n",
              "    }\n",
              "\n",
              "    .dataframe tbody tr th {\n",
              "        vertical-align: top;\n",
              "    }\n",
              "\n",
              "    .dataframe thead th {\n",
              "        text-align: right;\n",
              "    }\n",
              "</style>\n",
              "<table border=\"1\" class=\"dataframe\">\n",
              "  <thead>\n",
              "    <tr style=\"text-align: right;\">\n",
              "      <th></th>\n",
              "      <th>drv</th>\n",
              "      <th>n</th>\n",
              "    </tr>\n",
              "  </thead>\n",
              "  <tbody>\n",
              "    <tr>\n",
              "      <th>0</th>\n",
              "      <td>4</td>\n",
              "      <td>103</td>\n",
              "    </tr>\n",
              "    <tr>\n",
              "      <th>1</th>\n",
              "      <td>f</td>\n",
              "      <td>106</td>\n",
              "    </tr>\n",
              "    <tr>\n",
              "      <th>2</th>\n",
              "      <td>r</td>\n",
              "      <td>25</td>\n",
              "    </tr>\n",
              "  </tbody>\n",
              "</table>\n",
              "</div>\n",
              "      <button class=\"colab-df-convert\" onclick=\"convertToInteractive('df-54ece1f2-8875-43c5-b933-fba793e1cc2c')\"\n",
              "              title=\"Convert this dataframe to an interactive table.\"\n",
              "              style=\"display:none;\">\n",
              "        \n",
              "  <svg xmlns=\"http://www.w3.org/2000/svg\" height=\"24px\"viewBox=\"0 0 24 24\"\n",
              "       width=\"24px\">\n",
              "    <path d=\"M0 0h24v24H0V0z\" fill=\"none\"/>\n",
              "    <path d=\"M18.56 5.44l.94 2.06.94-2.06 2.06-.94-2.06-.94-.94-2.06-.94 2.06-2.06.94zm-11 1L8.5 8.5l.94-2.06 2.06-.94-2.06-.94L8.5 2.5l-.94 2.06-2.06.94zm10 10l.94 2.06.94-2.06 2.06-.94-2.06-.94-.94-2.06-.94 2.06-2.06.94z\"/><path d=\"M17.41 7.96l-1.37-1.37c-.4-.4-.92-.59-1.43-.59-.52 0-1.04.2-1.43.59L10.3 9.45l-7.72 7.72c-.78.78-.78 2.05 0 2.83L4 21.41c.39.39.9.59 1.41.59.51 0 1.02-.2 1.41-.59l7.78-7.78 2.81-2.81c.8-.78.8-2.07 0-2.86zM5.41 20L4 18.59l7.72-7.72 1.47 1.35L5.41 20z\"/>\n",
              "  </svg>\n",
              "      </button>\n",
              "      \n",
              "  <style>\n",
              "    .colab-df-container {\n",
              "      display:flex;\n",
              "      flex-wrap:wrap;\n",
              "      gap: 12px;\n",
              "    }\n",
              "\n",
              "    .colab-df-convert {\n",
              "      background-color: #E8F0FE;\n",
              "      border: none;\n",
              "      border-radius: 50%;\n",
              "      cursor: pointer;\n",
              "      display: none;\n",
              "      fill: #1967D2;\n",
              "      height: 32px;\n",
              "      padding: 0 0 0 0;\n",
              "      width: 32px;\n",
              "    }\n",
              "\n",
              "    .colab-df-convert:hover {\n",
              "      background-color: #E2EBFA;\n",
              "      box-shadow: 0px 1px 2px rgba(60, 64, 67, 0.3), 0px 1px 3px 1px rgba(60, 64, 67, 0.15);\n",
              "      fill: #174EA6;\n",
              "    }\n",
              "\n",
              "    [theme=dark] .colab-df-convert {\n",
              "      background-color: #3B4455;\n",
              "      fill: #D2E3FC;\n",
              "    }\n",
              "\n",
              "    [theme=dark] .colab-df-convert:hover {\n",
              "      background-color: #434B5C;\n",
              "      box-shadow: 0px 1px 3px 1px rgba(0, 0, 0, 0.15);\n",
              "      filter: drop-shadow(0px 1px 2px rgba(0, 0, 0, 0.3));\n",
              "      fill: #FFFFFF;\n",
              "    }\n",
              "  </style>\n",
              "\n",
              "      <script>\n",
              "        const buttonEl =\n",
              "          document.querySelector('#df-54ece1f2-8875-43c5-b933-fba793e1cc2c button.colab-df-convert');\n",
              "        buttonEl.style.display =\n",
              "          google.colab.kernel.accessAllowed ? 'block' : 'none';\n",
              "\n",
              "        async function convertToInteractive(key) {\n",
              "          const element = document.querySelector('#df-54ece1f2-8875-43c5-b933-fba793e1cc2c');\n",
              "          const dataTable =\n",
              "            await google.colab.kernel.invokeFunction('convertToInteractive',\n",
              "                                                     [key], {});\n",
              "          if (!dataTable) return;\n",
              "\n",
              "          const docLinkHtml = 'Like what you see? Visit the ' +\n",
              "            '<a target=\"_blank\" href=https://colab.research.google.com/notebooks/data_table.ipynb>data table notebook</a>'\n",
              "            + ' to learn more about interactive tables.';\n",
              "          element.innerHTML = '';\n",
              "          dataTable['output_type'] = 'display_data';\n",
              "          await google.colab.output.renderOutput(dataTable, element);\n",
              "          const docLink = document.createElement('div');\n",
              "          docLink.innerHTML = docLinkHtml;\n",
              "          element.appendChild(docLink);\n",
              "        }\n",
              "      </script>\n",
              "    </div>\n",
              "  </div>\n",
              "  "
            ]
          },
          "metadata": {},
          "execution_count": 39
        }
      ]
    },
    {
      "cell_type": "code",
      "source": [
        "# 막대 그래프 만들기\n",
        "sns.barplot(data = df_mpg, x = 'drv', y = 'n')"
      ],
      "metadata": {
        "colab": {
          "base_uri": "https://localhost:8080/",
          "height": 298
        },
        "id": "PQ6f9q2jRK4j",
        "outputId": "03e675d8-4e63-46b2-bed4-b54535a86000"
      },
      "execution_count": null,
      "outputs": [
        {
          "output_type": "execute_result",
          "data": {
            "text/plain": [
              "<matplotlib.axes._subplots.AxesSubplot at 0x7fac0bd43ad0>"
            ]
          },
          "metadata": {},
          "execution_count": 40
        },
        {
          "output_type": "display_data",
          "data": {
            "text/plain": [
              "<Figure size 432x288 with 1 Axes>"
            ],
            "image/png": "[encoded data removed]"
          },
          "metadata": {}
        }
      ]
    },
    {
      "cell_type": "code",
      "source": [
        "# 빈도 막대 그래프 만들기\n",
        "sns.countplot(data = mpg, x = 'drv')"
      ],
      "metadata": {
        "colab": {
          "base_uri": "https://localhost:8080/",
          "height": 358
        },
        "id": "9CNnU-bhRN-u",
        "outputId": "2488ae37-37f2-4d8d-b116-44c6c5d5f739"
      },
      "execution_count": null,
      "outputs": [
        {
          "output_type": "execute_result",
          "data": {
            "text/plain": [
              "<matplotlib.axes._subplots.AxesSubplot at 0x7fac038ff990>"
            ]
          },
          "metadata": {},
          "execution_count": 114
        },
        {
          "output_type": "display_data",
          "data": {
            "text/plain": [
              "<Figure size 432x360 with 1 Axes>"
            ],
            "image/png": "[encoded data removed]"
          },
          "metadata": {}
        }
      ]
    },
    {
      "cell_type": "code",
      "source": [
        "# 4, f, r 순으로 막대 정렬\n",
        "sns.countplot(data = mpg, x = 'drv', order = [ 'f', '4','r'])"
      ],
      "metadata": {
        "colab": {
          "base_uri": "https://localhost:8080/",
          "height": 298
        },
        "id": "AwbdidalRkU_",
        "outputId": "fbc1a9c9-63f2-4f33-a818-07b6044628c1"
      },
      "execution_count": null,
      "outputs": [
        {
          "output_type": "execute_result",
          "data": {
            "text/plain": [
              "<matplotlib.axes._subplots.AxesSubplot at 0x7fac0c191f10>"
            ]
          },
          "metadata": {},
          "execution_count": 44
        },
        {
          "output_type": "display_data",
          "data": {
            "text/plain": [
              "<Figure size 432x288 with 1 Axes>"
            ],
            "image/png": "[encoded data removed]"
          },
          "metadata": {}
        }
      ]
    },
    {
      "cell_type": "code",
      "source": [
        "# drv의 값을 빈도가 높은 순으로 출력\n",
        "mpg['drv'].value_counts().index\n",
        "\n",
        "#mpg['drv'].value_counts().values  #빈도 출력"
      ],
      "metadata": {
        "colab": {
          "base_uri": "https://localhost:8080/"
        },
        "id": "yAp7aKcVRqEG",
        "outputId": "02f3e226-bede-4fbf-c29e-bd1bb8ff3a68"
      },
      "execution_count": null,
      "outputs": [
        {
          "output_type": "execute_result",
          "data": {
            "text/plain": [
              "Index(['f', '4', 'r'], dtype='object')"
            ]
          },
          "metadata": {},
          "execution_count": 46
        }
      ]
    },
    {
      "cell_type": "code",
      "source": [
        "# drv 빈도 높은 순으로 막대 정렬\n",
        "sns.countplot(data = mpg, x = 'drv', order = mpg['drv'].value_counts().index)"
      ],
      "metadata": {
        "colab": {
          "base_uri": "https://localhost:8080/",
          "height": 298
        },
        "id": "gutdiOa1RvQC",
        "outputId": "9f79412b-bdfe-4423-f6c2-ffb9f3e7c2ba"
      },
      "execution_count": null,
      "outputs": [
        {
          "output_type": "execute_result",
          "data": {
            "text/plain": [
              "<matplotlib.axes._subplots.AxesSubplot at 0x7f26f4d54c90>"
            ]
          },
          "metadata": {},
          "execution_count": 17
        },
        {
          "output_type": "display_data",
          "data": {
            "text/plain": [
              "<Figure size 432x288 with 1 Axes>"
            ],
            "image/png": "[encoded data removed]"
          },
          "metadata": {}
        }
      ]
    },
    {
      "cell_type": "markdown",
      "source": [
        "## 선 그래프 \n",
        "- 데이터를 선으로 표현한 그래프\n",
        "- 환율, 주가 지수 등 시간에 따라 달라지는 경제지표(시계열) 데이터 표현시 자주 이용 "
      ],
      "metadata": {
        "id": "GmAacc0BS9pJ"
      }
    },
    {
      "cell_type": "code",
      "source": [
        "# economics 데이터 불러오기\n",
        "economics = pd.read_csv(\"/content/drive/My Drive/Colab Notebooks/ITB/economics.csv\")\n",
        "display(economics.head())\n",
        "economics.info()\n",
        "\n",
        "# data: 데이터 수집 월, pce: personal consumption expenditures (in billions of dollars)\n",
        "# pop: total population, in thousands (인구, 천단위), psavert: personal savings rate (개인 예금금리)\n",
        "# unempmed: 실업 기간 중간값(median, 주단위), umemploy: 실업자 수 (천단위) "
      ],
      "metadata": {
        "colab": {
          "base_uri": "https://localhost:8080/",
          "height": 452
        },
        "id": "yCFQUMHGTYsK",
        "outputId": "e886a415-3004-4e22-e7d1-dcd2c134ca8a"
      },
      "execution_count": null,
      "outputs": [
        {
          "output_type": "display_data",
          "data": {
            "text/plain": [
              "         date    pce       pop  psavert  uempmed  unemploy\n",
              "0  1967-07-01  506.7  198712.0     12.6      4.5      2944\n",
              "1  1967-08-01  509.8  198911.0     12.6      4.7      2945\n",
              "2  1967-09-01  515.6  199113.0     11.9      4.6      2958\n",
              "3  1967-10-01  512.2  199311.0     12.9      4.9      3143\n",
              "4  1967-11-01  517.4  199498.0     12.8      4.7      3066"
            ],
            "text/html": [
              "\n",
              "  <div id=\"df-f0ef6c29-223c-407e-89d9-450bba9416ea\">\n",
              "    <div class=\"colab-df-container\">\n",
              "      <div>\n",
              "<style scoped>\n",
              "    .dataframe tbody tr th:only-of-type {\n",
              "        vertical-align: middle;\n",
              "    }\n",
              "\n",
              "    .dataframe tbody tr th {\n",
              "        vertical-align: top;\n",
              "    }\n",
              "\n",
              "    .dataframe thead th {\n",
              "        text-align: right;\n",
              "    }\n",
              "</style>\n",
              "<table border=\"1\" class=\"dataframe\">\n",
              "  <thead>\n",
              "    <tr style=\"text-align: right;\">\n",
              "      <th></th>\n",
              "      <th>date</th>\n",
              "      <th>pce</th>\n",
              "      <th>pop</th>\n",
              "      <th>psavert</th>\n",
              "      <th>uempmed</th>\n",
              "      <th>unemploy</th>\n",
              "    </tr>\n",
              "  </thead>\n",
              "  <tbody>\n",
              "    <tr>\n",
              "      <th>0</th>\n",
              "      <td>1967-07-01</td>\n",
              "      <td>506.7</td>\n",
              "      <td>198712.0</td>\n",
              "      <td>12.6</td>\n",
              "      <td>4.5</td>\n",
              "      <td>2944</td>\n",
              "    </tr>\n",
              "    <tr>\n",
              "      <th>1</th>\n",
              "      <td>1967-08-01</td>\n",
              "      <td>509.8</td>\n",
              "      <td>198911.0</td>\n",
              "      <td>12.6</td>\n",
              "      <td>4.7</td>\n",
              "      <td>2945</td>\n",
              "    </tr>\n",
              "    <tr>\n",
              "      <th>2</th>\n",
              "      <td>1967-09-01</td>\n",
              "      <td>515.6</td>\n",
              "      <td>199113.0</td>\n",
              "      <td>11.9</td>\n",
              "      <td>4.6</td>\n",
              "      <td>2958</td>\n",
              "    </tr>\n",
              "    <tr>\n",
              "      <th>3</th>\n",
              "      <td>1967-10-01</td>\n",
              "      <td>512.2</td>\n",
              "      <td>199311.0</td>\n",
              "      <td>12.9</td>\n",
              "      <td>4.9</td>\n",
              "      <td>3143</td>\n",
              "    </tr>\n",
              "    <tr>\n",
              "      <th>4</th>\n",
              "      <td>1967-11-01</td>\n",
              "      <td>517.4</td>\n",
              "      <td>199498.0</td>\n",
              "      <td>12.8</td>\n",
              "      <td>4.7</td>\n",
              "      <td>3066</td>\n",
              "    </tr>\n",
              "  </tbody>\n",
              "</table>\n",
              "</div>\n",
              "      <button class=\"colab-df-convert\" onclick=\"convertToInteractive('df-f0ef6c29-223c-407e-89d9-450bba9416ea')\"\n",
              "              title=\"Convert this dataframe to an interactive table.\"\n",
              "              style=\"display:none;\">\n",
              "        \n",
              "  <svg xmlns=\"http://www.w3.org/2000/svg\" height=\"24px\"viewBox=\"0 0 24 24\"\n",
              "       width=\"24px\">\n",
              "    <path d=\"M0 0h24v24H0V0z\" fill=\"none\"/>\n",
              "    <path d=\"M18.56 5.44l.94 2.06.94-2.06 2.06-.94-2.06-.94-.94-2.06-.94 2.06-2.06.94zm-11 1L8.5 8.5l.94-2.06 2.06-.94-2.06-.94L8.5 2.5l-.94 2.06-2.06.94zm10 10l.94 2.06.94-2.06 2.06-.94-2.06-.94-.94-2.06-.94 2.06-2.06.94z\"/><path d=\"M17.41 7.96l-1.37-1.37c-.4-.4-.92-.59-1.43-.59-.52 0-1.04.2-1.43.59L10.3 9.45l-7.72 7.72c-.78.78-.78 2.05 0 2.83L4 21.41c.39.39.9.59 1.41.59.51 0 1.02-.2 1.41-.59l7.78-7.78 2.81-2.81c.8-.78.8-2.07 0-2.86zM5.41 20L4 18.59l7.72-7.72 1.47 1.35L5.41 20z\"/>\n",
              "  </svg>\n",
              "      </button>\n",
              "      \n",
              "  <style>\n",
              "    .colab-df-container {\n",
              "      display:flex;\n",
              "      flex-wrap:wrap;\n",
              "      gap: 12px;\n",
              "    }\n",
              "\n",
              "    .colab-df-convert {\n",
              "      background-color: #E8F0FE;\n",
              "      border: none;\n",
              "      border-radius: 50%;\n",
              "      cursor: pointer;\n",
              "      display: none;\n",
              "      fill: #1967D2;\n",
              "      height: 32px;\n",
              "      padding: 0 0 0 0;\n",
              "      width: 32px;\n",
              "    }\n",
              "\n",
              "    .colab-df-convert:hover {\n",
              "      background-color: #E2EBFA;\n",
              "      box-shadow: 0px 1px 2px rgba(60, 64, 67, 0.3), 0px 1px 3px 1px rgba(60, 64, 67, 0.15);\n",
              "      fill: #174EA6;\n",
              "    }\n",
              "\n",
              "    [theme=dark] .colab-df-convert {\n",
              "      background-color: #3B4455;\n",
              "      fill: #D2E3FC;\n",
              "    }\n",
              "\n",
              "    [theme=dark] .colab-df-convert:hover {\n",
              "      background-color: #434B5C;\n",
              "      box-shadow: 0px 1px 3px 1px rgba(0, 0, 0, 0.15);\n",
              "      filter: drop-shadow(0px 1px 2px rgba(0, 0, 0, 0.3));\n",
              "      fill: #FFFFFF;\n",
              "    }\n",
              "  </style>\n",
              "\n",
              "      <script>\n",
              "        const buttonEl =\n",
              "          document.querySelector('#df-f0ef6c29-223c-407e-89d9-450bba9416ea button.colab-df-convert');\n",
              "        buttonEl.style.display =\n",
              "          google.colab.kernel.accessAllowed ? 'block' : 'none';\n",
              "\n",
              "        async function convertToInteractive(key) {\n",
              "          const element = document.querySelector('#df-f0ef6c29-223c-407e-89d9-450bba9416ea');\n",
              "          const dataTable =\n",
              "            await google.colab.kernel.invokeFunction('convertToInteractive',\n",
              "                                                     [key], {});\n",
              "          if (!dataTable) return;\n",
              "\n",
              "          const docLinkHtml = 'Like what you see? Visit the ' +\n",
              "            '<a target=\"_blank\" href=https://colab.research.google.com/notebooks/data_table.ipynb>data table notebook</a>'\n",
              "            + ' to learn more about interactive tables.';\n",
              "          element.innerHTML = '';\n",
              "          dataTable['output_type'] = 'display_data';\n",
              "          await google.colab.output.renderOutput(dataTable, element);\n",
              "          const docLink = document.createElement('div');\n",
              "          docLink.innerHTML = docLinkHtml;\n",
              "          element.appendChild(docLink);\n",
              "        }\n",
              "      </script>\n",
              "    </div>\n",
              "  </div>\n",
              "  "
            ]
          },
          "metadata": {}
        },
        {
          "output_type": "stream",
          "name": "stdout",
          "text": [
            "<class 'pandas.core.frame.DataFrame'>\n",
            "RangeIndex: 574 entries, 0 to 573\n",
            "Data columns (total 6 columns):\n",
            " #   Column    Non-Null Count  Dtype  \n",
            "---  ------    --------------  -----  \n",
            " 0   date      574 non-null    object \n",
            " 1   pce       574 non-null    float64\n",
            " 2   pop       574 non-null    float64\n",
            " 3   psavert   574 non-null    float64\n",
            " 4   uempmed   574 non-null    float64\n",
            " 5   unemploy  574 non-null    int64  \n",
            "dtypes: float64(4), int64(1), object(1)\n",
            "memory usage: 27.0+ KB\n"
          ]
        }
      ]
    },
    {
      "cell_type": "code",
      "source": [
        "sns.lineplot(data = economics, x = 'date', y = 'unemploy')"
      ],
      "metadata": {
        "colab": {
          "base_uri": "https://localhost:8080/",
          "height": 358
        },
        "id": "PNmnCoPjUCpv",
        "outputId": "07fccd73-5a1b-48fd-b364-e2859be2e4c0"
      },
      "execution_count": null,
      "outputs": [
        {
          "output_type": "execute_result",
          "data": {
            "text/plain": [
              "<matplotlib.axes._subplots.AxesSubplot at 0x7fac0384f9d0>"
            ]
          },
          "metadata": {},
          "execution_count": 116
        },
        {
          "output_type": "display_data",
          "data": {
            "text/plain": [
              "<Figure size 432x360 with 1 Axes>"
            ],
            "image/png": "[encoded data removed]"
          },
          "metadata": {}
        }
      ]
    },
    {
      "cell_type": "code",
      "source": [
        "# 날짜 시간 타입 변수 만들기\n",
        "economics['date2'] = pd.to_datetime(economics['date'])\n",
        "\n",
        "# 변수 타입 확인\n",
        "economics.info()"
      ],
      "metadata": {
        "colab": {
          "base_uri": "https://localhost:8080/"
        },
        "id": "lnDPY5SXV-7R",
        "outputId": "ddce9587-7192-48e0-f388-7c4feed1777f"
      },
      "execution_count": null,
      "outputs": [
        {
          "output_type": "stream",
          "name": "stdout",
          "text": [
            "<class 'pandas.core.frame.DataFrame'>\n",
            "RangeIndex: 574 entries, 0 to 573\n",
            "Data columns (total 7 columns):\n",
            " #   Column    Non-Null Count  Dtype         \n",
            "---  ------    --------------  -----         \n",
            " 0   date      574 non-null    object        \n",
            " 1   pce       574 non-null    float64       \n",
            " 2   pop       574 non-null    float64       \n",
            " 3   psavert   574 non-null    float64       \n",
            " 4   uempmed   574 non-null    float64       \n",
            " 5   unemploy  574 non-null    int64         \n",
            " 6   date2     574 non-null    datetime64[ns]\n",
            "dtypes: datetime64[ns](1), float64(4), int64(1), object(1)\n",
            "memory usage: 31.5+ KB\n"
          ]
        }
      ]
    },
    {
      "cell_type": "code",
      "source": [
        "economics[['date', 'date2']]"
      ],
      "metadata": {
        "colab": {
          "base_uri": "https://localhost:8080/",
          "height": 424
        },
        "id": "g3DpM_KsWNAe",
        "outputId": "4de2bfcf-fa98-44e5-c3fe-7dc71468f0ef"
      },
      "execution_count": null,
      "outputs": [
        {
          "output_type": "execute_result",
          "data": {
            "text/plain": [
              "           date      date2\n",
              "0    1967-07-01 1967-07-01\n",
              "1    1967-08-01 1967-08-01\n",
              "2    1967-09-01 1967-09-01\n",
              "3    1967-10-01 1967-10-01\n",
              "4    1967-11-01 1967-11-01\n",
              "..          ...        ...\n",
              "569  2014-12-01 2014-12-01\n",
              "570  2015-01-01 2015-01-01\n",
              "571  2015-02-01 2015-02-01\n",
              "572  2015-03-01 2015-03-01\n",
              "573  2015-04-01 2015-04-01\n",
              "\n",
              "[574 rows x 2 columns]"
            ],
            "text/html": [
              "\n",
              "  <div id=\"df-12d08219-a230-4f4a-9b95-9514c5df6f32\">\n",
              "    <div class=\"colab-df-container\">\n",
              "      <div>\n",
              "<style scoped>\n",
              "    .dataframe tbody tr th:only-of-type {\n",
              "        vertical-align: middle;\n",
              "    }\n",
              "\n",
              "    .dataframe tbody tr th {\n",
              "        vertical-align: top;\n",
              "    }\n",
              "\n",
              "    .dataframe thead th {\n",
              "        text-align: right;\n",
              "    }\n",
              "</style>\n",
              "<table border=\"1\" class=\"dataframe\">\n",
              "  <thead>\n",
              "    <tr style=\"text-align: right;\">\n",
              "      <th></th>\n",
              "      <th>date</th>\n",
              "      <th>date2</th>\n",
              "    </tr>\n",
              "  </thead>\n",
              "  <tbody>\n",
              "    <tr>\n",
              "      <th>0</th>\n",
              "      <td>1967-07-01</td>\n",
              "      <td>1967-07-01</td>\n",
              "    </tr>\n",
              "    <tr>\n",
              "      <th>1</th>\n",
              "      <td>1967-08-01</td>\n",
              "      <td>1967-08-01</td>\n",
              "    </tr>\n",
              "    <tr>\n",
              "      <th>2</th>\n",
              "      <td>1967-09-01</td>\n",
              "      <td>1967-09-01</td>\n",
              "    </tr>\n",
              "    <tr>\n",
              "      <th>3</th>\n",
              "      <td>1967-10-01</td>\n",
              "      <td>1967-10-01</td>\n",
              "    </tr>\n",
              "    <tr>\n",
              "      <th>4</th>\n",
              "      <td>1967-11-01</td>\n",
              "      <td>1967-11-01</td>\n",
              "    </tr>\n",
              "    <tr>\n",
              "      <th>...</th>\n",
              "      <td>...</td>\n",
              "      <td>...</td>\n",
              "    </tr>\n",
              "    <tr>\n",
              "      <th>569</th>\n",
              "      <td>2014-12-01</td>\n",
              "      <td>2014-12-01</td>\n",
              "    </tr>\n",
              "    <tr>\n",
              "      <th>570</th>\n",
              "      <td>2015-01-01</td>\n",
              "      <td>2015-01-01</td>\n",
              "    </tr>\n",
              "    <tr>\n",
              "      <th>571</th>\n",
              "      <td>2015-02-01</td>\n",
              "      <td>2015-02-01</td>\n",
              "    </tr>\n",
              "    <tr>\n",
              "      <th>572</th>\n",
              "      <td>2015-03-01</td>\n",
              "      <td>2015-03-01</td>\n",
              "    </tr>\n",
              "    <tr>\n",
              "      <th>573</th>\n",
              "      <td>2015-04-01</td>\n",
              "      <td>2015-04-01</td>\n",
              "    </tr>\n",
              "  </tbody>\n",
              "</table>\n",
              "<p>574 rows × 2 columns</p>\n",
              "</div>\n",
              "      <button class=\"colab-df-convert\" onclick=\"convertToInteractive('df-12d08219-a230-4f4a-9b95-9514c5df6f32')\"\n",
              "              title=\"Convert this dataframe to an interactive table.\"\n",
              "              style=\"display:none;\">\n",
              "        \n",
              "  <svg xmlns=\"http://www.w3.org/2000/svg\" height=\"24px\"viewBox=\"0 0 24 24\"\n",
              "       width=\"24px\">\n",
              "    <path d=\"M0 0h24v24H0V0z\" fill=\"none\"/>\n",
              "    <path d=\"M18.56 5.44l.94 2.06.94-2.06 2.06-.94-2.06-.94-.94-2.06-.94 2.06-2.06.94zm-11 1L8.5 8.5l.94-2.06 2.06-.94-2.06-.94L8.5 2.5l-.94 2.06-2.06.94zm10 10l.94 2.06.94-2.06 2.06-.94-2.06-.94-.94-2.06-.94 2.06-2.06.94z\"/><path d=\"M17.41 7.96l-1.37-1.37c-.4-.4-.92-.59-1.43-.59-.52 0-1.04.2-1.43.59L10.3 9.45l-7.72 7.72c-.78.78-.78 2.05 0 2.83L4 21.41c.39.39.9.59 1.41.59.51 0 1.02-.2 1.41-.59l7.78-7.78 2.81-2.81c.8-.78.8-2.07 0-2.86zM5.41 20L4 18.59l7.72-7.72 1.47 1.35L5.41 20z\"/>\n",
              "  </svg>\n",
              "      </button>\n",
              "      \n",
              "  <style>\n",
              "    .colab-df-container {\n",
              "      display:flex;\n",
              "      flex-wrap:wrap;\n",
              "      gap: 12px;\n",
              "    }\n",
              "\n",
              "    .colab-df-convert {\n",
              "      background-color: #E8F0FE;\n",
              "      border: none;\n",
              "      border-radius: 50%;\n",
              "      cursor: pointer;\n",
              "      display: none;\n",
              "      fill: #1967D2;\n",
              "      height: 32px;\n",
              "      padding: 0 0 0 0;\n",
              "      width: 32px;\n",
              "    }\n",
              "\n",
              "    .colab-df-convert:hover {\n",
              "      background-color: #E2EBFA;\n",
              "      box-shadow: 0px 1px 2px rgba(60, 64, 67, 0.3), 0px 1px 3px 1px rgba(60, 64, 67, 0.15);\n",
              "      fill: #174EA6;\n",
              "    }\n",
              "\n",
              "    [theme=dark] .colab-df-convert {\n",
              "      background-color: #3B4455;\n",
              "      fill: #D2E3FC;\n",
              "    }\n",
              "\n",
              "    [theme=dark] .colab-df-convert:hover {\n",
              "      background-color: #434B5C;\n",
              "      box-shadow: 0px 1px 3px 1px rgba(0, 0, 0, 0.15);\n",
              "      filter: drop-shadow(0px 1px 2px rgba(0, 0, 0, 0.3));\n",
              "      fill: #FFFFFF;\n",
              "    }\n",
              "  </style>\n",
              "\n",
              "      <script>\n",
              "        const buttonEl =\n",
              "          document.querySelector('#df-12d08219-a230-4f4a-9b95-9514c5df6f32 button.colab-df-convert');\n",
              "        buttonEl.style.display =\n",
              "          google.colab.kernel.accessAllowed ? 'block' : 'none';\n",
              "\n",
              "        async function convertToInteractive(key) {\n",
              "          const element = document.querySelector('#df-12d08219-a230-4f4a-9b95-9514c5df6f32');\n",
              "          const dataTable =\n",
              "            await google.colab.kernel.invokeFunction('convertToInteractive',\n",
              "                                                     [key], {});\n",
              "          if (!dataTable) return;\n",
              "\n",
              "          const docLinkHtml = 'Like what you see? Visit the ' +\n",
              "            '<a target=\"_blank\" href=https://colab.research.google.com/notebooks/data_table.ipynb>data table notebook</a>'\n",
              "            + ' to learn more about interactive tables.';\n",
              "          element.innerHTML = '';\n",
              "          dataTable['output_type'] = 'display_data';\n",
              "          await google.colab.output.renderOutput(dataTable, element);\n",
              "          const docLink = document.createElement('div');\n",
              "          docLink.innerHTML = docLinkHtml;\n",
              "          element.appendChild(docLink);\n",
              "        }\n",
              "      </script>\n",
              "    </div>\n",
              "  </div>\n",
              "  "
            ]
          },
          "metadata": {},
          "execution_count": 118
        }
      ]
    },
    {
      "cell_type": "code",
      "source": [
        "#economics['date2'].dt.year   # 연 추출\n",
        "\n",
        "economics['date2'].dt.month  # 월 추출\n",
        "#economics['date2'].dt.day    # 일 추출"
      ],
      "metadata": {
        "colab": {
          "base_uri": "https://localhost:8080/"
        },
        "id": "8at5V-eAWP8h",
        "outputId": "93e12367-453d-4c05-bc3d-20bbe1572100"
      },
      "execution_count": null,
      "outputs": [
        {
          "output_type": "execute_result",
          "data": {
            "text/plain": [
              "0       7\n",
              "1       8\n",
              "2       9\n",
              "3      10\n",
              "4      11\n",
              "       ..\n",
              "569    12\n",
              "570     1\n",
              "571     2\n",
              "572     3\n",
              "573     4\n",
              "Name: date2, Length: 574, dtype: int64"
            ]
          },
          "metadata": {},
          "execution_count": 104
        }
      ]
    },
    {
      "cell_type": "code",
      "source": [
        "# 연도 변수 추가\n",
        "economics['year'] = economics['date2'].dt.year\n",
        "economics"
      ],
      "metadata": {
        "colab": {
          "base_uri": "https://localhost:8080/",
          "height": 424
        },
        "id": "L4s7lZDEWZjo",
        "outputId": "7bf60c20-7584-48bc-d3f3-b57f8371f218"
      },
      "execution_count": null,
      "outputs": [
        {
          "output_type": "execute_result",
          "data": {
            "text/plain": [
              "           date      pce         pop  psavert  uempmed  unemploy      date2  \\\n",
              "0    1967-07-01    506.7  198712.000     12.6      4.5      2944 1967-07-01   \n",
              "1    1967-08-01    509.8  198911.000     12.6      4.7      2945 1967-08-01   \n",
              "2    1967-09-01    515.6  199113.000     11.9      4.6      2958 1967-09-01   \n",
              "3    1967-10-01    512.2  199311.000     12.9      4.9      3143 1967-10-01   \n",
              "4    1967-11-01    517.4  199498.000     12.8      4.7      3066 1967-11-01   \n",
              "..          ...      ...         ...      ...      ...       ...        ...   \n",
              "569  2014-12-01  12062.0  319746.157      7.6     12.9      8717 2014-12-01   \n",
              "570  2015-01-01  12046.0  319928.646      7.7     13.2      8903 2015-01-01   \n",
              "571  2015-02-01  12082.4  320074.511      7.9     12.9      8610 2015-02-01   \n",
              "572  2015-03-01  12158.3  320230.786      7.4     12.0      8504 2015-03-01   \n",
              "573  2015-04-01  12193.8  320402.295      7.6     11.5      8526 2015-04-01   \n",
              "\n",
              "     year  \n",
              "0    1967  \n",
              "1    1967  \n",
              "2    1967  \n",
              "3    1967  \n",
              "4    1967  \n",
              "..    ...  \n",
              "569  2014  \n",
              "570  2015  \n",
              "571  2015  \n",
              "572  2015  \n",
              "573  2015  \n",
              "\n",
              "[574 rows x 8 columns]"
            ],
            "text/html": [
              "\n",
              "  <div id=\"df-53177cbe-1db8-468c-af55-22a36925c9f1\">\n",
              "    <div class=\"colab-df-container\">\n",
              "      <div>\n",
              "<style scoped>\n",
              "    .dataframe tbody tr th:only-of-type {\n",
              "        vertical-align: middle;\n",
              "    }\n",
              "\n",
              "    .dataframe tbody tr th {\n",
              "        vertical-align: top;\n",
              "    }\n",
              "\n",
              "    .dataframe thead th {\n",
              "        text-align: right;\n",
              "    }\n",
              "</style>\n",
              "<table border=\"1\" class=\"dataframe\">\n",
              "  <thead>\n",
              "    <tr style=\"text-align: right;\">\n",
              "      <th></th>\n",
              "      <th>date</th>\n",
              "      <th>pce</th>\n",
              "      <th>pop</th>\n",
              "      <th>psavert</th>\n",
              "      <th>uempmed</th>\n",
              "      <th>unemploy</th>\n",
              "      <th>date2</th>\n",
              "      <th>year</th>\n",
              "    </tr>\n",
              "  </thead>\n",
              "  <tbody>\n",
              "    <tr>\n",
              "      <th>0</th>\n",
              "      <td>1967-07-01</td>\n",
              "      <td>506.7</td>\n",
              "      <td>198712.000</td>\n",
              "      <td>12.6</td>\n",
              "      <td>4.5</td>\n",
              "      <td>2944</td>\n",
              "      <td>1967-07-01</td>\n",
              "      <td>1967</td>\n",
              "    </tr>\n",
              "    <tr>\n",
              "      <th>1</th>\n",
              "      <td>1967-08-01</td>\n",
              "      <td>509.8</td>\n",
              "      <td>198911.000</td>\n",
              "      <td>12.6</td>\n",
              "      <td>4.7</td>\n",
              "      <td>2945</td>\n",
              "      <td>1967-08-01</td>\n",
              "      <td>1967</td>\n",
              "    </tr>\n",
              "    <tr>\n",
              "      <th>2</th>\n",
              "      <td>1967-09-01</td>\n",
              "      <td>515.6</td>\n",
              "      <td>199113.000</td>\n",
              "      <td>11.9</td>\n",
              "      <td>4.6</td>\n",
              "      <td>2958</td>\n",
              "      <td>1967-09-01</td>\n",
              "      <td>1967</td>\n",
              "    </tr>\n",
              "    <tr>\n",
              "      <th>3</th>\n",
              "      <td>1967-10-01</td>\n",
              "      <td>512.2</td>\n",
              "      <td>199311.000</td>\n",
              "      <td>12.9</td>\n",
              "      <td>4.9</td>\n",
              "      <td>3143</td>\n",
              "      <td>1967-10-01</td>\n",
              "      <td>1967</td>\n",
              "    </tr>\n",
              "    <tr>\n",
              "      <th>4</th>\n",
              "      <td>1967-11-01</td>\n",
              "      <td>517.4</td>\n",
              "      <td>199498.000</td>\n",
              "      <td>12.8</td>\n",
              "      <td>4.7</td>\n",
              "      <td>3066</td>\n",
              "      <td>1967-11-01</td>\n",
              "      <td>1967</td>\n",
              "    </tr>\n",
              "    <tr>\n",
              "      <th>...</th>\n",
              "      <td>...</td>\n",
              "      <td>...</td>\n",
              "      <td>...</td>\n",
              "      <td>...</td>\n",
              "      <td>...</td>\n",
              "      <td>...</td>\n",
              "      <td>...</td>\n",
              "      <td>...</td>\n",
              "    </tr>\n",
              "    <tr>\n",
              "      <th>569</th>\n",
              "      <td>2014-12-01</td>\n",
              "      <td>12062.0</td>\n",
              "      <td>319746.157</td>\n",
              "      <td>7.6</td>\n",
              "      <td>12.9</td>\n",
              "      <td>8717</td>\n",
              "      <td>2014-12-01</td>\n",
              "      <td>2014</td>\n",
              "    </tr>\n",
              "    <tr>\n",
              "      <th>570</th>\n",
              "      <td>2015-01-01</td>\n",
              "      <td>12046.0</td>\n",
              "      <td>319928.646</td>\n",
              "      <td>7.7</td>\n",
              "      <td>13.2</td>\n",
              "      <td>8903</td>\n",
              "      <td>2015-01-01</td>\n",
              "      <td>2015</td>\n",
              "    </tr>\n",
              "    <tr>\n",
              "      <th>571</th>\n",
              "      <td>2015-02-01</td>\n",
              "      <td>12082.4</td>\n",
              "      <td>320074.511</td>\n",
              "      <td>7.9</td>\n",
              "      <td>12.9</td>\n",
              "      <td>8610</td>\n",
              "      <td>2015-02-01</td>\n",
              "      <td>2015</td>\n",
              "    </tr>\n",
              "    <tr>\n",
              "      <th>572</th>\n",
              "      <td>2015-03-01</td>\n",
              "      <td>12158.3</td>\n",
              "      <td>320230.786</td>\n",
              "      <td>7.4</td>\n",
              "      <td>12.0</td>\n",
              "      <td>8504</td>\n",
              "      <td>2015-03-01</td>\n",
              "      <td>2015</td>\n",
              "    </tr>\n",
              "    <tr>\n",
              "      <th>573</th>\n",
              "      <td>2015-04-01</td>\n",
              "      <td>12193.8</td>\n",
              "      <td>320402.295</td>\n",
              "      <td>7.6</td>\n",
              "      <td>11.5</td>\n",
              "      <td>8526</td>\n",
              "      <td>2015-04-01</td>\n",
              "      <td>2015</td>\n",
              "    </tr>\n",
              "  </tbody>\n",
              "</table>\n",
              "<p>574 rows × 8 columns</p>\n",
              "</div>\n",
              "      <button class=\"colab-df-convert\" onclick=\"convertToInteractive('df-53177cbe-1db8-468c-af55-22a36925c9f1')\"\n",
              "              title=\"Convert this dataframe to an interactive table.\"\n",
              "              style=\"display:none;\">\n",
              "        \n",
              "  <svg xmlns=\"http://www.w3.org/2000/svg\" height=\"24px\"viewBox=\"0 0 24 24\"\n",
              "       width=\"24px\">\n",
              "    <path d=\"M0 0h24v24H0V0z\" fill=\"none\"/>\n",
              "    <path d=\"M18.56 5.44l.94 2.06.94-2.06 2.06-.94-2.06-.94-.94-2.06-.94 2.06-2.06.94zm-11 1L8.5 8.5l.94-2.06 2.06-.94-2.06-.94L8.5 2.5l-.94 2.06-2.06.94zm10 10l.94 2.06.94-2.06 2.06-.94-2.06-.94-.94-2.06-.94 2.06-2.06.94z\"/><path d=\"M17.41 7.96l-1.37-1.37c-.4-.4-.92-.59-1.43-.59-.52 0-1.04.2-1.43.59L10.3 9.45l-7.72 7.72c-.78.78-.78 2.05 0 2.83L4 21.41c.39.39.9.59 1.41.59.51 0 1.02-.2 1.41-.59l7.78-7.78 2.81-2.81c.8-.78.8-2.07 0-2.86zM5.41 20L4 18.59l7.72-7.72 1.47 1.35L5.41 20z\"/>\n",
              "  </svg>\n",
              "      </button>\n",
              "      \n",
              "  <style>\n",
              "    .colab-df-container {\n",
              "      display:flex;\n",
              "      flex-wrap:wrap;\n",
              "      gap: 12px;\n",
              "    }\n",
              "\n",
              "    .colab-df-convert {\n",
              "      background-color: #E8F0FE;\n",
              "      border: none;\n",
              "      border-radius: 50%;\n",
              "      cursor: pointer;\n",
              "      display: none;\n",
              "      fill: #1967D2;\n",
              "      height: 32px;\n",
              "      padding: 0 0 0 0;\n",
              "      width: 32px;\n",
              "    }\n",
              "\n",
              "    .colab-df-convert:hover {\n",
              "      background-color: #E2EBFA;\n",
              "      box-shadow: 0px 1px 2px rgba(60, 64, 67, 0.3), 0px 1px 3px 1px rgba(60, 64, 67, 0.15);\n",
              "      fill: #174EA6;\n",
              "    }\n",
              "\n",
              "    [theme=dark] .colab-df-convert {\n",
              "      background-color: #3B4455;\n",
              "      fill: #D2E3FC;\n",
              "    }\n",
              "\n",
              "    [theme=dark] .colab-df-convert:hover {\n",
              "      background-color: #434B5C;\n",
              "      box-shadow: 0px 1px 3px 1px rgba(0, 0, 0, 0.15);\n",
              "      filter: drop-shadow(0px 1px 2px rgba(0, 0, 0, 0.3));\n",
              "      fill: #FFFFFF;\n",
              "    }\n",
              "  </style>\n",
              "\n",
              "      <script>\n",
              "        const buttonEl =\n",
              "          document.querySelector('#df-53177cbe-1db8-468c-af55-22a36925c9f1 button.colab-df-convert');\n",
              "        buttonEl.style.display =\n",
              "          google.colab.kernel.accessAllowed ? 'block' : 'none';\n",
              "\n",
              "        async function convertToInteractive(key) {\n",
              "          const element = document.querySelector('#df-53177cbe-1db8-468c-af55-22a36925c9f1');\n",
              "          const dataTable =\n",
              "            await google.colab.kernel.invokeFunction('convertToInteractive',\n",
              "                                                     [key], {});\n",
              "          if (!dataTable) return;\n",
              "\n",
              "          const docLinkHtml = 'Like what you see? Visit the ' +\n",
              "            '<a target=\"_blank\" href=https://colab.research.google.com/notebooks/data_table.ipynb>data table notebook</a>'\n",
              "            + ' to learn more about interactive tables.';\n",
              "          element.innerHTML = '';\n",
              "          dataTable['output_type'] = 'display_data';\n",
              "          await google.colab.output.renderOutput(dataTable, element);\n",
              "          const docLink = document.createElement('div');\n",
              "          docLink.innerHTML = docLinkHtml;\n",
              "          element.appendChild(docLink);\n",
              "        }\n",
              "      </script>\n",
              "    </div>\n",
              "  </div>\n",
              "  "
            ]
          },
          "metadata": {},
          "execution_count": 120
        }
      ]
    },
    {
      "cell_type": "code",
      "source": [
        "# 그래프 사이즈 지정\n",
        "sns.set(rc={'figure.figsize':(6, 5)}) \n",
        "\n",
        "# x축에 연도 표시\n",
        "sns.lineplot(data = economics, x = 'year', y = 'unemploy', ci=None)"
      ],
      "metadata": {
        "colab": {
          "base_uri": "https://localhost:8080/",
          "height": 358
        },
        "id": "XCKX2wRJWgRq",
        "outputId": "43dccac3-0448-4277-da1a-5f8e9e4640d0"
      },
      "execution_count": null,
      "outputs": [
        {
          "output_type": "execute_result",
          "data": {
            "text/plain": [
              "<matplotlib.axes._subplots.AxesSubplot at 0x7fac032fc210>"
            ]
          },
          "metadata": {},
          "execution_count": 121
        },
        {
          "output_type": "display_data",
          "data": {
            "text/plain": [
              "<Figure size 432x360 with 1 Axes>"
            ],
            "image/png": "[encoded data removed]"
          },
          "metadata": {}
        }
      ]
    },
    {
      "cell_type": "code",
      "source": [
        "#!pip install plotly   # interactive graph\n",
        "\n",
        "import plotly.express as px \n",
        "px.line(data_frame=economics, x='date', y='unemploy', width=600, height=400) "
      ],
      "metadata": {
        "colab": {
          "base_uri": "https://localhost:8080/",
          "height": 417
        },
        "id": "ohJXqrg8zqBc",
        "outputId": "57378709-098d-4582-d57a-51e5d4085d1c"
      },
      "execution_count": null,
      "outputs": [
        {
          "output_type": "display_data",
          "data": {
            "text/html": [
              "<html>\n",
              "<head><meta charset=\"utf-8\" /></head>\n",
              "<body>\n",
              "    <div>            <script src=\"https://cdnjs.cloudflare.com/ajax/libs/mathjax/2.7.5/MathJax.js?config=TeX-AMS-MML_SVG\"></script><script type=\"text/javascript\">if (window.MathJax) {MathJax.Hub.Config({SVG: {font: \"STIX-Web\"}});}</script>                <script type=\"text/javascript\">window.PlotlyConfig = {MathJaxConfig: 'local'};</script>\n",
              "        <script src=\"https://cdn.plot.ly/plotly-2.8.3.min.js\"></script>                <div id=\"9a9442fb-490a-46b5-900d-ea6fd54d3871\" class=\"plotly-graph-div\" style=\"height:400px; width:600px;\"></div>            <script type=\"text/javascript\">                                    window.PLOTLYENV=window.PLOTLYENV || {};                                    if (document.getElementById(\"9a9442fb-490a-46b5-900d-ea6fd54d3871\")) {                    Plotly.newPlot(                        \"9a9442fb-490a-46b5-900d-ea6fd54d3871\",                        [{\"hovertemplate\":\"date=%{x}<br>unemploy=%{y}<extra></extra>\",\"legendgroup\":\"\",\"line\":{\"color\":\"#636efa\",\"dash\":\"solid\"},\"marker\":{\"symbol\":\"circle\"},\"mode\":\"lines\",\"name\":\"\",\"orientation\":\"v\",\"showlegend\":false,\"x\":[\"1967-07-01\",\"1967-08-01\",\"1967-09-01\",\"1967-10-01\",\"1967-11-01\",\"1967-12-01\",\"1968-01-01\",\"1968-02-01\",\"1968-03-01\",\"1968-04-01\",\"1968-05-01\",\"1968-06-01\",\"1968-07-01\",\"1968-08-01\",\"1968-09-01\",\"1968-10-01\",\"1968-11-01\",\"1968-12-01\",\"1969-01-01\",\"1969-02-01\",\"1969-03-01\",\"1969-04-01\",\"1969-05-01\",\"1969-06-01\",\"1969-07-01\",\"1969-08-01\",\"1969-09-01\",\"1969-10-01\",\"1969-11-01\",\"1969-12-01\",\"1970-01-01\",\"1970-02-01\",\"1970-03-01\",\"1970-04-01\",\"1970-05-01\",\"1970-06-01\",\"1970-07-01\",\"1970-08-01\",\"1970-09-01\",\"1970-10-01\",\"1970-11-01\",\"1970-12-01\",\"1971-01-01\",\"1971-02-01\",\"1971-03-01\",\"1971-04-01\",\"1971-05-01\",\"1971-06-01\",\"1971-07-01\",\"1971-08-01\",\"1971-09-01\",\"1971-10-01\",\"1971-11-01\",\"1971-12-01\",\"1972-01-01\",\"1972-02-01\",\"1972-03-01\",\"1972-04-01\",\"1972-05-01\",\"1972-06-01\",\"1972-07-01\",\"1972-08-01\",\"1972-09-01\",\"1972-10-01\",\"1972-11-01\",\"1972-12-01\",\"1973-01-01\",\"1973-02-01\",\"1973-03-01\",\"1973-04-01\",\"1973-05-01\",\"1973-06-01\",\"1973-07-01\",\"1973-08-01\",\"1973-09-01\",\"1973-10-01\",\"1973-11-01\",\"1973-12-01\",\"1974-01-01\",\"1974-02-01\",\"1974-03-01\",\"1974-04-01\",\"1974-05-01\",\"1974-06-01\",\"1974-07-01\",\"1974-08-01\",\"1974-09-01\",\"1974-10-01\",\"1974-11-01\",\"1974-12-01\",\"1975-01-01\",\"1975-02-01\",\"1975-03-01\",\"1975-04-01\",\"1975-05-01\",\"1975-06-01\",\"1975-07-01\",\"1975-08-01\",\"1975-09-01\",\"1975-10-01\",\"1975-11-01\",\"1975-12-01\",\"1976-01-01\",\"1976-02-01\",\"1976-03-01\",\"1976-04-01\",\"1976-05-01\",\"1976-06-01\",\"1976-07-01\",\"1976-08-01\",\"1976-09-01\",\"1976-10-01\",\"1976-11-01\",\"1976-12-01\",\"1977-01-01\",\"1977-02-01\",\"1977-03-01\",\"1977-04-01\",\"1977-05-01\",\"1977-06-01\",\"1977-07-01\",\"1977-08-01\",\"1977-09-01\",\"1977-10-01\",\"1977-11-01\",\"1977-12-01\",\"1978-01-01\",\"1978-02-01\",\"1978-03-01\",\"1978-04-01\",\"1978-05-01\",\"1978-06-01\",\"1978-07-01\",\"1978-08-01\",\"1978-09-01\",\"1978-10-01\",\"1978-11-01\",\"1978-12-01\",\"1979-01-01\",\"1979-02-01\",\"1979-03-01\",\"1979-04-01\",\"1979-05-01\",\"1979-06-01\",\"1979-07-01\",\"1979-08-01\",\"1979-09-01\",\"1979-10-01\",\"1979-11-01\",\"1979-12-01\",\"1980-01-01\",\"1980-02-01\",\"1980-03-01\",\"1980-04-01\",\"1980-05-01\",\"1980-06-01\",\"1980-07-01\",\"1980-08-01\",\"1980-09-01\",\"1980-10-01\",\"1980-11-01\",\"1980-12-01\",\"1981-01-01\",\"1981-02-01\",\"1981-03-01\",\"1981-04-01\",\"1981-05-01\",\"1981-06-01\",\"1981-07-01\",\"1981-08-01\",\"1981-09-01\",\"1981-10-01\",\"1981-11-01\",\"1981-12-01\",\"1982-01-01\",\"1982-02-01\",\"1982-03-01\",\"1982-04-01\",\"1982-05-01\",\"1982-06-01\",\"1982-07-01\",\"1982-08-01\",\"1982-09-01\",\"1982-10-01\",\"1982-11-01\",\"1982-12-01\",\"1983-01-01\",\"1983-02-01\",\"1983-03-01\",\"1983-04-01\",\"1983-05-01\",\"1983-06-01\",\"1983-07-01\",\"1983-08-01\",\"1983-09-01\",\"1983-10-01\",\"1983-11-01\",\"1983-12-01\",\"1984-01-01\",\"1984-02-01\",\"1984-03-01\",\"1984-04-01\",\"1984-05-01\",\"1984-06-01\",\"1984-07-01\",\"1984-08-01\",\"1984-09-01\",\"1984-10-01\",\"1984-11-01\",\"1984-12-01\",\"1985-01-01\",\"1985-02-01\",\"1985-03-01\",\"1985-04-01\",\"1985-05-01\",\"1985-06-01\",\"1985-07-01\",\"1985-08-01\",\"1985-09-01\",\"1985-10-01\",\"1985-11-01\",\"1985-12-01\",\"1986-01-01\",\"1986-02-01\",\"1986-03-01\",\"1986-04-01\",\"1986-05-01\",\"1986-06-01\",\"1986-07-01\",\"1986-08-01\",\"1986-09-01\",\"1986-10-01\",\"1986-11-01\",\"1986-12-01\",\"1987-01-01\",\"1987-02-01\",\"1987-03-01\",\"1987-04-01\",\"1987-05-01\",\"1987-06-01\",\"1987-07-01\",\"1987-08-01\",\"1987-09-01\",\"1987-10-01\",\"1987-11-01\",\"1987-12-01\",\"1988-01-01\",\"1988-02-01\",\"1988-03-01\",\"1988-04-01\",\"1988-05-01\",\"1988-06-01\",\"1988-07-01\",\"1988-08-01\",\"1988-09-01\",\"1988-10-01\",\"1988-11-01\",\"1988-12-01\",\"1989-01-01\",\"1989-02-01\",\"1989-03-01\",\"1989-04-01\",\"1989-05-01\",\"1989-06-01\",\"1989-07-01\",\"1989-08-01\",\"1989-09-01\",\"1989-10-01\",\"1989-11-01\",\"1989-12-01\",\"1990-01-01\",\"1990-02-01\",\"1990-03-01\",\"1990-04-01\",\"1990-05-01\",\"1990-06-01\",\"1990-07-01\",\"1990-08-01\",\"1990-09-01\",\"1990-10-01\",\"1990-11-01\",\"1990-12-01\",\"1991-01-01\",\"1991-02-01\",\"1991-03-01\",\"1991-04-01\",\"1991-05-01\",\"1991-06-01\",\"1991-07-01\",\"1991-08-01\",\"1991-09-01\",\"1991-10-01\",\"1991-11-01\",\"1991-12-01\",\"1992-01-01\",\"1992-02-01\",\"1992-03-01\",\"1992-04-01\",\"1992-05-01\",\"1992-06-01\",\"1992-07-01\",\"1992-08-01\",\"1992-09-01\",\"1992-10-01\",\"1992-11-01\",\"1992-12-01\",\"1993-01-01\",\"1993-02-01\",\"1993-03-01\",\"1993-04-01\",\"1993-05-01\",\"1993-06-01\",\"1993-07-01\",\"1993-08-01\",\"1993-09-01\",\"1993-10-01\",\"1993-11-01\",\"1993-12-01\",\"1994-01-01\",\"1994-02-01\",\"1994-03-01\",\"1994-04-01\",\"1994-05-01\",\"1994-06-01\",\"1994-07-01\",\"1994-08-01\",\"1994-09-01\",\"1994-10-01\",\"1994-11-01\",\"1994-12-01\",\"1995-01-01\",\"1995-02-01\",\"1995-03-01\",\"1995-04-01\",\"1995-05-01\",\"1995-06-01\",\"1995-07-01\",\"1995-08-01\",\"1995-09-01\",\"1995-10-01\",\"1995-11-01\",\"1995-12-01\",\"1996-01-01\",\"1996-02-01\",\"1996-03-01\",\"1996-04-01\",\"1996-05-01\",\"1996-06-01\",\"1996-07-01\",\"1996-08-01\",\"1996-09-01\",\"1996-10-01\",\"1996-11-01\",\"1996-12-01\",\"1997-01-01\",\"1997-02-01\",\"1997-03-01\",\"1997-04-01\",\"1997-05-01\",\"1997-06-01\",\"1997-07-01\",\"1997-08-01\",\"1997-09-01\",\"1997-10-01\",\"1997-11-01\",\"1997-12-01\",\"1998-01-01\",\"1998-02-01\",\"1998-03-01\",\"1998-04-01\",\"1998-05-01\",\"1998-06-01\",\"1998-07-01\",\"1998-08-01\",\"1998-09-01\",\"1998-10-01\",\"1998-11-01\",\"1998-12-01\",\"1999-01-01\",\"1999-02-01\",\"1999-03-01\",\"1999-04-01\",\"1999-05-01\",\"1999-06-01\",\"1999-07-01\",\"1999-08-01\",\"1999-09-01\",\"1999-10-01\",\"1999-11-01\",\"1999-12-01\",\"2000-01-01\",\"2000-02-01\",\"2000-03-01\",\"2000-04-01\",\"2000-05-01\",\"2000-06-01\",\"2000-07-01\",\"2000-08-01\",\"2000-09-01\",\"2000-10-01\",\"2000-11-01\",\"2000-12-01\",\"2001-01-01\",\"2001-02-01\",\"2001-03-01\",\"2001-04-01\",\"2001-05-01\",\"2001-06-01\",\"2001-07-01\",\"2001-08-01\",\"2001-09-01\",\"2001-10-01\",\"2001-11-01\",\"2001-12-01\",\"2002-01-01\",\"2002-02-01\",\"2002-03-01\",\"2002-04-01\",\"2002-05-01\",\"2002-06-01\",\"2002-07-01\",\"2002-08-01\",\"2002-09-01\",\"2002-10-01\",\"2002-11-01\",\"2002-12-01\",\"2003-01-01\",\"2003-02-01\",\"2003-03-01\",\"2003-04-01\",\"2003-05-01\",\"2003-06-01\",\"2003-07-01\",\"2003-08-01\",\"2003-09-01\",\"2003-10-01\",\"2003-11-01\",\"2003-12-01\",\"2004-01-01\",\"2004-02-01\",\"2004-03-01\",\"2004-04-01\",\"2004-05-01\",\"2004-06-01\",\"2004-07-01\",\"2004-08-01\",\"2004-09-01\",\"2004-10-01\",\"2004-11-01\",\"2004-12-01\",\"2005-01-01\",\"2005-02-01\",\"2005-03-01\",\"2005-04-01\",\"2005-05-01\",\"2005-06-01\",\"2005-07-01\",\"2005-08-01\",\"2005-09-01\",\"2005-10-01\",\"2005-11-01\",\"2005-12-01\",\"2006-01-01\",\"2006-02-01\",\"2006-03-01\",\"2006-04-01\",\"2006-05-01\",\"2006-06-01\",\"2006-07-01\",\"2006-08-01\",\"2006-09-01\",\"2006-10-01\",\"2006-11-01\",\"2006-12-01\",\"2007-01-01\",\"2007-02-01\",\"2007-03-01\",\"2007-04-01\",\"2007-05-01\",\"2007-06-01\",\"2007-07-01\",\"2007-08-01\",\"2007-09-01\",\"2007-10-01\",\"2007-11-01\",\"2007-12-01\",\"2008-01-01\",\"2008-02-01\",\"2008-03-01\",\"2008-04-01\",\"2008-05-01\",\"2008-06-01\",\"2008-07-01\",\"2008-08-01\",\"2008-09-01\",\"2008-10-01\",\"2008-11-01\",\"2008-12-01\",\"2009-01-01\",\"2009-02-01\",\"2009-03-01\",\"2009-04-01\",\"2009-05-01\",\"2009-06-01\",\"2009-07-01\",\"2009-08-01\",\"2009-09-01\",\"2009-10-01\",\"2009-11-01\",\"2009-12-01\",\"2010-01-01\",\"2010-02-01\",\"2010-03-01\",\"2010-04-01\",\"2010-05-01\",\"2010-06-01\",\"2010-07-01\",\"2010-08-01\",\"2010-09-01\",\"2010-10-01\",\"2010-11-01\",\"2010-12-01\",\"2011-01-01\",\"2011-02-01\",\"2011-03-01\",\"2011-04-01\",\"2011-05-01\",\"2011-06-01\",\"2011-07-01\",\"2011-08-01\",\"2011-09-01\",\"2011-10-01\",\"2011-11-01\",\"2011-12-01\",\"2012-01-01\",\"2012-02-01\",\"2012-03-01\",\"2012-04-01\",\"2012-05-01\",\"2012-06-01\",\"2012-07-01\",\"2012-08-01\",\"2012-09-01\",\"2012-10-01\",\"2012-11-01\",\"2012-12-01\",\"2013-01-01\",\"2013-02-01\",\"2013-03-01\",\"2013-04-01\",\"2013-05-01\",\"2013-06-01\",\"2013-07-01\",\"2013-08-01\",\"2013-09-01\",\"2013-10-01\",\"2013-11-01\",\"2013-12-01\",\"2014-01-01\",\"2014-02-01\",\"2014-03-01\",\"2014-04-01\",\"2014-05-01\",\"2014-06-01\",\"2014-07-01\",\"2014-08-01\",\"2014-09-01\",\"2014-10-01\",\"2014-11-01\",\"2014-12-01\",\"2015-01-01\",\"2015-02-01\",\"2015-03-01\",\"2015-04-01\"],\"xaxis\":\"x\",\"y\":[2944,2945,2958,3143,3066,3018,2878,3001,2877,2709,2740,2938,2883,2768,2686,2689,2715,2685,2718,2692,2712,2758,2713,2816,2868,2856,3040,3049,2856,2884,3201,3453,3635,3797,3919,4071,4175,4256,4456,4591,4898,5076,4986,4903,4987,4959,4996,4949,5035,5134,5042,4954,5161,5154,5019,4928,5038,4959,4922,4923,4913,4939,4849,4875,4602,4543,4326,4452,4394,4459,4329,4363,4305,4305,4350,4144,4396,4489,4644,4731,4634,4618,4705,4927,5063,5022,5437,5523,6140,6636,7501,7520,7978,8210,8433,8220,8127,7928,7923,7897,7794,7744,7534,7326,7230,7330,7053,7322,7490,7518,7380,7430,7620,7545,7280,7443,7307,7059,6911,7134,6829,6925,6751,6763,6815,6386,6489,6318,6337,6180,6127,6028,6309,6080,6125,5947,6077,6228,6109,6173,6109,6069,5840,5959,5996,6320,6190,6296,6238,6325,6683,6702,6729,7358,7984,8098,8363,8281,8021,8088,8023,7718,8071,8051,7982,7869,8174,8098,7863,8036,8230,8646,9029,9267,9397,9705,9895,10244,10335,10538,10849,10881,11217,11529,11938,12051,11534,11545,11408,11268,11154,11246,10548,10623,10282,9887,9499,9331,9008,8791,8746,8762,8456,8226,8537,8519,8367,8381,8198,8358,8423,8321,8339,8395,8302,8460,8513,8196,8248,8298,8128,8138,7795,8402,8383,8364,8439,8508,8319,8135,8310,8243,8159,7883,7892,7865,7862,7542,7574,7398,7268,7261,7102,7227,7035,6936,6953,6929,6876,6601,6779,6546,6605,6843,6604,6568,6537,6518,6682,6359,6205,6468,6375,6577,6495,6511,6590,6630,6725,6667,6752,6651,6598,6797,6742,6590,6922,7188,7368,7459,7764,7901,8015,8265,8586,8439,8736,8692,8586,8666,8722,8842,8931,9198,9283,9454,9460,9415,9744,10040,9850,9787,9781,9398,9565,9557,9325,9183,9056,9110,9149,9121,8930,8763,8714,8750,8542,8477,8630,8583,8470,8331,7915,7927,7946,7933,7734,7632,7375,7230,7375,7187,7153,7645,7430,7427,7527,7484,7478,7328,7426,7423,7491,7313,7318,7415,7423,7095,7337,6882,6979,7031,7236,7253,7158,7102,7000,6873,6655,6799,6655,6608,6656,6454,6308,6476,6368,6306,6422,5941,6047,6212,6259,6179,6300,6280,6100,6032,5976,6111,5783,6004,5796,5951,6025,5838,5915,5778,5716,5653,5708,5858,5733,5481,5758,5651,5747,5853,5625,5534,5639,5634,6023,6089,6141,6271,6226,6484,6583,7042,7142,7694,8003,8258,8182,8215,8304,8599,8399,8393,8390,8304,8251,8307,8520,8640,8520,8618,8588,8842,8957,9266,9011,8896,8921,8732,8576,8317,8370,8167,8491,8170,8212,8286,8136,7990,7927,8061,7932,7934,7784,7980,7737,7672,7651,7524,7406,7345,7553,7453,7566,7279,7064,7184,7072,7120,6980,7001,7175,7091,6847,6727,6872,6762,7116,6927,6731,6850,6766,6979,7149,7067,7170,7237,7240,7645,7685,7497,7822,7637,8395,8575,8937,9438,9494,10074,10538,11286,12058,12898,13426,13853,14499,14707,14601,14814,15009,15352,15219,15098,15046,15113,15202,15325,14849,14474,14512,14648,14579,14516,15081,14348,14013,13820,13737,13957,13855,13962,13763,13818,13948,13594,13302,13093,12797,12813,12713,12646,12660,12692,12656,12471,12115,12124,12005,12298,12471,11950,11689,11760,11654,11751,11335,11279,11270,11136,10787,10404,10202,10349,10380,9702,9859,9460,9608,9599,9262,8990,9090,8717,8903,8610,8504,8526],\"yaxis\":\"y\",\"type\":\"scatter\"}],                        {\"template\":{\"data\":{\"bar\":[{\"error_x\":{\"color\":\"#2a3f5f\"},\"error_y\":{\"color\":\"#2a3f5f\"},\"marker\":{\"line\":{\"color\":\"#E5ECF6\",\"width\":0.5},\"pattern\":{\"fillmode\":\"overlay\",\"size\":10,\"solidity\":0.2}},\"type\":\"bar\"}],\"barpolar\":[{\"marker\":{\"line\":{\"color\":\"#E5ECF6\",\"width\":0.5},\"pattern\":{\"fillmode\":\"overlay\",\"size\":10,\"solidity\":0.2}},\"type\":\"barpolar\"}],\"carpet\":[{\"aaxis\":{\"endlinecolor\":\"#2a3f5f\",\"gridcolor\":\"white\",\"linecolor\":\"white\",\"minorgridcolor\":\"white\",\"startlinecolor\":\"#2a3f5f\"},\"baxis\":{\"endlinecolor\":\"#2a3f5f\",\"gridcolor\":\"white\",\"linecolor\":\"white\",\"minorgridcolor\":\"white\",\"startlinecolor\":\"#2a3f5f\"},\"type\":\"carpet\"}],\"choropleth\":[{\"colorbar\":{\"outlinewidth\":0,\"ticks\":\"\"},\"type\":\"choropleth\"}],\"contour\":[{\"colorbar\":{\"outlinewidth\":0,\"ticks\":\"\"},\"colorscale\":[[0.0,\"#0d0887\"],[0.1111111111111111,\"#46039f\"],[0.2222222222222222,\"#7201a8\"],[0.3333333333333333,\"#9c179e\"],[0.4444444444444444,\"#bd3786\"],[0.5555555555555556,\"#d8576b\"],[0.6666666666666666,\"#ed7953\"],[0.7777777777777778,\"#fb9f3a\"],[0.8888888888888888,\"#fdca26\"],[1.0,\"#f0f921\"]],\"type\":\"contour\"}],\"contourcarpet\":[{\"colorbar\":{\"outlinewidth\":0,\"ticks\":\"\"},\"type\":\"contourcarpet\"}],\"heatmap\":[{\"colorbar\":{\"outlinewidth\":0,\"ticks\":\"\"},\"colorscale\":[[0.0,\"#0d0887\"],[0.1111111111111111,\"#46039f\"],[0.2222222222222222,\"#7201a8\"],[0.3333333333333333,\"#9c179e\"],[0.4444444444444444,\"#bd3786\"],[0.5555555555555556,\"#d8576b\"],[0.6666666666666666,\"#ed7953\"],[0.7777777777777778,\"#fb9f3a\"],[0.8888888888888888,\"#fdca26\"],[1.0,\"#f0f921\"]],\"type\":\"heatmap\"}],\"heatmapgl\":[{\"colorbar\":{\"outlinewidth\":0,\"ticks\":\"\"},\"colorscale\":[[0.0,\"#0d0887\"],[0.1111111111111111,\"#46039f\"],[0.2222222222222222,\"#7201a8\"],[0.3333333333333333,\"#9c179e\"],[0.4444444444444444,\"#bd3786\"],[0.5555555555555556,\"#d8576b\"],[0.6666666666666666,\"#ed7953\"],[0.7777777777777778,\"#fb9f3a\"],[0.8888888888888888,\"#fdca26\"],[1.0,\"#f0f921\"]],\"type\":\"heatmapgl\"}],\"histogram\":[{\"marker\":{\"pattern\":{\"fillmode\":\"overlay\",\"size\":10,\"solidity\":0.2}},\"type\":\"histogram\"}],\"histogram2d\":[{\"colorbar\":{\"outlinewidth\":0,\"ticks\":\"\"},\"colorscale\":[[0.0,\"#0d0887\"],[0.1111111111111111,\"#46039f\"],[0.2222222222222222,\"#7201a8\"],[0.3333333333333333,\"#9c179e\"],[0.4444444444444444,\"#bd3786\"],[0.5555555555555556,\"#d8576b\"],[0.6666666666666666,\"#ed7953\"],[0.7777777777777778,\"#fb9f3a\"],[0.8888888888888888,\"#fdca26\"],[1.0,\"#f0f921\"]],\"type\":\"histogram2d\"}],\"histogram2dcontour\":[{\"colorbar\":{\"outlinewidth\":0,\"ticks\":\"\"},\"colorscale\":[[0.0,\"#0d0887\"],[0.1111111111111111,\"#46039f\"],[0.2222222222222222,\"#7201a8\"],[0.3333333333333333,\"#9c179e\"],[0.4444444444444444,\"#bd3786\"],[0.5555555555555556,\"#d8576b\"],[0.6666666666666666,\"#ed7953\"],[0.7777777777777778,\"#fb9f3a\"],[0.8888888888888888,\"#fdca26\"],[1.0,\"#f0f921\"]],\"type\":\"histogram2dcontour\"}],\"mesh3d\":[{\"colorbar\":{\"outlinewidth\":0,\"ticks\":\"\"},\"type\":\"mesh3d\"}],\"parcoords\":[{\"line\":{\"colorbar\":{\"outlinewidth\":0,\"ticks\":\"\"}},\"type\":\"parcoords\"}],\"pie\":[{\"automargin\":true,\"type\":\"pie\"}],\"scatter\":[{\"marker\":{\"colorbar\":{\"outlinewidth\":0,\"ticks\":\"\"}},\"type\":\"scatter\"}],\"scatter3d\":[{\"line\":{\"colorbar\":{\"outlinewidth\":0,\"ticks\":\"\"}},\"marker\":{\"colorbar\":{\"outlinewidth\":0,\"ticks\":\"\"}},\"type\":\"scatter3d\"}],\"scattercarpet\":[{\"marker\":{\"colorbar\":{\"outlinewidth\":0,\"ticks\":\"\"}},\"type\":\"scattercarpet\"}],\"scattergeo\":[{\"marker\":{\"colorbar\":{\"outlinewidth\":0,\"ticks\":\"\"}},\"type\":\"scattergeo\"}],\"scattergl\":[{\"marker\":{\"colorbar\":{\"outlinewidth\":0,\"ticks\":\"\"}},\"type\":\"scattergl\"}],\"scattermapbox\":[{\"marker\":{\"colorbar\":{\"outlinewidth\":0,\"ticks\":\"\"}},\"type\":\"scattermapbox\"}],\"scatterpolar\":[{\"marker\":{\"colorbar\":{\"outlinewidth\":0,\"ticks\":\"\"}},\"type\":\"scatterpolar\"}],\"scatterpolargl\":[{\"marker\":{\"colorbar\":{\"outlinewidth\":0,\"ticks\":\"\"}},\"type\":\"scatterpolargl\"}],\"scatterternary\":[{\"marker\":{\"colorbar\":{\"outlinewidth\":0,\"ticks\":\"\"}},\"type\":\"scatterternary\"}],\"surface\":[{\"colorbar\":{\"outlinewidth\":0,\"ticks\":\"\"},\"colorscale\":[[0.0,\"#0d0887\"],[0.1111111111111111,\"#46039f\"],[0.2222222222222222,\"#7201a8\"],[0.3333333333333333,\"#9c179e\"],[0.4444444444444444,\"#bd3786\"],[0.5555555555555556,\"#d8576b\"],[0.6666666666666666,\"#ed7953\"],[0.7777777777777778,\"#fb9f3a\"],[0.8888888888888888,\"#fdca26\"],[1.0,\"#f0f921\"]],\"type\":\"surface\"}],\"table\":[{\"cells\":{\"fill\":{\"color\":\"#EBF0F8\"},\"line\":{\"color\":\"white\"}},\"header\":{\"fill\":{\"color\":\"#C8D4E3\"},\"line\":{\"color\":\"white\"}},\"type\":\"table\"}]},\"layout\":{\"annotationdefaults\":{\"arrowcolor\":\"#2a3f5f\",\"arrowhead\":0,\"arrowwidth\":1},\"autotypenumbers\":\"strict\",\"coloraxis\":{\"colorbar\":{\"outlinewidth\":0,\"ticks\":\"\"}},\"colorscale\":{\"diverging\":[[0,\"#8e0152\"],[0.1,\"#c51b7d\"],[0.2,\"#de77ae\"],[0.3,\"#f1b6da\"],[0.4,\"#fde0ef\"],[0.5,\"#f7f7f7\"],[0.6,\"#e6f5d0\"],[0.7,\"#b8e186\"],[0.8,\"#7fbc41\"],[0.9,\"#4d9221\"],[1,\"#276419\"]],\"sequential\":[[0.0,\"#0d0887\"],[0.1111111111111111,\"#46039f\"],[0.2222222222222222,\"#7201a8\"],[0.3333333333333333,\"#9c179e\"],[0.4444444444444444,\"#bd3786\"],[0.5555555555555556,\"#d8576b\"],[0.6666666666666666,\"#ed7953\"],[0.7777777777777778,\"#fb9f3a\"],[0.8888888888888888,\"#fdca26\"],[1.0,\"#f0f921\"]],\"sequentialminus\":[[0.0,\"#0d0887\"],[0.1111111111111111,\"#46039f\"],[0.2222222222222222,\"#7201a8\"],[0.3333333333333333,\"#9c179e\"],[0.4444444444444444,\"#bd3786\"],[0.5555555555555556,\"#d8576b\"],[0.6666666666666666,\"#ed7953\"],[0.7777777777777778,\"#fb9f3a\"],[0.8888888888888888,\"#fdca26\"],[1.0,\"#f0f921\"]]},\"colorway\":[\"#636efa\",\"#EF553B\",\"#00cc96\",\"#ab63fa\",\"#FFA15A\",\"#19d3f3\",\"#FF6692\",\"#B6E880\",\"#FF97FF\",\"#FECB52\"],\"font\":{\"color\":\"#2a3f5f\"},\"geo\":{\"bgcolor\":\"white\",\"lakecolor\":\"white\",\"landcolor\":\"#E5ECF6\",\"showlakes\":true,\"showland\":true,\"subunitcolor\":\"white\"},\"hoverlabel\":{\"align\":\"left\"},\"hovermode\":\"closest\",\"mapbox\":{\"style\":\"light\"},\"paper_bgcolor\":\"white\",\"plot_bgcolor\":\"#E5ECF6\",\"polar\":{\"angularaxis\":{\"gridcolor\":\"white\",\"linecolor\":\"white\",\"ticks\":\"\"},\"bgcolor\":\"#E5ECF6\",\"radialaxis\":{\"gridcolor\":\"white\",\"linecolor\":\"white\",\"ticks\":\"\"}},\"scene\":{\"xaxis\":{\"backgroundcolor\":\"#E5ECF6\",\"gridcolor\":\"white\",\"gridwidth\":2,\"linecolor\":\"white\",\"showbackground\":true,\"ticks\":\"\",\"zerolinecolor\":\"white\"},\"yaxis\":{\"backgroundcolor\":\"#E5ECF6\",\"gridcolor\":\"white\",\"gridwidth\":2,\"linecolor\":\"white\",\"showbackground\":true,\"ticks\":\"\",\"zerolinecolor\":\"white\"},\"zaxis\":{\"backgroundcolor\":\"#E5ECF6\",\"gridcolor\":\"white\",\"gridwidth\":2,\"linecolor\":\"white\",\"showbackground\":true,\"ticks\":\"\",\"zerolinecolor\":\"white\"}},\"shapedefaults\":{\"line\":{\"color\":\"#2a3f5f\"}},\"ternary\":{\"aaxis\":{\"gridcolor\":\"white\",\"linecolor\":\"white\",\"ticks\":\"\"},\"baxis\":{\"gridcolor\":\"white\",\"linecolor\":\"white\",\"ticks\":\"\"},\"bgcolor\":\"#E5ECF6\",\"caxis\":{\"gridcolor\":\"white\",\"linecolor\":\"white\",\"ticks\":\"\"}},\"title\":{\"x\":0.05},\"xaxis\":{\"automargin\":true,\"gridcolor\":\"white\",\"linecolor\":\"white\",\"ticks\":\"\",\"title\":{\"standoff\":15},\"zerolinecolor\":\"white\",\"zerolinewidth\":2},\"yaxis\":{\"automargin\":true,\"gridcolor\":\"white\",\"linecolor\":\"white\",\"ticks\":\"\",\"title\":{\"standoff\":15},\"zerolinecolor\":\"white\",\"zerolinewidth\":2}}},\"xaxis\":{\"anchor\":\"y\",\"domain\":[0.0,1.0],\"title\":{\"text\":\"date\"}},\"yaxis\":{\"anchor\":\"x\",\"domain\":[0.0,1.0],\"title\":{\"text\":\"unemploy\"}},\"legend\":{\"tracegroupgap\":0},\"margin\":{\"t\":60},\"height\":400,\"width\":600},                        {\"responsive\": true}                    ).then(function(){\n",
              "                            \n",
              "var gd = document.getElementById('9a9442fb-490a-46b5-900d-ea6fd54d3871');\n",
              "var x = new MutationObserver(function (mutations, observer) {{\n",
              "        var display = window.getComputedStyle(gd).display;\n",
              "        if (!display || display === 'none') {{\n",
              "            console.log([gd, 'removed!']);\n",
              "            Plotly.purge(gd);\n",
              "            observer.disconnect();\n",
              "        }}\n",
              "}});\n",
              "\n",
              "// Listen for the removal of the full notebook cells\n",
              "var notebookContainer = gd.closest('#notebook-container');\n",
              "if (notebookContainer) {{\n",
              "    x.observe(notebookContainer, {childList: true});\n",
              "}}\n",
              "\n",
              "// Listen for the clearing of the current output cell\n",
              "var outputEl = gd.closest('.output');\n",
              "if (outputEl) {{\n",
              "    x.observe(outputEl, {childList: true});\n",
              "}}\n",
              "\n",
              "                        })                };                            </script>        </div>\n",
              "</body>\n",
              "</html>"
            ]
          },
          "metadata": {}
        }
      ]
    },
    {
      "cell_type": "markdown",
      "source": [
        "## 상자그림\n",
        "- 데이터의 분포 또는 퍼져 있는 형태를 직사각형 상자 모양으로 표현 \n",
        "- 상자 아래 가로선 (최솟값), 상자 밑면 (Q1), 중앙값, 상자윗면 (Q3), 상자 위 가로선 (최댓값)\n",
        "- 이상치: Q1- (Q3-Q1)x1.5 미만 또는 Q3+(Q3-Q1)*1.5 초과 \n"
      ],
      "metadata": {
        "id": "MPaXCBItWoM_"
      }
    },
    {
      "cell_type": "code",
      "source": [
        "sns.boxplot(data = mpg, x = 'drv', y = 'hwy')\n",
        "\n",
        "# 전륜구동(f)은 25~29 사이의 좁은 범위에 모여있는 뽀족한 형태의 분포를 보임, 연비가 극단적으로 높거나 낮은 자동차들이 있음 \n",
        "# 4륜구동(4)은 17~22 사이에 모여 있으며 중앙값이 상자 밑면에 가까운 것으로 낮은 값 쪽으로 치우친 형태의 분포를 보임\n",
        "# 후륜구동(r)은 17~25 사이의 넓은 범위에 분포, 수염이 짧고 극단치가 없는 것을 보면 자동차 대부분이 사분위 범위에 해당     "
      ],
      "metadata": {
        "colab": {
          "base_uri": "https://localhost:8080/",
          "height": 358
        },
        "id": "jzUvQXWhWom9",
        "outputId": "3d403baa-a9f6-430c-c4ef-f1f875113038"
      },
      "execution_count": null,
      "outputs": [
        {
          "output_type": "execute_result",
          "data": {
            "text/plain": [
              "<matplotlib.axes._subplots.AxesSubplot at 0x7fac0324aed0>"
            ]
          },
          "metadata": {},
          "execution_count": 123
        },
        {
          "output_type": "display_data",
          "data": {
            "text/plain": [
              "<Figure size 432x360 with 1 Axes>"
            ],
            "image/png": "[encoded data removed]"
          },
          "metadata": {}
        }
      ]
    },
    {
      "cell_type": "markdown",
      "metadata": {
        "id": "ePcLYno0Gyy4"
      },
      "source": [
        "# 데이터 전처리 (Data Preprocessing)   \n",
        "\n",
        "데이터 분석 모델을 선정하는 것 만큼 어떤 데이터를 입력값으로 가지느냐에 따라 분석 결과는 크게 달라질 수 있으므로 다음과 같은 데이터 전처리 과정이 필요하다. (Garbage In, Garbage Out). \n",
        "\n",
        "- 결측치 (Missing Data) 처리\n",
        "- 데이터 스케일링 조정\n",
        "- 데이터 인코딩 (Encoding)\n",
        "- 불균형 데이터셋 (Imbalanced Dataset) 처리 \n",
        "\n",
        "*본 실습은 파이썬 머신러닝 완벽 가이드(권철민, 위키북스, 2020), 파이썬 라이브러리를 활용한 머신러닝 (A.Mueller & S.Guido, 박해선 역, 한빛미디어, 2019) 교재 참고"
      ]
    },
    {
      "cell_type": "code",
      "source": [
        "%matplotlib inline\n",
        "import pandas as pd\n",
        "\n",
        "import seaborn as sns           # Seaborn 로딩하기\n",
        "import matplotlib as mpl        # 기본 설정\n",
        "import matplotlib.pyplot as plt"
      ],
      "metadata": {
        "id": "fnCyKb5b1tGz"
      },
      "execution_count": null,
      "outputs": []
    },
    {
      "cell_type": "code",
      "source": [
        "from google.colab import drive\n",
        "drive.mount('/content/drive')"
      ],
      "metadata": {
        "colab": {
          "base_uri": "https://localhost:8080/"
        },
        "id": "Ju3nb4Ue0Yw2",
        "outputId": "aa2afa08-475d-459a-f185-d5dcc70b4765"
      },
      "execution_count": null,
      "outputs": [
        {
          "output_type": "stream",
          "name": "stdout",
          "text": [
            "Drive already mounted at /content/drive; to attempt to forcibly remount, call drive.mount(\"/content/drive\", force_remount=True).\n"
          ]
        }
      ]
    },
    {
      "cell_type": "code",
      "metadata": {
        "colab": {
          "base_uri": "https://localhost:8080/",
          "height": 206
        },
        "id": "mb4ZFa0zSVkY",
        "outputId": "03b7c550-a34e-437e-bde4-07e49c7aca4c"
      },
      "source": [
        "# csv 데이터 가져오기 (타겟 변수 MEDV: python_basic2.ipynb 의 PRICE와 같은 값임)\n",
        "df = pd.read_csv(\"/content/drive/My Drive/Colab Notebooks/ITB/BostonHousing_missing.csv\")\n",
        "df.rename(columns = {'MEDV':'PRICE'},inplace=True)\n",
        "display(df.head())   "
      ],
      "execution_count": null,
      "outputs": [
        {
          "output_type": "display_data",
          "data": {
            "text/plain": [
              "      CRIM    ZN  attributeINDUS  CHAS    NOX     RM   AGE     DIS  RAD  \\\n",
              "0  0.00632  18.0            2.31     0  0.538    NaN  65.2  4.0900    1   \n",
              "1  0.02731   0.0            7.07     0    NaN  6.421  78.9  4.9671    2   \n",
              "2  0.02729   0.0            7.07     0  0.469  7.185  61.1  4.9671    2   \n",
              "3      NaN   0.0            2.18     0  0.458  6.998  45.8  6.0622    3   \n",
              "4  0.06905   0.0            2.18     0  0.458  7.147  54.2  6.0622    3   \n",
              "\n",
              "     TAX  PTRATIO       B  LSTAT  PRICE  \n",
              "0  296.0     15.3  396.90   4.98   24.0  \n",
              "1  242.0     17.8  396.90   9.14   21.6  \n",
              "2  242.0     17.8  392.83   4.03   34.7  \n",
              "3  222.0     18.7  394.63   2.94   33.4  \n",
              "4  222.0     18.7  396.90   5.33    NaN  "
            ],
            "text/html": [
              "\n",
              "  <div id=\"df-09006f39-cbfa-4b23-afb7-5294e27a55c3\">\n",
              "    <div class=\"colab-df-container\">\n",
              "      <div>\n",
              "<style scoped>\n",
              "    .dataframe tbody tr th:only-of-type {\n",
              "        vertical-align: middle;\n",
              "    }\n",
              "\n",
              "    .dataframe tbody tr th {\n",
              "        vertical-align: top;\n",
              "    }\n",
              "\n",
              "    .dataframe thead th {\n",
              "        text-align: right;\n",
              "    }\n",
              "</style>\n",
              "<table border=\"1\" class=\"dataframe\">\n",
              "  <thead>\n",
              "    <tr style=\"text-align: right;\">\n",
              "      <th></th>\n",
              "      <th>CRIM</th>\n",
              "      <th>ZN</th>\n",
              "      <th>attributeINDUS</th>\n",
              "      <th>CHAS</th>\n",
              "      <th>NOX</th>\n",
              "      <th>RM</th>\n",
              "      <th>AGE</th>\n",
              "      <th>DIS</th>\n",
              "      <th>RAD</th>\n",
              "      <th>TAX</th>\n",
              "      <th>PTRATIO</th>\n",
              "      <th>B</th>\n",
              "      <th>LSTAT</th>\n",
              "      <th>PRICE</th>\n",
              "    </tr>\n",
              "  </thead>\n",
              "  <tbody>\n",
              "    <tr>\n",
              "      <th>0</th>\n",
              "      <td>0.00632</td>\n",
              "      <td>18.0</td>\n",
              "      <td>2.31</td>\n",
              "      <td>0</td>\n",
              "      <td>0.538</td>\n",
              "      <td>NaN</td>\n",
              "      <td>65.2</td>\n",
              "      <td>4.0900</td>\n",
              "      <td>1</td>\n",
              "      <td>296.0</td>\n",
              "      <td>15.3</td>\n",
              "      <td>396.90</td>\n",
              "      <td>4.98</td>\n",
              "      <td>24.0</td>\n",
              "    </tr>\n",
              "    <tr>\n",
              "      <th>1</th>\n",
              "      <td>0.02731</td>\n",
              "      <td>0.0</td>\n",
              "      <td>7.07</td>\n",
              "      <td>0</td>\n",
              "      <td>NaN</td>\n",
              "      <td>6.421</td>\n",
              "      <td>78.9</td>\n",
              "      <td>4.9671</td>\n",
              "      <td>2</td>\n",
              "      <td>242.0</td>\n",
              "      <td>17.8</td>\n",
              "      <td>396.90</td>\n",
              "      <td>9.14</td>\n",
              "      <td>21.6</td>\n",
              "    </tr>\n",
              "    <tr>\n",
              "      <th>2</th>\n",
              "      <td>0.02729</td>\n",
              "      <td>0.0</td>\n",
              "      <td>7.07</td>\n",
              "      <td>0</td>\n",
              "      <td>0.469</td>\n",
              "      <td>7.185</td>\n",
              "      <td>61.1</td>\n",
              "      <td>4.9671</td>\n",
              "      <td>2</td>\n",
              "      <td>242.0</td>\n",
              "      <td>17.8</td>\n",
              "      <td>392.83</td>\n",
              "      <td>4.03</td>\n",
              "      <td>34.7</td>\n",
              "    </tr>\n",
              "    <tr>\n",
              "      <th>3</th>\n",
              "      <td>NaN</td>\n",
              "      <td>0.0</td>\n",
              "      <td>2.18</td>\n",
              "      <td>0</td>\n",
              "      <td>0.458</td>\n",
              "      <td>6.998</td>\n",
              "      <td>45.8</td>\n",
              "      <td>6.0622</td>\n",
              "      <td>3</td>\n",
              "      <td>222.0</td>\n",
              "      <td>18.7</td>\n",
              "      <td>394.63</td>\n",
              "      <td>2.94</td>\n",
              "      <td>33.4</td>\n",
              "    </tr>\n",
              "    <tr>\n",
              "      <th>4</th>\n",
              "      <td>0.06905</td>\n",
              "      <td>0.0</td>\n",
              "      <td>2.18</td>\n",
              "      <td>0</td>\n",
              "      <td>0.458</td>\n",
              "      <td>7.147</td>\n",
              "      <td>54.2</td>\n",
              "      <td>6.0622</td>\n",
              "      <td>3</td>\n",
              "      <td>222.0</td>\n",
              "      <td>18.7</td>\n",
              "      <td>396.90</td>\n",
              "      <td>5.33</td>\n",
              "      <td>NaN</td>\n",
              "    </tr>\n",
              "  </tbody>\n",
              "</table>\n",
              "</div>\n",
              "      <button class=\"colab-df-convert\" onclick=\"convertToInteractive('df-09006f39-cbfa-4b23-afb7-5294e27a55c3')\"\n",
              "              title=\"Convert this dataframe to an interactive table.\"\n",
              "              style=\"display:none;\">\n",
              "        \n",
              "  <svg xmlns=\"http://www.w3.org/2000/svg\" height=\"24px\"viewBox=\"0 0 24 24\"\n",
              "       width=\"24px\">\n",
              "    <path d=\"M0 0h24v24H0V0z\" fill=\"none\"/>\n",
              "    <path d=\"M18.56 5.44l.94 2.06.94-2.06 2.06-.94-2.06-.94-.94-2.06-.94 2.06-2.06.94zm-11 1L8.5 8.5l.94-2.06 2.06-.94-2.06-.94L8.5 2.5l-.94 2.06-2.06.94zm10 10l.94 2.06.94-2.06 2.06-.94-2.06-.94-.94-2.06-.94 2.06-2.06.94z\"/><path d=\"M17.41 7.96l-1.37-1.37c-.4-.4-.92-.59-1.43-.59-.52 0-1.04.2-1.43.59L10.3 9.45l-7.72 7.72c-.78.78-.78 2.05 0 2.83L4 21.41c.39.39.9.59 1.41.59.51 0 1.02-.2 1.41-.59l7.78-7.78 2.81-2.81c.8-.78.8-2.07 0-2.86zM5.41 20L4 18.59l7.72-7.72 1.47 1.35L5.41 20z\"/>\n",
              "  </svg>\n",
              "      </button>\n",
              "      \n",
              "  <style>\n",
              "    .colab-df-container {\n",
              "      display:flex;\n",
              "      flex-wrap:wrap;\n",
              "      gap: 12px;\n",
              "    }\n",
              "\n",
              "    .colab-df-convert {\n",
              "      background-color: #E8F0FE;\n",
              "      border: none;\n",
              "      border-radius: 50%;\n",
              "      cursor: pointer;\n",
              "      display: none;\n",
              "      fill: #1967D2;\n",
              "      height: 32px;\n",
              "      padding: 0 0 0 0;\n",
              "      width: 32px;\n",
              "    }\n",
              "\n",
              "    .colab-df-convert:hover {\n",
              "      background-color: #E2EBFA;\n",
              "      box-shadow: 0px 1px 2px rgba(60, 64, 67, 0.3), 0px 1px 3px 1px rgba(60, 64, 67, 0.15);\n",
              "      fill: #174EA6;\n",
              "    }\n",
              "\n",
              "    [theme=dark] .colab-df-convert {\n",
              "      background-color: #3B4455;\n",
              "      fill: #D2E3FC;\n",
              "    }\n",
              "\n",
              "    [theme=dark] .colab-df-convert:hover {\n",
              "      background-color: #434B5C;\n",
              "      box-shadow: 0px 1px 3px 1px rgba(0, 0, 0, 0.15);\n",
              "      filter: drop-shadow(0px 1px 2px rgba(0, 0, 0, 0.3));\n",
              "      fill: #FFFFFF;\n",
              "    }\n",
              "  </style>\n",
              "\n",
              "      <script>\n",
              "        const buttonEl =\n",
              "          document.querySelector('#df-09006f39-cbfa-4b23-afb7-5294e27a55c3 button.colab-df-convert');\n",
              "        buttonEl.style.display =\n",
              "          google.colab.kernel.accessAllowed ? 'block' : 'none';\n",
              "\n",
              "        async function convertToInteractive(key) {\n",
              "          const element = document.querySelector('#df-09006f39-cbfa-4b23-afb7-5294e27a55c3');\n",
              "          const dataTable =\n",
              "            await google.colab.kernel.invokeFunction('convertToInteractive',\n",
              "                                                     [key], {});\n",
              "          if (!dataTable) return;\n",
              "\n",
              "          const docLinkHtml = 'Like what you see? Visit the ' +\n",
              "            '<a target=\"_blank\" href=https://colab.research.google.com/notebooks/data_table.ipynb>data table notebook</a>'\n",
              "            + ' to learn more about interactive tables.';\n",
              "          element.innerHTML = '';\n",
              "          dataTable['output_type'] = 'display_data';\n",
              "          await google.colab.output.renderOutput(dataTable, element);\n",
              "          const docLink = document.createElement('div');\n",
              "          docLink.innerHTML = docLinkHtml;\n",
              "          element.appendChild(docLink);\n",
              "        }\n",
              "      </script>\n",
              "    </div>\n",
              "  </div>\n",
              "  "
            ]
          },
          "metadata": {}
        }
      ]
    },
    {
      "cell_type": "code",
      "metadata": {
        "colab": {
          "base_uri": "https://localhost:8080/",
          "height": 1000
        },
        "id": "vK2TWQR2yTcT",
        "outputId": "18e05408-ff3a-464e-bc6b-5999026b96fb"
      },
      "source": [
        "display(df.shape) # 행열\n",
        "display(df.info()) # 데이터타입, null정보등 확인\n",
        "display(df.isna().sum()) # 결측치 수\n",
        "display(df.head(10))"
      ],
      "execution_count": null,
      "outputs": [
        {
          "output_type": "display_data",
          "data": {
            "text/plain": [
              "(506, 14)"
            ]
          },
          "metadata": {}
        },
        {
          "output_type": "stream",
          "name": "stdout",
          "text": [
            "<class 'pandas.core.frame.DataFrame'>\n",
            "RangeIndex: 506 entries, 0 to 505\n",
            "Data columns (total 14 columns):\n",
            " #   Column          Non-Null Count  Dtype  \n",
            "---  ------          --------------  -----  \n",
            " 0   CRIM            502 non-null    float64\n",
            " 1   ZN              506 non-null    float64\n",
            " 2   attributeINDUS  506 non-null    float64\n",
            " 3   CHAS            506 non-null    int64  \n",
            " 4   NOX             504 non-null    float64\n",
            " 5   RM              505 non-null    float64\n",
            " 6   AGE             505 non-null    float64\n",
            " 7   DIS             505 non-null    float64\n",
            " 8   RAD             506 non-null    int64  \n",
            " 9   TAX             505 non-null    float64\n",
            " 10  PTRATIO         506 non-null    float64\n",
            " 11  B               506 non-null    float64\n",
            " 12  LSTAT           504 non-null    float64\n",
            " 13  PRICE           505 non-null    float64\n",
            "dtypes: float64(12), int64(2)\n",
            "memory usage: 55.5 KB\n"
          ]
        },
        {
          "output_type": "display_data",
          "data": {
            "text/plain": [
              "None"
            ]
          },
          "metadata": {}
        },
        {
          "output_type": "display_data",
          "data": {
            "text/plain": [
              "CRIM              4\n",
              "ZN                0\n",
              "attributeINDUS    0\n",
              "CHAS              0\n",
              "NOX               2\n",
              "RM                1\n",
              "AGE               1\n",
              "DIS               1\n",
              "RAD               0\n",
              "TAX               1\n",
              "PTRATIO           0\n",
              "B                 0\n",
              "LSTAT             2\n",
              "PRICE             1\n",
              "dtype: int64"
            ]
          },
          "metadata": {}
        },
        {
          "output_type": "display_data",
          "data": {
            "text/plain": [
              "      CRIM    ZN  attributeINDUS  CHAS    NOX     RM    AGE     DIS  RAD  \\\n",
              "0  0.00632  18.0            2.31     0  0.538    NaN   65.2  4.0900    1   \n",
              "1  0.02731   0.0            7.07     0    NaN  6.421   78.9  4.9671    2   \n",
              "2  0.02729   0.0            7.07     0  0.469  7.185   61.1  4.9671    2   \n",
              "3      NaN   0.0            2.18     0  0.458  6.998   45.8  6.0622    3   \n",
              "4  0.06905   0.0            2.18     0  0.458  7.147   54.2  6.0622    3   \n",
              "5  0.02985   0.0            2.18     0  0.458  6.430   58.7  6.0622    3   \n",
              "6  0.08829  12.5            7.87     0  0.524  6.012   66.6  5.5605    5   \n",
              "7  0.14455  12.5            7.87     0  0.524  6.172   96.1  5.9505    5   \n",
              "8  0.21124  12.5            7.87     0  0.524  5.631  100.0  6.0821    5   \n",
              "9  0.17004  12.5            7.87     0  0.524  6.004   85.9  6.5921    5   \n",
              "\n",
              "     TAX  PTRATIO       B  LSTAT  PRICE  \n",
              "0  296.0     15.3  396.90   4.98   24.0  \n",
              "1  242.0     17.8  396.90   9.14   21.6  \n",
              "2  242.0     17.8  392.83   4.03   34.7  \n",
              "3  222.0     18.7  394.63   2.94   33.4  \n",
              "4  222.0     18.7  396.90   5.33    NaN  \n",
              "5  222.0     18.7  394.12   5.21   28.7  \n",
              "6  311.0     15.2  395.60  12.43   22.9  \n",
              "7  311.0     15.2  396.90  19.15   27.1  \n",
              "8  311.0     15.2  386.63    NaN   16.5  \n",
              "9    NaN     15.2  386.71  17.10   18.9  "
            ],
            "text/html": [
              "\n",
              "  <div id=\"df-5403bd3b-7651-4c3d-99e9-c0d9c7d7dbf8\">\n",
              "    <div class=\"colab-df-container\">\n",
              "      <div>\n",
              "<style scoped>\n",
              "    .dataframe tbody tr th:only-of-type {\n",
              "        vertical-align: middle;\n",
              "    }\n",
              "\n",
              "    .dataframe tbody tr th {\n",
              "        vertical-align: top;\n",
              "    }\n",
              "\n",
              "    .dataframe thead th {\n",
              "        text-align: right;\n",
              "    }\n",
              "</style>\n",
              "<table border=\"1\" class=\"dataframe\">\n",
              "  <thead>\n",
              "    <tr style=\"text-align: right;\">\n",
              "      <th></th>\n",
              "      <th>CRIM</th>\n",
              "      <th>ZN</th>\n",
              "      <th>attributeINDUS</th>\n",
              "      <th>CHAS</th>\n",
              "      <th>NOX</th>\n",
              "      <th>RM</th>\n",
              "      <th>AGE</th>\n",
              "      <th>DIS</th>\n",
              "      <th>RAD</th>\n",
              "      <th>TAX</th>\n",
              "      <th>PTRATIO</th>\n",
              "      <th>B</th>\n",
              "      <th>LSTAT</th>\n",
              "      <th>PRICE</th>\n",
              "    </tr>\n",
              "  </thead>\n",
              "  <tbody>\n",
              "    <tr>\n",
              "      <th>0</th>\n",
              "      <td>0.00632</td>\n",
              "      <td>18.0</td>\n",
              "      <td>2.31</td>\n",
              "      <td>0</td>\n",
              "      <td>0.538</td>\n",
              "      <td>NaN</td>\n",
              "      <td>65.2</td>\n",
              "      <td>4.0900</td>\n",
              "      <td>1</td>\n",
              "      <td>296.0</td>\n",
              "      <td>15.3</td>\n",
              "      <td>396.90</td>\n",
              "      <td>4.98</td>\n",
              "      <td>24.0</td>\n",
              "    </tr>\n",
              "    <tr>\n",
              "      <th>1</th>\n",
              "      <td>0.02731</td>\n",
              "      <td>0.0</td>\n",
              "      <td>7.07</td>\n",
              "      <td>0</td>\n",
              "      <td>NaN</td>\n",
              "      <td>6.421</td>\n",
              "      <td>78.9</td>\n",
              "      <td>4.9671</td>\n",
              "      <td>2</td>\n",
              "      <td>242.0</td>\n",
              "      <td>17.8</td>\n",
              "      <td>396.90</td>\n",
              "      <td>9.14</td>\n",
              "      <td>21.6</td>\n",
              "    </tr>\n",
              "    <tr>\n",
              "      <th>2</th>\n",
              "      <td>0.02729</td>\n",
              "      <td>0.0</td>\n",
              "      <td>7.07</td>\n",
              "      <td>0</td>\n",
              "      <td>0.469</td>\n",
              "      <td>7.185</td>\n",
              "      <td>61.1</td>\n",
              "      <td>4.9671</td>\n",
              "      <td>2</td>\n",
              "      <td>242.0</td>\n",
              "      <td>17.8</td>\n",
              "      <td>392.83</td>\n",
              "      <td>4.03</td>\n",
              "      <td>34.7</td>\n",
              "    </tr>\n",
              "    <tr>\n",
              "      <th>3</th>\n",
              "      <td>NaN</td>\n",
              "      <td>0.0</td>\n",
              "      <td>2.18</td>\n",
              "      <td>0</td>\n",
              "      <td>0.458</td>\n",
              "      <td>6.998</td>\n",
              "      <td>45.8</td>\n",
              "      <td>6.0622</td>\n",
              "      <td>3</td>\n",
              "      <td>222.0</td>\n",
              "      <td>18.7</td>\n",
              "      <td>394.63</td>\n",
              "      <td>2.94</td>\n",
              "      <td>33.4</td>\n",
              "    </tr>\n",
              "    <tr>\n",
              "      <th>4</th>\n",
              "      <td>0.06905</td>\n",
              "      <td>0.0</td>\n",
              "      <td>2.18</td>\n",
              "      <td>0</td>\n",
              "      <td>0.458</td>\n",
              "      <td>7.147</td>\n",
              "      <td>54.2</td>\n",
              "      <td>6.0622</td>\n",
              "      <td>3</td>\n",
              "      <td>222.0</td>\n",
              "      <td>18.7</td>\n",
              "      <td>396.90</td>\n",
              "      <td>5.33</td>\n",
              "      <td>NaN</td>\n",
              "    </tr>\n",
              "    <tr>\n",
              "      <th>5</th>\n",
              "      <td>0.02985</td>\n",
              "      <td>0.0</td>\n",
              "      <td>2.18</td>\n",
              "      <td>0</td>\n",
              "      <td>0.458</td>\n",
              "      <td>6.430</td>\n",
              "      <td>58.7</td>\n",
              "      <td>6.0622</td>\n",
              "      <td>3</td>\n",
              "      <td>222.0</td>\n",
              "      <td>18.7</td>\n",
              "      <td>394.12</td>\n",
              "      <td>5.21</td>\n",
              "      <td>28.7</td>\n",
              "    </tr>\n",
              "    <tr>\n",
              "      <th>6</th>\n",
              "      <td>0.08829</td>\n",
              "      <td>12.5</td>\n",
              "      <td>7.87</td>\n",
              "      <td>0</td>\n",
              "      <td>0.524</td>\n",
              "      <td>6.012</td>\n",
              "      <td>66.6</td>\n",
              "      <td>5.5605</td>\n",
              "      <td>5</td>\n",
              "      <td>311.0</td>\n",
              "      <td>15.2</td>\n",
              "      <td>395.60</td>\n",
              "      <td>12.43</td>\n",
              "      <td>22.9</td>\n",
              "    </tr>\n",
              "    <tr>\n",
              "      <th>7</th>\n",
              "      <td>0.14455</td>\n",
              "      <td>12.5</td>\n",
              "      <td>7.87</td>\n",
              "      <td>0</td>\n",
              "      <td>0.524</td>\n",
              "      <td>6.172</td>\n",
              "      <td>96.1</td>\n",
              "      <td>5.9505</td>\n",
              "      <td>5</td>\n",
              "      <td>311.0</td>\n",
              "      <td>15.2</td>\n",
              "      <td>396.90</td>\n",
              "      <td>19.15</td>\n",
              "      <td>27.1</td>\n",
              "    </tr>\n",
              "    <tr>\n",
              "      <th>8</th>\n",
              "      <td>0.21124</td>\n",
              "      <td>12.5</td>\n",
              "      <td>7.87</td>\n",
              "      <td>0</td>\n",
              "      <td>0.524</td>\n",
              "      <td>5.631</td>\n",
              "      <td>100.0</td>\n",
              "      <td>6.0821</td>\n",
              "      <td>5</td>\n",
              "      <td>311.0</td>\n",
              "      <td>15.2</td>\n",
              "      <td>386.63</td>\n",
              "      <td>NaN</td>\n",
              "      <td>16.5</td>\n",
              "    </tr>\n",
              "    <tr>\n",
              "      <th>9</th>\n",
              "      <td>0.17004</td>\n",
              "      <td>12.5</td>\n",
              "      <td>7.87</td>\n",
              "      <td>0</td>\n",
              "      <td>0.524</td>\n",
              "      <td>6.004</td>\n",
              "      <td>85.9</td>\n",
              "      <td>6.5921</td>\n",
              "      <td>5</td>\n",
              "      <td>NaN</td>\n",
              "      <td>15.2</td>\n",
              "      <td>386.71</td>\n",
              "      <td>17.10</td>\n",
              "      <td>18.9</td>\n",
              "    </tr>\n",
              "  </tbody>\n",
              "</table>\n",
              "</div>\n",
              "      <button class=\"colab-df-convert\" onclick=\"convertToInteractive('df-5403bd3b-7651-4c3d-99e9-c0d9c7d7dbf8')\"\n",
              "              title=\"Convert this dataframe to an interactive table.\"\n",
              "              style=\"display:none;\">\n",
              "        \n",
              "  <svg xmlns=\"http://www.w3.org/2000/svg\" height=\"24px\"viewBox=\"0 0 24 24\"\n",
              "       width=\"24px\">\n",
              "    <path d=\"M0 0h24v24H0V0z\" fill=\"none\"/>\n",
              "    <path d=\"M18.56 5.44l.94 2.06.94-2.06 2.06-.94-2.06-.94-.94-2.06-.94 2.06-2.06.94zm-11 1L8.5 8.5l.94-2.06 2.06-.94-2.06-.94L8.5 2.5l-.94 2.06-2.06.94zm10 10l.94 2.06.94-2.06 2.06-.94-2.06-.94-.94-2.06-.94 2.06-2.06.94z\"/><path d=\"M17.41 7.96l-1.37-1.37c-.4-.4-.92-.59-1.43-.59-.52 0-1.04.2-1.43.59L10.3 9.45l-7.72 7.72c-.78.78-.78 2.05 0 2.83L4 21.41c.39.39.9.59 1.41.59.51 0 1.02-.2 1.41-.59l7.78-7.78 2.81-2.81c.8-.78.8-2.07 0-2.86zM5.41 20L4 18.59l7.72-7.72 1.47 1.35L5.41 20z\"/>\n",
              "  </svg>\n",
              "      </button>\n",
              "      \n",
              "  <style>\n",
              "    .colab-df-container {\n",
              "      display:flex;\n",
              "      flex-wrap:wrap;\n",
              "      gap: 12px;\n",
              "    }\n",
              "\n",
              "    .colab-df-convert {\n",
              "      background-color: #E8F0FE;\n",
              "      border: none;\n",
              "      border-radius: 50%;\n",
              "      cursor: pointer;\n",
              "      display: none;\n",
              "      fill: #1967D2;\n",
              "      height: 32px;\n",
              "      padding: 0 0 0 0;\n",
              "      width: 32px;\n",
              "    }\n",
              "\n",
              "    .colab-df-convert:hover {\n",
              "      background-color: #E2EBFA;\n",
              "      box-shadow: 0px 1px 2px rgba(60, 64, 67, 0.3), 0px 1px 3px 1px rgba(60, 64, 67, 0.15);\n",
              "      fill: #174EA6;\n",
              "    }\n",
              "\n",
              "    [theme=dark] .colab-df-convert {\n",
              "      background-color: #3B4455;\n",
              "      fill: #D2E3FC;\n",
              "    }\n",
              "\n",
              "    [theme=dark] .colab-df-convert:hover {\n",
              "      background-color: #434B5C;\n",
              "      box-shadow: 0px 1px 3px 1px rgba(0, 0, 0, 0.15);\n",
              "      filter: drop-shadow(0px 1px 2px rgba(0, 0, 0, 0.3));\n",
              "      fill: #FFFFFF;\n",
              "    }\n",
              "  </style>\n",
              "\n",
              "      <script>\n",
              "        const buttonEl =\n",
              "          document.querySelector('#df-5403bd3b-7651-4c3d-99e9-c0d9c7d7dbf8 button.colab-df-convert');\n",
              "        buttonEl.style.display =\n",
              "          google.colab.kernel.accessAllowed ? 'block' : 'none';\n",
              "\n",
              "        async function convertToInteractive(key) {\n",
              "          const element = document.querySelector('#df-5403bd3b-7651-4c3d-99e9-c0d9c7d7dbf8');\n",
              "          const dataTable =\n",
              "            await google.colab.kernel.invokeFunction('convertToInteractive',\n",
              "                                                     [key], {});\n",
              "          if (!dataTable) return;\n",
              "\n",
              "          const docLinkHtml = 'Like what you see? Visit the ' +\n",
              "            '<a target=\"_blank\" href=https://colab.research.google.com/notebooks/data_table.ipynb>data table notebook</a>'\n",
              "            + ' to learn more about interactive tables.';\n",
              "          element.innerHTML = '';\n",
              "          dataTable['output_type'] = 'display_data';\n",
              "          await google.colab.output.renderOutput(dataTable, element);\n",
              "          const docLink = document.createElement('div');\n",
              "          docLink.innerHTML = docLinkHtml;\n",
              "          element.appendChild(docLink);\n",
              "        }\n",
              "      </script>\n",
              "    </div>\n",
              "  </div>\n",
              "  "
            ]
          },
          "metadata": {}
        }
      ]
    },
    {
      "cell_type": "markdown",
      "source": [
        "## 결측치 처리\n",
        "* 데이터를 살펴보고 결측치(Missing Data, Null, NaN)가 많지 않은 경우에는 평균값 등으로 간단히 대체하고, 대부분이 결측치라면 해당 변수를 분석에 사용하지 않는 것이 좋다. \n",
        "* 결측치가 어느 정도 이상일때 어떻게 결측치 처리를 해야 하는지에 대해서는 정해진 기준이 없기 때문에, 분석 목적과 데이터 특성 등을 상세히 검토하여 결정해야 한다. \n",
        "\n",
        "\n",
        "제거/보간/대체 예. \n",
        "- 결측데이터가 너무 많은 경우, 해당 데이터의 행(axis =0) 또는 열(axis =1) 제거\n",
        "- 결측데이터가 일부인 경우, 가장 그럴듯한 값으로 대체\n",
        "- 종속변수에 결측이 있으면 보간하지 않고 제거\n",
        "- 결측치가 비어있지 않고 특수기호, 0  등으로 입력된 경우도 있으므로 반드시 원본 데이터를 확인하고 처리 \n"
      ],
      "metadata": {
        "id": "TbTSCuW3FZSY"
      }
    },
    {
      "cell_type": "code",
      "metadata": {
        "colab": {
          "base_uri": "https://localhost:8080/"
        },
        "id": "UBL_gGamyfRW",
        "outputId": "ca074fcc-65de-4d11-972f-e1a141742f54"
      },
      "source": [
        "print(df.isnull().sum())  #결측치 확인"
      ],
      "execution_count": null,
      "outputs": [
        {
          "output_type": "stream",
          "name": "stdout",
          "text": [
            "CRIM              4\n",
            "ZN                0\n",
            "attributeINDUS    0\n",
            "CHAS              0\n",
            "NOX               2\n",
            "RM                1\n",
            "AGE               1\n",
            "DIS               1\n",
            "RAD               0\n",
            "TAX               1\n",
            "PTRATIO           0\n",
            "B                 0\n",
            "LSTAT             2\n",
            "PRICE             1\n",
            "dtype: int64\n"
          ]
        }
      ]
    },
    {
      "cell_type": "code",
      "source": [
        "# 1. 결측치 행 전체 삭제\n",
        "df_drop_row = df.dropna(axis=0)   #열삭제의 경우 axis =1  (또는 특정 개수 이상의 결측치가 있는 경우만 삭제 thresh = 갯수)\n",
        "print(\"결측행 모두 제거: \", df_drop_row.shape)    # 결측치 13행 모두 없어졌는지 확인"
      ],
      "metadata": {
        "colab": {
          "base_uri": "https://localhost:8080/"
        },
        "id": "VjtkNJUHGomc",
        "outputId": "5e144d7a-6759-419d-cb7c-d85cd1f863e1"
      },
      "execution_count": null,
      "outputs": [
        {
          "output_type": "stream",
          "name": "stdout",
          "text": [
            "결측행 모두 제거:  (493, 14)\n"
          ]
        }
      ]
    },
    {
      "cell_type": "code",
      "source": [
        "# 2. 종속으로 사용할 집값(PRICE)의 결측치만 행제거 \n",
        "df = df.dropna(subset = ['PRICE'], axis=0)   \n",
        "\n",
        "print(\"\\nPRICE 결측만 제거: \", df.shape)  # 결측치 1개만 제거되고, 나머지 변수들에 결측치 존재 확인\n",
        "print(df.isna().sum()) "
      ],
      "metadata": {
        "colab": {
          "base_uri": "https://localhost:8080/"
        },
        "id": "Tt3jlO32HtTH",
        "outputId": "f042cf5b-f660-4ad4-f048-db0ed6467073"
      },
      "execution_count": null,
      "outputs": [
        {
          "output_type": "stream",
          "name": "stdout",
          "text": [
            "\n",
            "PRICE 결측만 제거:  (505, 14)\n",
            "CRIM              4\n",
            "ZN                0\n",
            "attributeINDUS    0\n",
            "CHAS              0\n",
            "NOX               2\n",
            "RM                1\n",
            "AGE               1\n",
            "DIS               1\n",
            "RAD               0\n",
            "TAX               1\n",
            "PTRATIO           0\n",
            "B                 0\n",
            "LSTAT             2\n",
            "PRICE             0\n",
            "dtype: int64\n"
          ]
        }
      ]
    },
    {
      "cell_type": "code",
      "source": [
        "#3. 보간법\n",
        "\n",
        "from sklearn.impute import SimpleImputer\n",
        "# strategy 옵션: mean (기본값), median, most_frequent, constant\n",
        "# constant 예:  SimpleImputer(strategy='constant', fill_value=1)\n",
        "\n",
        "imputer = SimpleImputer(strategy = \"mean\") # mean(평균), median(중앙값), most_frequent(최빈값)등 있음\n",
        "df_impute = pd.DataFrame(imputer.fit_transform(df)) # imputer쓰면 numpy array로 변환되므로 df로 재변환했음. sklearn에서는 그냥 사용해도됨. \n",
        "print(\"\\n평균으로 보간:\", df_impute.shape)  \n",
        "print(df_impute.isna().sum()) "
      ],
      "metadata": {
        "colab": {
          "base_uri": "https://localhost:8080/"
        },
        "id": "7WKtdCHKHuQp",
        "outputId": "c7183ffa-e4c4-4d64-a783-5671a000df47"
      },
      "execution_count": null,
      "outputs": [
        {
          "output_type": "stream",
          "name": "stdout",
          "text": [
            "\n",
            "평균으로 보간: (505, 14)\n",
            "0     0\n",
            "1     0\n",
            "2     0\n",
            "3     0\n",
            "4     0\n",
            "5     0\n",
            "6     0\n",
            "7     0\n",
            "8     0\n",
            "9     0\n",
            "10    0\n",
            "11    0\n",
            "12    0\n",
            "13    0\n",
            "dtype: int64\n"
          ]
        }
      ]
    },
    {
      "cell_type": "code",
      "source": [
        "#4. 대체\n",
        "\n",
        "df2 = df.copy()\n",
        "print(df2.isna().sum()) \n",
        "\n",
        "# fillna()를 이용하여 결측치 대체 \n",
        "df2['CRIM'].fillna(0, inplace=True)\n",
        "df2['LSTAT']= df2['LSTAT'].fillna(df2['LSTAT'].mean())\n",
        "print(df2.isna().sum()) \n",
        "\n",
        "# 모든 결측치를 한번에 11로 변경\n",
        "new_df = df2.fillna(11)\n",
        "print(new_df.isna().sum())"
      ],
      "metadata": {
        "colab": {
          "base_uri": "https://localhost:8080/"
        },
        "id": "bmYUpYy4JO9I",
        "outputId": "660b3f61-0209-4554-e961-ed2631d0364f"
      },
      "execution_count": null,
      "outputs": [
        {
          "output_type": "stream",
          "name": "stdout",
          "text": [
            "CRIM              4\n",
            "ZN                0\n",
            "attributeINDUS    0\n",
            "CHAS              0\n",
            "NOX               2\n",
            "RM                1\n",
            "AGE               1\n",
            "DIS               1\n",
            "RAD               0\n",
            "TAX               1\n",
            "PTRATIO           0\n",
            "B                 0\n",
            "LSTAT             2\n",
            "PRICE             0\n",
            "dtype: int64\n",
            "CRIM              0\n",
            "ZN                0\n",
            "attributeINDUS    0\n",
            "CHAS              0\n",
            "NOX               2\n",
            "RM                1\n",
            "AGE               1\n",
            "DIS               1\n",
            "RAD               0\n",
            "TAX               1\n",
            "PTRATIO           0\n",
            "B                 0\n",
            "LSTAT             0\n",
            "PRICE             0\n",
            "dtype: int64\n",
            "CRIM              0\n",
            "ZN                0\n",
            "attributeINDUS    0\n",
            "CHAS              0\n",
            "NOX               0\n",
            "RM                0\n",
            "AGE               0\n",
            "DIS               0\n",
            "RAD               0\n",
            "TAX               0\n",
            "PTRATIO           0\n",
            "B                 0\n",
            "LSTAT             0\n",
            "PRICE             0\n",
            "dtype: int64\n"
          ]
        }
      ]
    },
    {
      "cell_type": "markdown",
      "metadata": {
        "id": "GZhj12h6SqHd"
      },
      "source": [
        "## 데이터 스케일 조정\n",
        "* 단위가 다른 변수들의 값 범위를 일정한 수준으로 맞추어 주는 작업이다. \n",
        "* 다차원 값들을 비교 분석하기 쉽게 만들어 주며, 모델 학습과정에서 0으로 수렴하거나 무한으로 발산해 버릴 수 있는 것을 방지하고 (unverflow, overflow), 최적화 과정에서 안정성 및 수렴 속도를 향상시킨다. \n",
        "* 대표적인 스케일 조정 방법 \n",
        "  * StandardScaler: 데이터 값을 평균 0, 분산 1로 변환 (정규 분포를 가정한 모델에서는 특히 중요 ) \n",
        "  * MinMaxScaler: 데이터 값을 0과 1 사이의 범위 값으로 변환 \n",
        "\n",
        "  ![image.png](data:image/png;base64,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)\n",
        "  "
      ]
    },
    {
      "cell_type": "markdown",
      "source": [
        "### StandardScaler"
      ],
      "metadata": {
        "id": "KULenj-nJ8ht"
      }
    },
    {
      "cell_type": "code",
      "metadata": {
        "colab": {
          "base_uri": "https://localhost:8080/"
        },
        "id": "qqxe2C-WRwu0",
        "outputId": "e3f74f18-6239-4473-fe39-d7e0000c7cf9"
      },
      "source": [
        "from sklearn.preprocessing import StandardScaler\n",
        "\n",
        "pd.options.display.float_format = '{:.3f}'.format  #지수표현 말고, 소수로 찍히게 설정\n",
        "\n",
        "X = df_impute.iloc[:,0:-1]   #결측치 제거한 Dataframe의 독립변수\n",
        "y = df_impute.iloc[:, -1]   #결측치 제거한 Dataframe의 종속변수\n",
        "\n",
        "print(\"원본: \\n\", X.describe())\n",
        "\n",
        "# 평균 0, 표준편차 1로 변환하는 standardscaler 적용\n",
        "scaler_s = StandardScaler()\n",
        "\n",
        "# sklearn써서 numpy배열로 바뀐것 dataframe변환\n",
        "X_s = pd.DataFrame(scaler_s.fit_transform(X)) \n",
        "\n",
        "# fit( ) 과 transform( ) 따로 실행 가능   \n",
        "# scaler.fit(X)\n",
        "# X_s = scaler.transform(X)\n",
        "\n",
        "print(\"\\nStandardScaler: \\n\", X_s.describe())"
      ],
      "execution_count": null,
      "outputs": [
        {
          "output_type": "stream",
          "name": "stdout",
          "text": [
            "원본: \n",
            "            0       1       2       3       4       5       6       7       8   \\\n",
            "count 505.000 505.000 505.000 505.000 505.000 505.000 505.000 505.000 505.000   \n",
            "mean    3.647  11.386  11.155   0.069   0.555   6.282  68.576   3.791   9.562   \n",
            "std     8.603  23.340   6.856   0.254   0.116   0.702  28.163   2.105   8.711   \n",
            "min     0.006   0.000   0.460   0.000   0.385   3.561   2.900   1.130   1.000   \n",
            "25%     0.082   0.000   5.190   0.000   0.449   5.885  45.000   2.100   4.000   \n",
            "50%     0.268   0.000   9.690   0.000   0.538   6.208  77.300   3.199   5.000   \n",
            "75%     3.678  12.500  18.100   0.000   0.624   6.619  94.100   5.118  24.000   \n",
            "max    88.976 100.000  27.740   1.000   0.871   8.780 100.000  12.127  24.000   \n",
            "\n",
            "           9       10      11      12  \n",
            "count 505.000 505.000 505.000 505.000  \n",
            "mean  408.800  18.455 356.594  12.645  \n",
            "std   168.444   2.167  91.368   7.094  \n",
            "min   187.000  12.600   0.320   1.730  \n",
            "25%   279.000  17.400 375.330   7.120  \n",
            "50%   330.000  19.100 391.430  11.410  \n",
            "75%   666.000  20.200 396.210  16.940  \n",
            "max   711.000  22.000 396.900  37.970  \n",
            "\n",
            "StandardScaler: \n",
            "            0       1       2       3       4       5       6       7       8   \\\n",
            "count 505.000 505.000 505.000 505.000 505.000 505.000 505.000 505.000 505.000   \n",
            "mean    0.000  -0.000   0.000   0.000   0.000   0.000   0.000  -0.000  -0.000   \n",
            "std     1.001   1.001   1.001   1.001   1.001   1.001   1.001   1.001   1.001   \n",
            "min    -0.424  -0.488  -1.562  -0.273  -1.470  -3.880  -2.334  -1.265  -0.984   \n",
            "25%    -0.415  -0.488  -0.871  -0.273  -0.917  -0.566  -0.838  -0.804  -0.639   \n",
            "50%    -0.393  -0.488  -0.214  -0.273  -0.148  -0.106   0.310  -0.281  -0.524   \n",
            "75%     0.004   0.048   1.014  -0.273   0.595   0.480   0.907   0.631   1.659   \n",
            "max     9.928   3.800   2.422   3.665   2.730   3.561   1.117   3.963   1.659   \n",
            "\n",
            "           9       10      11      12  \n",
            "count 505.000 505.000 505.000 505.000  \n",
            "mean   -0.000  -0.000  -0.000  -0.000  \n",
            "std     1.001   1.001   1.001   1.001  \n",
            "min    -1.318  -2.705  -3.903  -1.540  \n",
            "25%    -0.771  -0.487   0.205  -0.780  \n",
            "50%    -0.468   0.298   0.382  -0.174  \n",
            "75%     1.528   0.806   0.434   0.606  \n",
            "max     1.796   1.637   0.442   3.573  \n"
          ]
        }
      ]
    },
    {
      "cell_type": "markdown",
      "source": [
        "### MinMaxScaler"
      ],
      "metadata": {
        "id": "3MZxo4EKM8Us"
      }
    },
    {
      "cell_type": "code",
      "source": [
        "from sklearn.preprocessing import MinMaxScaler\n",
        "\n",
        "# 최소 0, 최대 1로 변환하는 MinMaxScaler적용\n",
        "scaler_m = MinMaxScaler()\n",
        "X_m = pd.DataFrame(scaler_m.fit_transform(X))\n",
        "print(\"\\nMinMaxScaler: \\n\", X_m.describe())"
      ],
      "metadata": {
        "colab": {
          "base_uri": "https://localhost:8080/"
        },
        "id": "E4W5EGB9M7Xs",
        "outputId": "3b3aed7a-7b87-4bf9-cc9e-255e6cf23061"
      },
      "execution_count": null,
      "outputs": [
        {
          "output_type": "stream",
          "name": "stdout",
          "text": [
            "\n",
            "MinMaxScaler: \n",
            "            0       1       2       3       4       5       6       7       8   \\\n",
            "count 505.000 505.000 505.000 505.000 505.000 505.000 505.000 505.000 505.000   \n",
            "mean    0.041   0.114   0.392   0.069   0.350   0.521   0.676   0.242   0.372   \n",
            "std     0.097   0.233   0.251   0.254   0.238   0.135   0.290   0.191   0.379   \n",
            "min     0.000   0.000   0.000   0.000   0.000   0.000   0.000   0.000   0.000   \n",
            "25%     0.001   0.000   0.173   0.000   0.132   0.445   0.434   0.088   0.130   \n",
            "50%     0.003   0.000   0.338   0.000   0.315   0.507   0.766   0.188   0.174   \n",
            "75%     0.041   0.125   0.647   0.000   0.492   0.586   0.939   0.363   1.000   \n",
            "max     1.000   1.000   1.000   1.000   1.000   1.000   1.000   1.000   1.000   \n",
            "\n",
            "           9       10      11      12  \n",
            "count 505.000 505.000 505.000 505.000  \n",
            "mean    0.423   0.623   0.898   0.301  \n",
            "std     0.321   0.231   0.230   0.196  \n",
            "min     0.000   0.000   0.000   0.000  \n",
            "25%     0.176   0.511   0.946   0.149  \n",
            "50%     0.273   0.691   0.986   0.267  \n",
            "75%     0.914   0.809   0.998   0.420  \n",
            "max     1.000   1.000   1.000   1.000  \n"
          ]
        }
      ]
    },
    {
      "cell_type": "markdown",
      "source": [
        "### Scaler 선택  \n",
        "* 데이터 유형에 따라 적절한 Scaler 선택 \n",
        "* StandardScaler, MinMaxScaler, MaxAbsScaler, RobustScaler, PowerTransformer, QuantileTransformer (uniform output), QuantileTransformer (Gaussian output), Normalizer \n",
        "* https://scikit-learn.org/stable/auto_examples/preprocessing/plot_all_scaling.html?highlight=scaler\n",
        "\n",
        "![download.png](data:image/png;base64,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)"
      ],
      "metadata": {
        "id": "KoMFSPqOP5cA"
      }
    },
    {
      "cell_type": "markdown",
      "source": [
        "## 데이터 인코딩\n",
        "scikit-learn의 모델들은 문자열 값을 입력 값으로 허용하지 않기 때문에 모든 문자열 값을 수치형으로 변환(Encoding)해야 한다. 대표적인 인코딩 방법은 다음과 같다. \n",
        "\n",
        "* **레이블 인코딩(Label Encoding)**: \n",
        "    * 카테고리를 코드형 수치 값으로 변환  \n",
        "    * 순서가 있는 경우 (상/중/하, 중학교/고등학교/대학교 등 ), 원-핫 인코딩을 이용하기에는 카테고리가 너무 많은 경우 등  \n",
        "* **원-핫 인코딩(One-Hot Encoding, 더미 변수화)**:      \n",
        "   * 카테고리별로 새로운 더미 변수를 만들어 1/0으로 표시 \n",
        "   * 순서가 없는 경우 (국가명 등), 카테고리 개수가 적절한 경우  등\n",
        " "
      ],
      "metadata": {
        "id": "g36VxJvRQdM-"
      }
    },
    {
      "cell_type": "markdown",
      "source": [
        "### 레이블 인코딩(Label encoding)"
      ],
      "metadata": {
        "id": "nrNgMvvOQhCo"
      }
    },
    {
      "cell_type": "code",
      "source": [
        "from sklearn.preprocessing import LabelEncoder\n",
        "\n",
        "items=['TV','냉장고','전자렌지','컴퓨터','선풍기','선풍기','믹서','믹서']\n",
        "\n",
        "# LabelEncoder를 객체로 생성한 후 , fit( ) 과 transform( ) 으로 label 인코딩 수행. \n",
        "encoder = LabelEncoder()\n",
        "labels = encoder.fit_transform(items)\n",
        "#encoder.fit(items)\n",
        "#labels = encoder.transform(items)\n",
        "\n",
        "print(items)\n",
        "print('인코딩 클래스:',encoder.classes_)\n",
        "print('인코딩 변환값:',labels)"
      ],
      "metadata": {
        "colab": {
          "base_uri": "https://localhost:8080/"
        },
        "id": "XyBTT9bNQhYz",
        "outputId": "f27b3d5b-30c4-487c-85b7-1b3173b9a44b"
      },
      "execution_count": null,
      "outputs": [
        {
          "output_type": "stream",
          "name": "stdout",
          "text": [
            "['TV', '냉장고', '전자렌지', '컴퓨터', '선풍기', '선풍기', '믹서', '믹서']\n",
            "인코딩 클래스: ['TV' '냉장고' '믹서' '선풍기' '전자렌지' '컴퓨터']\n",
            "인코딩 변환값: [0 1 4 5 3 3 2 2]\n"
          ]
        }
      ]
    },
    {
      "cell_type": "markdown",
      "source": [
        "### 원-핫 인코딩(One-Hot encoding)"
      ],
      "metadata": {
        "id": "9vPw1cnfQiIC"
      }
    },
    {
      "cell_type": "code",
      "source": [
        "from sklearn.preprocessing import OneHotEncoder\n",
        "\n",
        "# 먼저 숫자값으로 변환을 위해 LabelEncoder로 변환 \n",
        "encoder = LabelEncoder()\n",
        "labels = encoder.fit_transform(items)\n",
        "# 2차원 데이터로 변환 \n",
        "labels = labels.reshape(-1,1)\n",
        "\n",
        "# 원-핫 인코딩 적용\n",
        "oh_encoder = OneHotEncoder()\n",
        "oh_labels = oh_encoder.fit_transform(labels)\n",
        "print(items)\n",
        "print('원-핫 인코딩 데이터')\n",
        "print(oh_labels.toarray())\n",
        "print('원-핫 인코딩 데이터 차원')\n",
        "print(oh_labels.shape)"
      ],
      "metadata": {
        "colab": {
          "base_uri": "https://localhost:8080/"
        },
        "id": "5wHV4XStQid7",
        "outputId": "421b5ef1-4ad0-4237-e170-0ee284fc7587"
      },
      "execution_count": null,
      "outputs": [
        {
          "output_type": "stream",
          "name": "stdout",
          "text": [
            "['TV', '냉장고', '전자렌지', '컴퓨터', '선풍기', '선풍기', '믹서', '믹서']\n",
            "원-핫 인코딩 데이터\n",
            "[[1. 0. 0. 0. 0. 0.]\n",
            " [0. 1. 0. 0. 0. 0.]\n",
            " [0. 0. 0. 0. 1. 0.]\n",
            " [0. 0. 0. 0. 0. 1.]\n",
            " [0. 0. 0. 1. 0. 0.]\n",
            " [0. 0. 0. 1. 0. 0.]\n",
            " [0. 0. 1. 0. 0. 0.]\n",
            " [0. 0. 1. 0. 0. 0.]]\n",
            "원-핫 인코딩 데이터 차원\n",
            "(8, 6)\n"
          ]
        }
      ]
    },
    {
      "cell_type": "code",
      "source": [
        "drv = mpg['drv']\n",
        "print(drv.head(10))\n",
        "\n",
        "drv_dum = pd.get_dummies(drv)\n",
        "drv_dum.head(10)"
      ],
      "metadata": {
        "colab": {
          "base_uri": "https://localhost:8080/",
          "height": 571
        },
        "id": "OHrVlXFzQqPW",
        "outputId": "ca1e294f-1429-4b6d-abd4-0c9c5f3bcd27"
      },
      "execution_count": null,
      "outputs": [
        {
          "output_type": "stream",
          "name": "stdout",
          "text": [
            "0    f\n",
            "1    f\n",
            "2    f\n",
            "3    f\n",
            "4    f\n",
            "5    f\n",
            "6    f\n",
            "7    4\n",
            "8    4\n",
            "9    4\n",
            "Name: drv, dtype: object\n"
          ]
        },
        {
          "output_type": "execute_result",
          "data": {
            "text/plain": [
              "   4  f  r\n",
              "0  0  1  0\n",
              "1  0  1  0\n",
              "2  0  1  0\n",
              "3  0  1  0\n",
              "4  0  1  0\n",
              "5  0  1  0\n",
              "6  0  1  0\n",
              "7  1  0  0\n",
              "8  1  0  0\n",
              "9  1  0  0"
            ],
            "text/html": [
              "\n",
              "  <div id=\"df-ff5acf86-a974-4285-b7cf-501eb4de7e02\">\n",
              "    <div class=\"colab-df-container\">\n",
              "      <div>\n",
              "<style scoped>\n",
              "    .dataframe tbody tr th:only-of-type {\n",
              "        vertical-align: middle;\n",
              "    }\n",
              "\n",
              "    .dataframe tbody tr th {\n",
              "        vertical-align: top;\n",
              "    }\n",
              "\n",
              "    .dataframe thead th {\n",
              "        text-align: right;\n",
              "    }\n",
              "</style>\n",
              "<table border=\"1\" class=\"dataframe\">\n",
              "  <thead>\n",
              "    <tr style=\"text-align: right;\">\n",
              "      <th></th>\n",
              "      <th>4</th>\n",
              "      <th>f</th>\n",
              "      <th>r</th>\n",
              "    </tr>\n",
              "  </thead>\n",
              "  <tbody>\n",
              "    <tr>\n",
              "      <th>0</th>\n",
              "      <td>0</td>\n",
              "      <td>1</td>\n",
              "      <td>0</td>\n",
              "    </tr>\n",
              "    <tr>\n",
              "      <th>1</th>\n",
              "      <td>0</td>\n",
              "      <td>1</td>\n",
              "      <td>0</td>\n",
              "    </tr>\n",
              "    <tr>\n",
              "      <th>2</th>\n",
              "      <td>0</td>\n",
              "      <td>1</td>\n",
              "      <td>0</td>\n",
              "    </tr>\n",
              "    <tr>\n",
              "      <th>3</th>\n",
              "      <td>0</td>\n",
              "      <td>1</td>\n",
              "      <td>0</td>\n",
              "    </tr>\n",
              "    <tr>\n",
              "      <th>4</th>\n",
              "      <td>0</td>\n",
              "      <td>1</td>\n",
              "      <td>0</td>\n",
              "    </tr>\n",
              "    <tr>\n",
              "      <th>5</th>\n",
              "      <td>0</td>\n",
              "      <td>1</td>\n",
              "      <td>0</td>\n",
              "    </tr>\n",
              "    <tr>\n",
              "      <th>6</th>\n",
              "      <td>0</td>\n",
              "      <td>1</td>\n",
              "      <td>0</td>\n",
              "    </tr>\n",
              "    <tr>\n",
              "      <th>7</th>\n",
              "      <td>1</td>\n",
              "      <td>0</td>\n",
              "      <td>0</td>\n",
              "    </tr>\n",
              "    <tr>\n",
              "      <th>8</th>\n",
              "      <td>1</td>\n",
              "      <td>0</td>\n",
              "      <td>0</td>\n",
              "    </tr>\n",
              "    <tr>\n",
              "      <th>9</th>\n",
              "      <td>1</td>\n",
              "      <td>0</td>\n",
              "      <td>0</td>\n",
              "    </tr>\n",
              "  </tbody>\n",
              "</table>\n",
              "</div>\n",
              "      <button class=\"colab-df-convert\" onclick=\"convertToInteractive('df-ff5acf86-a974-4285-b7cf-501eb4de7e02')\"\n",
              "              title=\"Convert this dataframe to an interactive table.\"\n",
              "              style=\"display:none;\">\n",
              "        \n",
              "  <svg xmlns=\"http://www.w3.org/2000/svg\" height=\"24px\"viewBox=\"0 0 24 24\"\n",
              "       width=\"24px\">\n",
              "    <path d=\"M0 0h24v24H0V0z\" fill=\"none\"/>\n",
              "    <path d=\"M18.56 5.44l.94 2.06.94-2.06 2.06-.94-2.06-.94-.94-2.06-.94 2.06-2.06.94zm-11 1L8.5 8.5l.94-2.06 2.06-.94-2.06-.94L8.5 2.5l-.94 2.06-2.06.94zm10 10l.94 2.06.94-2.06 2.06-.94-2.06-.94-.94-2.06-.94 2.06-2.06.94z\"/><path d=\"M17.41 7.96l-1.37-1.37c-.4-.4-.92-.59-1.43-.59-.52 0-1.04.2-1.43.59L10.3 9.45l-7.72 7.72c-.78.78-.78 2.05 0 2.83L4 21.41c.39.39.9.59 1.41.59.51 0 1.02-.2 1.41-.59l7.78-7.78 2.81-2.81c.8-.78.8-2.07 0-2.86zM5.41 20L4 18.59l7.72-7.72 1.47 1.35L5.41 20z\"/>\n",
              "  </svg>\n",
              "      </button>\n",
              "      \n",
              "  <style>\n",
              "    .colab-df-container {\n",
              "      display:flex;\n",
              "      flex-wrap:wrap;\n",
              "      gap: 12px;\n",
              "    }\n",
              "\n",
              "    .colab-df-convert {\n",
              "      background-color: #E8F0FE;\n",
              "      border: none;\n",
              "      border-radius: 50%;\n",
              "      cursor: pointer;\n",
              "      display: none;\n",
              "      fill: #1967D2;\n",
              "      height: 32px;\n",
              "      padding: 0 0 0 0;\n",
              "      width: 32px;\n",
              "    }\n",
              "\n",
              "    .colab-df-convert:hover {\n",
              "      background-color: #E2EBFA;\n",
              "      box-shadow: 0px 1px 2px rgba(60, 64, 67, 0.3), 0px 1px 3px 1px rgba(60, 64, 67, 0.15);\n",
              "      fill: #174EA6;\n",
              "    }\n",
              "\n",
              "    [theme=dark] .colab-df-convert {\n",
              "      background-color: #3B4455;\n",
              "      fill: #D2E3FC;\n",
              "    }\n",
              "\n",
              "    [theme=dark] .colab-df-convert:hover {\n",
              "      background-color: #434B5C;\n",
              "      box-shadow: 0px 1px 3px 1px rgba(0, 0, 0, 0.15);\n",
              "      filter: drop-shadow(0px 1px 2px rgba(0, 0, 0, 0.3));\n",
              "      fill: #FFFFFF;\n",
              "    }\n",
              "  </style>\n",
              "\n",
              "      <script>\n",
              "        const buttonEl =\n",
              "          document.querySelector('#df-ff5acf86-a974-4285-b7cf-501eb4de7e02 button.colab-df-convert');\n",
              "        buttonEl.style.display =\n",
              "          google.colab.kernel.accessAllowed ? 'block' : 'none';\n",
              "\n",
              "        async function convertToInteractive(key) {\n",
              "          const element = document.querySelector('#df-ff5acf86-a974-4285-b7cf-501eb4de7e02');\n",
              "          const dataTable =\n",
              "            await google.colab.kernel.invokeFunction('convertToInteractive',\n",
              "                                                     [key], {});\n",
              "          if (!dataTable) return;\n",
              "\n",
              "          const docLinkHtml = 'Like what you see? Visit the ' +\n",
              "            '<a target=\"_blank\" href=https://colab.research.google.com/notebooks/data_table.ipynb>data table notebook</a>'\n",
              "            + ' to learn more about interactive tables.';\n",
              "          element.innerHTML = '';\n",
              "          dataTable['output_type'] = 'display_data';\n",
              "          await google.colab.output.renderOutput(dataTable, element);\n",
              "          const docLink = document.createElement('div');\n",
              "          docLink.innerHTML = docLinkHtml;\n",
              "          element.appendChild(docLink);\n",
              "        }\n",
              "      </script>\n",
              "    </div>\n",
              "  </div>\n",
              "  "
            ]
          },
          "metadata": {},
          "execution_count": 40
        }
      ]
    },
    {
      "cell_type": "markdown",
      "source": [
        "## 불균형 데이터셋(Imbalanced datasets)\n",
        "분류 문제에 있어 클래스 비중의 차이가 많이 나는 불균형 데이터의 경우 보정이 필요하다. \n",
        "* 한 클래스가 다른 클래스에 비해 훨씬 많을 경우 모델을 만들지 않아도 어느 정도 좋은 성능을 얻을 수 있다. \n",
        "* 모델 학습시에 클래스별로 가중치를 부여할 수 있다. (class_weight)\n"
      ],
      "metadata": {
        "id": "XofKEQfpQuBP"
      }
    },
    {
      "cell_type": "code",
      "source": [
        "!pip install imblearn"
      ],
      "metadata": {
        "colab": {
          "base_uri": "https://localhost:8080/"
        },
        "id": "dSPOUI7yQ2ur",
        "outputId": "80ca5ede-ec7e-4b74-d856-bfa196eb30c8"
      },
      "execution_count": null,
      "outputs": [
        {
          "output_type": "stream",
          "name": "stdout",
          "text": [
            "Looking in indexes: https://pypi.org/simple, https://us-python.pkg.dev/colab-wheels/public/simple/\n",
            "Requirement already satisfied: imblearn in /usr/local/lib/python3.7/dist-packages (0.0)\n",
            "Requirement already satisfied: imbalanced-learn in /usr/local/lib/python3.7/dist-packages (from imblearn) (0.8.1)\n",
            "Requirement already satisfied: joblib>=0.11 in /usr/local/lib/python3.7/dist-packages (from imbalanced-learn->imblearn) (1.2.0)\n",
            "Requirement already satisfied: numpy>=1.13.3 in /usr/local/lib/python3.7/dist-packages (from imbalanced-learn->imblearn) (1.21.6)\n",
            "Requirement already satisfied: scipy>=0.19.1 in /usr/local/lib/python3.7/dist-packages (from imbalanced-learn->imblearn) (1.7.3)\n",
            "Requirement already satisfied: scikit-learn>=0.24 in /usr/local/lib/python3.7/dist-packages (from imbalanced-learn->imblearn) (1.0.2)\n",
            "Requirement already satisfied: threadpoolctl>=2.0.0 in /usr/local/lib/python3.7/dist-packages (from scikit-learn>=0.24->imbalanced-learn->imblearn) (3.1.0)\n"
          ]
        }
      ]
    },
    {
      "cell_type": "code",
      "source": [
        "# 데이터셋 설정 (Universal Bank에서 대출 캠페인에 반응한 사람)\n",
        "# Universal Bank에서 대출 캠페인에 반응한 사람 (종속: Personal Loan, index 7)\n",
        "\n",
        "df_bank = pd.read_csv(\"/content/drive/MyDrive/Colab Notebooks/ITB/UniversalBank.csv\")\n",
        "display(df_bank.info())\n",
        "print(df_bank['PersonalLoan'].value_counts())\n",
        "\n",
        "y = df_bank['PersonalLoan']\n",
        "X = df_bank.drop('PersonalLoan', axis =1)\n",
        "display(X.columns)"
      ],
      "metadata": {
        "colab": {
          "base_uri": "https://localhost:8080/",
          "height": 510
        },
        "id": "HcMfHVCTQ5N8",
        "outputId": "41c9aa3e-767d-4b00-889d-be022e968c17"
      },
      "execution_count": null,
      "outputs": [
        {
          "output_type": "stream",
          "name": "stdout",
          "text": [
            "<class 'pandas.core.frame.DataFrame'>\n",
            "RangeIndex: 5000 entries, 0 to 4999\n",
            "Data columns (total 12 columns):\n",
            " #   Column             Non-Null Count  Dtype  \n",
            "---  ------             --------------  -----  \n",
            " 0   Age                5000 non-null   int64  \n",
            " 1   Experience         5000 non-null   int64  \n",
            " 2   Income             5000 non-null   int64  \n",
            " 3   Family             5000 non-null   int64  \n",
            " 4   CCAvg              5000 non-null   float64\n",
            " 5   Education          5000 non-null   int64  \n",
            " 6   Mortgage           5000 non-null   int64  \n",
            " 7   PersonalLoan       5000 non-null   int64  \n",
            " 8   SecuritiesAccount  5000 non-null   int64  \n",
            " 9   CDAccount          5000 non-null   int64  \n",
            " 10  Online             5000 non-null   int64  \n",
            " 11  CreditCard         5000 non-null   int64  \n",
            "dtypes: float64(1), int64(11)\n",
            "memory usage: 468.9 KB\n"
          ]
        },
        {
          "output_type": "display_data",
          "data": {
            "text/plain": [
              "None"
            ]
          },
          "metadata": {}
        },
        {
          "output_type": "stream",
          "name": "stdout",
          "text": [
            "0    4520\n",
            "1     480\n",
            "Name: PersonalLoan, dtype: int64\n"
          ]
        },
        {
          "output_type": "display_data",
          "data": {
            "text/plain": [
              "Index(['Age', 'Experience', 'Income', 'Family', 'CCAvg', 'Education',\n",
              "       'Mortgage', 'SecuritiesAccount', 'CDAccount', 'Online', 'CreditCard'],\n",
              "      dtype='object')"
            ]
          },
          "metadata": {}
        }
      ]
    },
    {
      "cell_type": "code",
      "source": [
        "from imblearn.under_sampling import RandomUnderSampler\n",
        "from imblearn.over_sampling import SMOTE # oversampling에서 많이 사용되는 알고리즘\n",
        "\n",
        "Under= RandomUnderSampler(random_state=0)\n",
        "X_under, y_under = Under.fit_resample(X, y)\n",
        "print(y_under.value_counts(()))\n",
        "\n",
        "Over = SMOTE(random_state=0)\n",
        "X_over, y_over = Over.fit_resample(X, y)\n",
        "print(y_over.value_counts(()))\n"
      ],
      "metadata": {
        "colab": {
          "base_uri": "https://localhost:8080/"
        },
        "id": "RZNEeiuWQ-oH",
        "outputId": "ec5112e6-b60f-4bd0-f067-fc4968944bda"
      },
      "execution_count": null,
      "outputs": [
        {
          "output_type": "stream",
          "name": "stdout",
          "text": [
            "0    480\n",
            "1    480\n",
            "Name: PersonalLoan, dtype: int64\n",
            "0    4520\n",
            "1    4520\n",
            "Name: PersonalLoan, dtype: int64\n"
          ]
        }
      ]
    },
    {
      "cell_type": "markdown",
      "source": [
        "### 모델에서 처리  \n",
        "- 모델 생성시 class_weight = \"balanced\" 또는 {\"클래스1\":0.8, \"클래스2\":0.2} 등으로 지정 가능"
      ],
      "metadata": {
        "id": "dNUSspEjRFq6"
      }
    },
    {
      "cell_type": "code",
      "source": [
        "from sklearn.tree import DecisionTreeClassifier\n",
        "\n",
        "# 가중치\n",
        "weights = {0: 0.8, 1: 0.2}\n",
        "\n",
        "# 가중치를 부여한 의사결정나무 만들기 (기본적으로 class_weight =None)\n",
        "dt = DecisionTreeClassifier(class_weight=weights, random_state=0)\n",
        "dt.fit(X, y)"
      ],
      "metadata": {
        "colab": {
          "base_uri": "https://localhost:8080/"
        },
        "id": "J_0zobp8Qw3_",
        "outputId": "a69b8025-9785-4736-8f17-576852b9118a"
      },
      "execution_count": null,
      "outputs": [
        {
          "output_type": "execute_result",
          "data": {
            "text/plain": [
              "DecisionTreeClassifier(class_weight={0: 0.8, 1: 0.2}, random_state=0)"
            ]
          },
          "metadata": {},
          "execution_count": 48
        }
      ]
    },
    {
      "cell_type": "code",
      "source": [
        "# 균형잡힌 클래스 가중치로 랜덤 포레스트 모델을 학습\n",
        "dt2 = DecisionTreeClassifier(class_weight=\"balanced\",random_state=0)\n",
        "dt2.fit(X, y)"
      ],
      "metadata": {
        "colab": {
          "base_uri": "https://localhost:8080/"
        },
        "id": "_DyBr9UdQy9h",
        "outputId": "240b1c14-fbb9-41c8-8757-3e5903a68eac"
      },
      "execution_count": null,
      "outputs": [
        {
          "output_type": "execute_result",
          "data": {
            "text/plain": [
              "DecisionTreeClassifier(class_weight='balanced', random_state=0)"
            ]
          },
          "metadata": {},
          "execution_count": 49
        }
      ]
    }
  ]
}